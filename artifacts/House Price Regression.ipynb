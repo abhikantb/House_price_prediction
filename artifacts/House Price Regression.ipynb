{
 "cells": [
  {
   "cell_type": "code",
   "execution_count": 2,
   "id": "3a2c1297",
   "metadata": {},
   "outputs": [],
   "source": [
    "import pandas as pd\n",
    "import numpy as np\n",
    "import matplotlib.pyplot as plt\n",
    "%matplotlib inline\n",
    "import seaborn as sns"
   ]
  },
  {
   "cell_type": "code",
   "execution_count": 3,
   "id": "a744e6d3",
   "metadata": {},
   "outputs": [
    {
     "data": {
      "text/html": [
       "<div>\n",
       "<style scoped>\n",
       "    .dataframe tbody tr th:only-of-type {\n",
       "        vertical-align: middle;\n",
       "    }\n",
       "\n",
       "    .dataframe tbody tr th {\n",
       "        vertical-align: top;\n",
       "    }\n",
       "\n",
       "    .dataframe thead th {\n",
       "        text-align: right;\n",
       "    }\n",
       "</style>\n",
       "<table border=\"1\" class=\"dataframe\">\n",
       "  <thead>\n",
       "    <tr style=\"text-align: right;\">\n",
       "      <th></th>\n",
       "      <th>No</th>\n",
       "      <th>X1 transaction date</th>\n",
       "      <th>X2 house age</th>\n",
       "      <th>X3 distance to the nearest MRT station</th>\n",
       "      <th>X4 number of convenience stores</th>\n",
       "      <th>X5 latitude</th>\n",
       "      <th>X6 longitude</th>\n",
       "      <th>Y house price of unit area</th>\n",
       "    </tr>\n",
       "  </thead>\n",
       "  <tbody>\n",
       "    <tr>\n",
       "      <th>0</th>\n",
       "      <td>1</td>\n",
       "      <td>2012.917</td>\n",
       "      <td>32.0</td>\n",
       "      <td>84.87882</td>\n",
       "      <td>10</td>\n",
       "      <td>24.98298</td>\n",
       "      <td>121.54024</td>\n",
       "      <td>37.9</td>\n",
       "    </tr>\n",
       "    <tr>\n",
       "      <th>1</th>\n",
       "      <td>2</td>\n",
       "      <td>2012.917</td>\n",
       "      <td>19.5</td>\n",
       "      <td>306.59470</td>\n",
       "      <td>9</td>\n",
       "      <td>24.98034</td>\n",
       "      <td>121.53951</td>\n",
       "      <td>42.2</td>\n",
       "    </tr>\n",
       "    <tr>\n",
       "      <th>2</th>\n",
       "      <td>3</td>\n",
       "      <td>2013.583</td>\n",
       "      <td>13.3</td>\n",
       "      <td>561.98450</td>\n",
       "      <td>5</td>\n",
       "      <td>24.98746</td>\n",
       "      <td>121.54391</td>\n",
       "      <td>47.3</td>\n",
       "    </tr>\n",
       "    <tr>\n",
       "      <th>3</th>\n",
       "      <td>4</td>\n",
       "      <td>2013.500</td>\n",
       "      <td>13.3</td>\n",
       "      <td>561.98450</td>\n",
       "      <td>5</td>\n",
       "      <td>24.98746</td>\n",
       "      <td>121.54391</td>\n",
       "      <td>54.8</td>\n",
       "    </tr>\n",
       "    <tr>\n",
       "      <th>4</th>\n",
       "      <td>5</td>\n",
       "      <td>2012.833</td>\n",
       "      <td>5.0</td>\n",
       "      <td>390.56840</td>\n",
       "      <td>5</td>\n",
       "      <td>24.97937</td>\n",
       "      <td>121.54245</td>\n",
       "      <td>43.1</td>\n",
       "    </tr>\n",
       "    <tr>\n",
       "      <th>...</th>\n",
       "      <td>...</td>\n",
       "      <td>...</td>\n",
       "      <td>...</td>\n",
       "      <td>...</td>\n",
       "      <td>...</td>\n",
       "      <td>...</td>\n",
       "      <td>...</td>\n",
       "      <td>...</td>\n",
       "    </tr>\n",
       "    <tr>\n",
       "      <th>409</th>\n",
       "      <td>410</td>\n",
       "      <td>2013.000</td>\n",
       "      <td>13.7</td>\n",
       "      <td>4082.01500</td>\n",
       "      <td>0</td>\n",
       "      <td>24.94155</td>\n",
       "      <td>121.50381</td>\n",
       "      <td>15.4</td>\n",
       "    </tr>\n",
       "    <tr>\n",
       "      <th>410</th>\n",
       "      <td>411</td>\n",
       "      <td>2012.667</td>\n",
       "      <td>5.6</td>\n",
       "      <td>90.45606</td>\n",
       "      <td>9</td>\n",
       "      <td>24.97433</td>\n",
       "      <td>121.54310</td>\n",
       "      <td>50.0</td>\n",
       "    </tr>\n",
       "    <tr>\n",
       "      <th>411</th>\n",
       "      <td>412</td>\n",
       "      <td>2013.250</td>\n",
       "      <td>18.8</td>\n",
       "      <td>390.96960</td>\n",
       "      <td>7</td>\n",
       "      <td>24.97923</td>\n",
       "      <td>121.53986</td>\n",
       "      <td>40.6</td>\n",
       "    </tr>\n",
       "    <tr>\n",
       "      <th>412</th>\n",
       "      <td>413</td>\n",
       "      <td>2013.000</td>\n",
       "      <td>8.1</td>\n",
       "      <td>104.81010</td>\n",
       "      <td>5</td>\n",
       "      <td>24.96674</td>\n",
       "      <td>121.54067</td>\n",
       "      <td>52.5</td>\n",
       "    </tr>\n",
       "    <tr>\n",
       "      <th>413</th>\n",
       "      <td>414</td>\n",
       "      <td>2013.500</td>\n",
       "      <td>6.5</td>\n",
       "      <td>90.45606</td>\n",
       "      <td>9</td>\n",
       "      <td>24.97433</td>\n",
       "      <td>121.54310</td>\n",
       "      <td>63.9</td>\n",
       "    </tr>\n",
       "  </tbody>\n",
       "</table>\n",
       "<p>414 rows × 8 columns</p>\n",
       "</div>"
      ],
      "text/plain": [
       "      No  X1 transaction date  X2 house age  \\\n",
       "0      1             2012.917          32.0   \n",
       "1      2             2012.917          19.5   \n",
       "2      3             2013.583          13.3   \n",
       "3      4             2013.500          13.3   \n",
       "4      5             2012.833           5.0   \n",
       "..   ...                  ...           ...   \n",
       "409  410             2013.000          13.7   \n",
       "410  411             2012.667           5.6   \n",
       "411  412             2013.250          18.8   \n",
       "412  413             2013.000           8.1   \n",
       "413  414             2013.500           6.5   \n",
       "\n",
       "     X3 distance to the nearest MRT station  X4 number of convenience stores  \\\n",
       "0                                  84.87882                               10   \n",
       "1                                 306.59470                                9   \n",
       "2                                 561.98450                                5   \n",
       "3                                 561.98450                                5   \n",
       "4                                 390.56840                                5   \n",
       "..                                      ...                              ...   \n",
       "409                              4082.01500                                0   \n",
       "410                                90.45606                                9   \n",
       "411                               390.96960                                7   \n",
       "412                               104.81010                                5   \n",
       "413                                90.45606                                9   \n",
       "\n",
       "     X5 latitude  X6 longitude  Y house price of unit area  \n",
       "0       24.98298     121.54024                        37.9  \n",
       "1       24.98034     121.53951                        42.2  \n",
       "2       24.98746     121.54391                        47.3  \n",
       "3       24.98746     121.54391                        54.8  \n",
       "4       24.97937     121.54245                        43.1  \n",
       "..           ...           ...                         ...  \n",
       "409     24.94155     121.50381                        15.4  \n",
       "410     24.97433     121.54310                        50.0  \n",
       "411     24.97923     121.53986                        40.6  \n",
       "412     24.96674     121.54067                        52.5  \n",
       "413     24.97433     121.54310                        63.9  \n",
       "\n",
       "[414 rows x 8 columns]"
      ]
     },
     "execution_count": 3,
     "metadata": {},
     "output_type": "execute_result"
    }
   ],
   "source": [
    "df=pd.read_csv('C:\\Data science\\Abhikant Practice\\Datasets\\Real estate.csv')\n",
    "df"
   ]
  },
  {
   "cell_type": "code",
   "execution_count": 4,
   "id": "4da3470b",
   "metadata": {},
   "outputs": [],
   "source": [
    "df.drop('No',axis=1,inplace=True)"
   ]
  },
  {
   "cell_type": "code",
   "execution_count": 8,
   "id": "64d0ff26",
   "metadata": {},
   "outputs": [
    {
     "data": {
      "text/plain": [
       "<AxesSubplot:>"
      ]
     },
     "execution_count": 8,
     "metadata": {},
     "output_type": "execute_result"
    },
    {
     "data": {
      "image/png": "[encoded data removed]",
      "text/plain": [
       "<Figure size 432x288 with 2 Axes>"
      ]
     },
     "metadata": {
      "needs_background": "light"
     },
     "output_type": "display_data"
    }
   ],
   "source": [
    "sns.heatmap(df.corr(),annot=True,cmap='Blues')"
   ]
  },
  {
   "cell_type": "code",
   "execution_count": 5,
   "id": "767e1097",
   "metadata": {},
   "outputs": [],
   "source": [
    "df.drop('X1 transaction date',axis=1,inplace=True)"
   ]
  },
  {
   "cell_type": "code",
   "execution_count": 11,
   "id": "7dcc74c3",
   "metadata": {},
   "outputs": [
    {
     "data": {
      "application/vnd.jupyter.widget-view+json": {
       "model_id": "0988a9cb563d46b985007c04e56be4b7",
       "version_major": 2,
       "version_minor": 0
      },
      "text/plain": [
       "Summarize dataset:   0%|          | 0/5 [00:00<?, ?it/s]"
      ]
     },
     "metadata": {},
     "output_type": "display_data"
    },
    {
     "data": {
      "application/vnd.jupyter.widget-view+json": {
       "model_id": "4e3a4df6a5274b1caac1db5068c3cdba",
       "version_major": 2,
       "version_minor": 0
      },
      "text/plain": [
       "Generate report structure:   0%|          | 0/1 [00:00<?, ?it/s]"
      ]
     },
     "metadata": {},
     "output_type": "display_data"
    },
    {
     "data": {
      "application/vnd.jupyter.widget-view+json": {
       "model_id": "965c59a6c3014fb09d23c27df5d3266f",
       "version_major": 2,
       "version_minor": 0
      },
      "text/plain": [
       "Render HTML:   0%|          | 0/1 [00:00<?, ?it/s]"
      ]
     },
     "metadata": {},
     "output_type": "display_data"
    },
    {
     "data": {
      "application/vnd.jupyter.widget-view+json": {
       "model_id": "3b2603fef2014b47b1097faa05574560",
       "version_major": 2,
       "version_minor": 0
      },
      "text/plain": [
       "Export report to file:   0%|          | 0/1 [00:00<?, ?it/s]"
      ]
     },
     "metadata": {},
     "output_type": "display_data"
    }
   ],
   "source": [
    "from pandas_profiling import ProfileReport\n",
    "pr=ProfileReport(df,explorative=True)\n",
    "pr.to_file('house_price.html')"
   ]
  },
  {
   "cell_type": "code",
   "execution_count": 12,
   "id": "e8ade9e5",
   "metadata": {},
   "outputs": [
    {
     "data": {
      "text/html": [
       "<div>\n",
       "<style scoped>\n",
       "    .dataframe tbody tr th:only-of-type {\n",
       "        vertical-align: middle;\n",
       "    }\n",
       "\n",
       "    .dataframe tbody tr th {\n",
       "        vertical-align: top;\n",
       "    }\n",
       "\n",
       "    .dataframe thead th {\n",
       "        text-align: right;\n",
       "    }\n",
       "</style>\n",
       "<table border=\"1\" class=\"dataframe\">\n",
       "  <thead>\n",
       "    <tr style=\"text-align: right;\">\n",
       "      <th></th>\n",
       "      <th>X2 house age</th>\n",
       "      <th>X3 distance to the nearest MRT station</th>\n",
       "      <th>X4 number of convenience stores</th>\n",
       "      <th>X5 latitude</th>\n",
       "      <th>X6 longitude</th>\n",
       "      <th>Y house price of unit area</th>\n",
       "    </tr>\n",
       "  </thead>\n",
       "  <tbody>\n",
       "    <tr>\n",
       "      <th>count</th>\n",
       "      <td>414.000000</td>\n",
       "      <td>414.000000</td>\n",
       "      <td>414.000000</td>\n",
       "      <td>414.000000</td>\n",
       "      <td>414.000000</td>\n",
       "      <td>414.000000</td>\n",
       "    </tr>\n",
       "    <tr>\n",
       "      <th>mean</th>\n",
       "      <td>17.712560</td>\n",
       "      <td>1083.885689</td>\n",
       "      <td>4.094203</td>\n",
       "      <td>24.969030</td>\n",
       "      <td>121.533361</td>\n",
       "      <td>37.980193</td>\n",
       "    </tr>\n",
       "    <tr>\n",
       "      <th>std</th>\n",
       "      <td>11.392485</td>\n",
       "      <td>1262.109595</td>\n",
       "      <td>2.945562</td>\n",
       "      <td>0.012410</td>\n",
       "      <td>0.015347</td>\n",
       "      <td>13.606488</td>\n",
       "    </tr>\n",
       "    <tr>\n",
       "      <th>min</th>\n",
       "      <td>0.000000</td>\n",
       "      <td>23.382840</td>\n",
       "      <td>0.000000</td>\n",
       "      <td>24.932070</td>\n",
       "      <td>121.473530</td>\n",
       "      <td>7.600000</td>\n",
       "    </tr>\n",
       "    <tr>\n",
       "      <th>25%</th>\n",
       "      <td>9.025000</td>\n",
       "      <td>289.324800</td>\n",
       "      <td>1.000000</td>\n",
       "      <td>24.963000</td>\n",
       "      <td>121.528085</td>\n",
       "      <td>27.700000</td>\n",
       "    </tr>\n",
       "    <tr>\n",
       "      <th>50%</th>\n",
       "      <td>16.100000</td>\n",
       "      <td>492.231300</td>\n",
       "      <td>4.000000</td>\n",
       "      <td>24.971100</td>\n",
       "      <td>121.538630</td>\n",
       "      <td>38.450000</td>\n",
       "    </tr>\n",
       "    <tr>\n",
       "      <th>75%</th>\n",
       "      <td>28.150000</td>\n",
       "      <td>1454.279000</td>\n",
       "      <td>6.000000</td>\n",
       "      <td>24.977455</td>\n",
       "      <td>121.543305</td>\n",
       "      <td>46.600000</td>\n",
       "    </tr>\n",
       "    <tr>\n",
       "      <th>max</th>\n",
       "      <td>43.800000</td>\n",
       "      <td>6488.021000</td>\n",
       "      <td>10.000000</td>\n",
       "      <td>25.014590</td>\n",
       "      <td>121.566270</td>\n",
       "      <td>117.500000</td>\n",
       "    </tr>\n",
       "  </tbody>\n",
       "</table>\n",
       "</div>"
      ],
      "text/plain": [
       "       X2 house age  X3 distance to the nearest MRT station  \\\n",
       "count    414.000000                              414.000000   \n",
       "mean      17.712560                             1083.885689   \n",
       "std       11.392485                             1262.109595   \n",
       "min        0.000000                               23.382840   \n",
       "25%        9.025000                              289.324800   \n",
       "50%       16.100000                              492.231300   \n",
       "75%       28.150000                             1454.279000   \n",
       "max       43.800000                             6488.021000   \n",
       "\n",
       "       X4 number of convenience stores  X5 latitude  X6 longitude  \\\n",
       "count                       414.000000   414.000000    414.000000   \n",
       "mean                          4.094203    24.969030    121.533361   \n",
       "std                           2.945562     0.012410      0.015347   \n",
       "min                           0.000000    24.932070    121.473530   \n",
       "25%                           1.000000    24.963000    121.528085   \n",
       "50%                           4.000000    24.971100    121.538630   \n",
       "75%                           6.000000    24.977455    121.543305   \n",
       "max                          10.000000    25.014590    121.566270   \n",
       "\n",
       "       Y house price of unit area  \n",
       "count                  414.000000  \n",
       "mean                    37.980193  \n",
       "std                     13.606488  \n",
       "min                      7.600000  \n",
       "25%                     27.700000  \n",
       "50%                     38.450000  \n",
       "75%                     46.600000  \n",
       "max                    117.500000  "
      ]
     },
     "execution_count": 12,
     "metadata": {},
     "output_type": "execute_result"
    }
   ],
   "source": [
    "df.describe()"
   ]
  },
  {
   "cell_type": "code",
   "execution_count": 13,
   "id": "486cfbcb",
   "metadata": {},
   "outputs": [
    {
     "name": "stdout",
     "output_type": "stream",
     "text": [
      "<class 'pandas.core.frame.DataFrame'>\n",
      "RangeIndex: 414 entries, 0 to 413\n",
      "Data columns (total 6 columns):\n",
      " #   Column                                  Non-Null Count  Dtype  \n",
      "---  ------                                  --------------  -----  \n",
      " 0   X2 house age                            414 non-null    float64\n",
      " 1   X3 distance to the nearest MRT station  414 non-null    float64\n",
      " 2   X4 number of convenience stores         414 non-null    int64  \n",
      " 3   X5 latitude                             414 non-null    float64\n",
      " 4   X6 longitude                            414 non-null    float64\n",
      " 5   Y house price of unit area              414 non-null    float64\n",
      "dtypes: float64(5), int64(1)\n",
      "memory usage: 19.5 KB\n"
     ]
    }
   ],
   "source": [
    "df.info()"
   ]
  },
  {
   "cell_type": "code",
   "execution_count": 19,
   "id": "f037ef3e",
   "metadata": {},
   "outputs": [
    {
     "name": "stderr",
     "output_type": "stream",
     "text": [
      "C:\\Users\\HOME\\AppData\\Local\\Programs\\Python\\Python310\\lib\\site-packages\\seaborn\\_decorators.py:36: FutureWarning: Pass the following variable as a keyword arg: x. From version 0.12, the only valid positional argument will be `data`, and passing other arguments without an explicit keyword will result in an error or misinterpretation.\n",
      "  warnings.warn(\n"
     ]
    },
    {
     "data": {
      "text/plain": [
       "<AxesSubplot:xlabel='X3 distance to the nearest MRT station'>"
      ]
     },
     "execution_count": 19,
     "metadata": {},
     "output_type": "execute_result"
    },
    {
     "data": {
      "image/png": "[encoded data removed]",
      "text/plain": [
       "<Figure size 432x288 with 1 Axes>"
      ]
     },
     "metadata": {
      "needs_background": "light"
     },
     "output_type": "display_data"
    }
   ],
   "source": [
    "sns.boxplot(df['X3 distance to the nearest MRT station'])"
   ]
  },
  {
   "cell_type": "code",
   "execution_count": 21,
   "id": "912d8fda",
   "metadata": {},
   "outputs": [
    {
     "data": {
      "text/html": [
       "<div>\n",
       "<style scoped>\n",
       "    .dataframe tbody tr th:only-of-type {\n",
       "        vertical-align: middle;\n",
       "    }\n",
       "\n",
       "    .dataframe tbody tr th {\n",
       "        vertical-align: top;\n",
       "    }\n",
       "\n",
       "    .dataframe thead th {\n",
       "        text-align: right;\n",
       "    }\n",
       "</style>\n",
       "<table border=\"1\" class=\"dataframe\">\n",
       "  <thead>\n",
       "    <tr style=\"text-align: right;\">\n",
       "      <th></th>\n",
       "      <th>X2 house age</th>\n",
       "      <th>X3 distance to the nearest MRT station</th>\n",
       "      <th>X4 number of convenience stores</th>\n",
       "      <th>X5 latitude</th>\n",
       "      <th>X6 longitude</th>\n",
       "      <th>Y house price of unit area</th>\n",
       "    </tr>\n",
       "  </thead>\n",
       "  <tbody>\n",
       "    <tr>\n",
       "      <th>8</th>\n",
       "      <td>31.7</td>\n",
       "      <td>5512.038</td>\n",
       "      <td>1</td>\n",
       "      <td>24.95095</td>\n",
       "      <td>121.48458</td>\n",
       "      <td>18.8</td>\n",
       "    </tr>\n",
       "    <tr>\n",
       "      <th>30</th>\n",
       "      <td>25.9</td>\n",
       "      <td>4519.690</td>\n",
       "      <td>0</td>\n",
       "      <td>24.94826</td>\n",
       "      <td>121.49587</td>\n",
       "      <td>22.1</td>\n",
       "    </tr>\n",
       "    <tr>\n",
       "      <th>48</th>\n",
       "      <td>24.2</td>\n",
       "      <td>4605.749</td>\n",
       "      <td>0</td>\n",
       "      <td>24.94684</td>\n",
       "      <td>121.49578</td>\n",
       "      <td>13.4</td>\n",
       "    </tr>\n",
       "    <tr>\n",
       "      <th>49</th>\n",
       "      <td>29.4</td>\n",
       "      <td>4510.359</td>\n",
       "      <td>1</td>\n",
       "      <td>24.94925</td>\n",
       "      <td>121.49542</td>\n",
       "      <td>13.2</td>\n",
       "    </tr>\n",
       "    <tr>\n",
       "      <th>58</th>\n",
       "      <td>30.3</td>\n",
       "      <td>4510.359</td>\n",
       "      <td>1</td>\n",
       "      <td>24.94925</td>\n",
       "      <td>121.49542</td>\n",
       "      <td>22.6</td>\n",
       "    </tr>\n",
       "    <tr>\n",
       "      <th>116</th>\n",
       "      <td>30.9</td>\n",
       "      <td>6396.283</td>\n",
       "      <td>1</td>\n",
       "      <td>24.94375</td>\n",
       "      <td>121.47883</td>\n",
       "      <td>12.2</td>\n",
       "    </tr>\n",
       "    <tr>\n",
       "      <th>170</th>\n",
       "      <td>24.0</td>\n",
       "      <td>4527.687</td>\n",
       "      <td>0</td>\n",
       "      <td>24.94741</td>\n",
       "      <td>121.49628</td>\n",
       "      <td>14.4</td>\n",
       "    </tr>\n",
       "    <tr>\n",
       "      <th>176</th>\n",
       "      <td>13.9</td>\n",
       "      <td>4573.779</td>\n",
       "      <td>0</td>\n",
       "      <td>24.94867</td>\n",
       "      <td>121.49507</td>\n",
       "      <td>19.2</td>\n",
       "    </tr>\n",
       "    <tr>\n",
       "      <th>249</th>\n",
       "      <td>18.0</td>\n",
       "      <td>6306.153</td>\n",
       "      <td>1</td>\n",
       "      <td>24.95743</td>\n",
       "      <td>121.47516</td>\n",
       "      <td>15.0</td>\n",
       "    </tr>\n",
       "    <tr>\n",
       "      <th>255</th>\n",
       "      <td>31.5</td>\n",
       "      <td>5512.038</td>\n",
       "      <td>1</td>\n",
       "      <td>24.95095</td>\n",
       "      <td>121.48458</td>\n",
       "      <td>17.4</td>\n",
       "    </tr>\n",
       "    <tr>\n",
       "      <th>331</th>\n",
       "      <td>25.6</td>\n",
       "      <td>4519.690</td>\n",
       "      <td>0</td>\n",
       "      <td>24.94826</td>\n",
       "      <td>121.49587</td>\n",
       "      <td>15.6</td>\n",
       "    </tr>\n",
       "    <tr>\n",
       "      <th>347</th>\n",
       "      <td>17.4</td>\n",
       "      <td>6488.021</td>\n",
       "      <td>1</td>\n",
       "      <td>24.95719</td>\n",
       "      <td>121.47353</td>\n",
       "      <td>11.2</td>\n",
       "    </tr>\n",
       "  </tbody>\n",
       "</table>\n",
       "</div>"
      ],
      "text/plain": [
       "     X2 house age  X3 distance to the nearest MRT station  \\\n",
       "8            31.7                                5512.038   \n",
       "30           25.9                                4519.690   \n",
       "48           24.2                                4605.749   \n",
       "49           29.4                                4510.359   \n",
       "58           30.3                                4510.359   \n",
       "116          30.9                                6396.283   \n",
       "170          24.0                                4527.687   \n",
       "176          13.9                                4573.779   \n",
       "249          18.0                                6306.153   \n",
       "255          31.5                                5512.038   \n",
       "331          25.6                                4519.690   \n",
       "347          17.4                                6488.021   \n",
       "\n",
       "     X4 number of convenience stores  X5 latitude  X6 longitude  \\\n",
       "8                                  1     24.95095     121.48458   \n",
       "30                                 0     24.94826     121.49587   \n",
       "48                                 0     24.94684     121.49578   \n",
       "49                                 1     24.94925     121.49542   \n",
       "58                                 1     24.94925     121.49542   \n",
       "116                                1     24.94375     121.47883   \n",
       "170                                0     24.94741     121.49628   \n",
       "176                                0     24.94867     121.49507   \n",
       "249                                1     24.95743     121.47516   \n",
       "255                                1     24.95095     121.48458   \n",
       "331                                0     24.94826     121.49587   \n",
       "347                                1     24.95719     121.47353   \n",
       "\n",
       "     Y house price of unit area  \n",
       "8                          18.8  \n",
       "30                         22.1  \n",
       "48                         13.4  \n",
       "49                         13.2  \n",
       "58                         22.6  \n",
       "116                        12.2  \n",
       "170                        14.4  \n",
       "176                        19.2  \n",
       "249                        15.0  \n",
       "255                        17.4  \n",
       "331                        15.6  \n",
       "347                        11.2  "
      ]
     },
     "execution_count": 21,
     "metadata": {},
     "output_type": "execute_result"
    }
   ],
   "source": [
    "df[df['X3 distance to the nearest MRT station']>4500]"
   ]
  },
  {
   "cell_type": "code",
   "execution_count": 6,
   "id": "af2bf444",
   "metadata": {
    "scrolled": true
   },
   "outputs": [
    {
     "data": {
      "text/html": [
       "<div>\n",
       "<style scoped>\n",
       "    .dataframe tbody tr th:only-of-type {\n",
       "        vertical-align: middle;\n",
       "    }\n",
       "\n",
       "    .dataframe tbody tr th {\n",
       "        vertical-align: top;\n",
       "    }\n",
       "\n",
       "    .dataframe thead th {\n",
       "        text-align: right;\n",
       "    }\n",
       "</style>\n",
       "<table border=\"1\" class=\"dataframe\">\n",
       "  <thead>\n",
       "    <tr style=\"text-align: right;\">\n",
       "      <th></th>\n",
       "      <th>X2 house age</th>\n",
       "      <th>X3 distance to the nearest MRT station</th>\n",
       "      <th>X4 number of convenience stores</th>\n",
       "      <th>X5 latitude</th>\n",
       "      <th>X6 longitude</th>\n",
       "    </tr>\n",
       "  </thead>\n",
       "  <tbody>\n",
       "    <tr>\n",
       "      <th>0</th>\n",
       "      <td>32.0</td>\n",
       "      <td>84.87882</td>\n",
       "      <td>10</td>\n",
       "      <td>24.98298</td>\n",
       "      <td>121.54024</td>\n",
       "    </tr>\n",
       "    <tr>\n",
       "      <th>1</th>\n",
       "      <td>19.5</td>\n",
       "      <td>306.59470</td>\n",
       "      <td>9</td>\n",
       "      <td>24.98034</td>\n",
       "      <td>121.53951</td>\n",
       "    </tr>\n",
       "    <tr>\n",
       "      <th>2</th>\n",
       "      <td>13.3</td>\n",
       "      <td>561.98450</td>\n",
       "      <td>5</td>\n",
       "      <td>24.98746</td>\n",
       "      <td>121.54391</td>\n",
       "    </tr>\n",
       "    <tr>\n",
       "      <th>3</th>\n",
       "      <td>13.3</td>\n",
       "      <td>561.98450</td>\n",
       "      <td>5</td>\n",
       "      <td>24.98746</td>\n",
       "      <td>121.54391</td>\n",
       "    </tr>\n",
       "    <tr>\n",
       "      <th>4</th>\n",
       "      <td>5.0</td>\n",
       "      <td>390.56840</td>\n",
       "      <td>5</td>\n",
       "      <td>24.97937</td>\n",
       "      <td>121.54245</td>\n",
       "    </tr>\n",
       "    <tr>\n",
       "      <th>...</th>\n",
       "      <td>...</td>\n",
       "      <td>...</td>\n",
       "      <td>...</td>\n",
       "      <td>...</td>\n",
       "      <td>...</td>\n",
       "    </tr>\n",
       "    <tr>\n",
       "      <th>409</th>\n",
       "      <td>13.7</td>\n",
       "      <td>4082.01500</td>\n",
       "      <td>0</td>\n",
       "      <td>24.94155</td>\n",
       "      <td>121.50381</td>\n",
       "    </tr>\n",
       "    <tr>\n",
       "      <th>410</th>\n",
       "      <td>5.6</td>\n",
       "      <td>90.45606</td>\n",
       "      <td>9</td>\n",
       "      <td>24.97433</td>\n",
       "      <td>121.54310</td>\n",
       "    </tr>\n",
       "    <tr>\n",
       "      <th>411</th>\n",
       "      <td>18.8</td>\n",
       "      <td>390.96960</td>\n",
       "      <td>7</td>\n",
       "      <td>24.97923</td>\n",
       "      <td>121.53986</td>\n",
       "    </tr>\n",
       "    <tr>\n",
       "      <th>412</th>\n",
       "      <td>8.1</td>\n",
       "      <td>104.81010</td>\n",
       "      <td>5</td>\n",
       "      <td>24.96674</td>\n",
       "      <td>121.54067</td>\n",
       "    </tr>\n",
       "    <tr>\n",
       "      <th>413</th>\n",
       "      <td>6.5</td>\n",
       "      <td>90.45606</td>\n",
       "      <td>9</td>\n",
       "      <td>24.97433</td>\n",
       "      <td>121.54310</td>\n",
       "    </tr>\n",
       "  </tbody>\n",
       "</table>\n",
       "<p>414 rows × 5 columns</p>\n",
       "</div>"
      ],
      "text/plain": [
       "     X2 house age  X3 distance to the nearest MRT station  \\\n",
       "0            32.0                                84.87882   \n",
       "1            19.5                               306.59470   \n",
       "2            13.3                               561.98450   \n",
       "3            13.3                               561.98450   \n",
       "4             5.0                               390.56840   \n",
       "..            ...                                     ...   \n",
       "409          13.7                              4082.01500   \n",
       "410           5.6                                90.45606   \n",
       "411          18.8                               390.96960   \n",
       "412           8.1                               104.81010   \n",
       "413           6.5                                90.45606   \n",
       "\n",
       "     X4 number of convenience stores  X5 latitude  X6 longitude  \n",
       "0                                 10     24.98298     121.54024  \n",
       "1                                  9     24.98034     121.53951  \n",
       "2                                  5     24.98746     121.54391  \n",
       "3                                  5     24.98746     121.54391  \n",
       "4                                  5     24.97937     121.54245  \n",
       "..                               ...          ...           ...  \n",
       "409                                0     24.94155     121.50381  \n",
       "410                                9     24.97433     121.54310  \n",
       "411                                7     24.97923     121.53986  \n",
       "412                                5     24.96674     121.54067  \n",
       "413                                9     24.97433     121.54310  \n",
       "\n",
       "[414 rows x 5 columns]"
      ]
     },
     "execution_count": 6,
     "metadata": {},
     "output_type": "execute_result"
    }
   ],
   "source": [
    "x=df.drop('Y house price of unit area',axis=1)\n",
    "x"
   ]
  },
  {
   "cell_type": "code",
   "execution_count": 7,
   "id": "6648f10d",
   "metadata": {},
   "outputs": [
    {
     "data": {
      "text/plain": [
       "0      37.9\n",
       "1      42.2\n",
       "2      47.3\n",
       "3      54.8\n",
       "4      43.1\n",
       "       ... \n",
       "409    15.4\n",
       "410    50.0\n",
       "411    40.6\n",
       "412    52.5\n",
       "413    63.9\n",
       "Name: Y house price of unit area, Length: 414, dtype: float64"
      ]
     },
     "execution_count": 7,
     "metadata": {},
     "output_type": "execute_result"
    }
   ],
   "source": [
    "y=df['Y house price of unit area']\n",
    "y"
   ]
  },
  {
   "cell_type": "code",
   "execution_count": 8,
   "id": "73abfc51",
   "metadata": {},
   "outputs": [],
   "source": [
    "from sklearn.preprocessing import StandardScaler\n",
    "ss=StandardScaler()"
   ]
  },
  {
   "cell_type": "code",
   "execution_count": 9,
   "id": "c6544f96",
   "metadata": {},
   "outputs": [],
   "source": [
    "x=pd.DataFrame(ss.fit_transform(x),columns=x.columns)"
   ]
  },
  {
   "cell_type": "markdown",
   "id": "c763876e",
   "metadata": {},
   "source": [
    "# Algorithms"
   ]
  },
  {
   "cell_type": "code",
   "execution_count": 10,
   "id": "40f17127",
   "metadata": {},
   "outputs": [],
   "source": [
    "from sklearn.model_selection import train_test_split,cross_val_score\n",
    "from sklearn.metrics import r2_score,mean_squared_error"
   ]
  },
  {
   "cell_type": "code",
   "execution_count": 319,
   "id": "d65d9d42",
   "metadata": {},
   "outputs": [],
   "source": [
    "x_train,x_test,y_train,y_test=train_test_split(x,y,random_state=43,test_size=0.2)"
   ]
  },
  {
   "cell_type": "markdown",
   "id": "fa29f242",
   "metadata": {},
   "source": [
    "# Linear Regression - OLS"
   ]
  },
  {
   "cell_type": "code",
   "execution_count": 39,
   "id": "47cbf4da",
   "metadata": {},
   "outputs": [],
   "source": [
    "from sklearn.linear_model import LinearRegression"
   ]
  },
  {
   "cell_type": "code",
   "execution_count": 320,
   "id": "08cc5ce1",
   "metadata": {},
   "outputs": [
    {
     "name": "stdout",
     "output_type": "stream",
     "text": [
      "training accuracy is  0.627112407958185\n",
      "testing accuracy is  0.3847912679878236\n"
     ]
    }
   ],
   "source": [
    "lr=LinearRegression()\n",
    "lr.fit(x_train,y_train)\n",
    "y_pred_train=lr.predict(x_train)\n",
    "y_pred_test=lr.predict(x_test)\n",
    "print('training accuracy is ',r2_score(y_train,y_pred_train))\n",
    "print('testing accuracy is ',r2_score(y_test,y_pred_test))"
   ]
  },
  {
   "cell_type": "code",
   "execution_count": 78,
   "id": "2e438e26",
   "metadata": {},
   "outputs": [],
   "source": [
    "#finding best random state for linear regression\n",
    "train_acc=[]\n",
    "test_acc=[]\n",
    "for i in range(1,50):\n",
    "    x_train,x_test,y_train,y_test=train_test_split(x,y,random_state=i,test_size=0.2)\n",
    "    lr=LinearRegression()\n",
    "    lr.fit(x_train,y_train)\n",
    "    y_pred_train=lr.predict(x_train)\n",
    "    y_pred_test=lr.predict(x_test)\n",
    "    train_acc.append(r2_score(y_train,y_pred_train))\n",
    "    test_acc.append(r2_score(y_test,y_pred_test))"
   ]
  },
  {
   "cell_type": "code",
   "execution_count": 89,
   "id": "ed437a25",
   "metadata": {},
   "outputs": [
    {
     "name": "stdout",
     "output_type": "stream",
     "text": [
      "42\n",
      "0.627112407958185\n",
      "35\n",
      "0.7176809308958565\n"
     ]
    }
   ],
   "source": [
    "print(np.argmax(train_acc))\n",
    "print(max(train_acc))\n",
    "\n",
    "print(np.argmax(test_acc))\n",
    "print(max(test_acc))\n"
   ]
  },
  {
   "cell_type": "markdown",
   "id": "44e636f5",
   "metadata": {},
   "source": [
    "# SGD Regressor"
   ]
  },
  {
   "cell_type": "code",
   "execution_count": 45,
   "id": "936290a5",
   "metadata": {},
   "outputs": [],
   "source": [
    "from sklearn.linear_model import SGDRegressor"
   ]
  },
  {
   "cell_type": "code",
   "execution_count": 62,
   "id": "10cac711",
   "metadata": {},
   "outputs": [
    {
     "name": "stdout",
     "output_type": "stream",
     "text": [
      "training accuracy is  0.6242421443981592\n",
      "testing accuracy is  0.3962154188957815\n"
     ]
    }
   ],
   "source": [
    "sgd=SGDRegressor(alpha=0.0001,max_iter=500,eta0=0.01,learning_rate='constant')\n",
    "sgd.fit(x_train,y_train)\n",
    "y_pred_train=sgd.predict(x_train)\n",
    "y_pred_test=sgd.predict(x_test)\n",
    "print('training accuracy is ',r2_score(y_train,y_pred_train))\n",
    "print('testing accuracy is ',r2_score(y_test,y_pred_test))"
   ]
  },
  {
   "cell_type": "code",
   "execution_count": 97,
   "id": "1db3dbdd",
   "metadata": {},
   "outputs": [],
   "source": [
    "# randomizedSearched cv\n",
    "from sklearn.model_selection import RandomizedSearchCV,GridSearchCV"
   ]
  },
  {
   "cell_type": "code",
   "execution_count": 64,
   "id": "4c34f9ef",
   "metadata": {},
   "outputs": [
    {
     "data": {
      "text/plain": [
       "RandomizedSearchCV(cv=10, estimator=SGDRegressor(),\n",
       "                   param_distributions={'alpha': array([0.    , 0.0001, 0.0002, 0.0003, 0.0004, 0.0005, 0.0006, 0.0007,\n",
       "       0.0008, 0.0009, 0.001 , 0.0011, 0.0012, 0.0013, 0.0014, 0.0015,\n",
       "       0.0016, 0.0017, 0.0018, 0.0019, 0.002 , 0.0021, 0.0022, 0.0023,\n",
       "       0.0024, 0.0025, 0.0026, 0.0027, 0.0028, 0.0029, 0.003 , 0.0031,\n",
       "       0.0032, 0.0033, 0.0034, 0.0035, 0.0036, 0.0037, 0.003...\n",
       "       612, 613, 614, 615, 616, 617, 618, 619, 620, 621, 622, 623, 624,\n",
       "       625, 626, 627, 628, 629, 630, 631, 632, 633, 634, 635, 636, 637,\n",
       "       638, 639, 640, 641, 642, 643, 644, 645, 646, 647, 648, 649, 650,\n",
       "       651, 652, 653, 654, 655, 656, 657, 658, 659, 660, 661, 662, 663,\n",
       "       664, 665, 666, 667, 668, 669, 670, 671, 672, 673, 674, 675, 676,\n",
       "       677, 678, 679, 680, 681, 682, 683, 684, 685, 686, 687, 688, 689,\n",
       "       690, 691, 692, 693, 694, 695, 696, 697, 698, 699])})"
      ]
     },
     "execution_count": 64,
     "metadata": {},
     "output_type": "execute_result"
    }
   ],
   "source": [
    "#hyperparameter tuning for sgdregressor\n",
    "sgd=SGDRegressor()\n",
    "param_grid_sgd={'alpha': np.arange(0,0.01,0.0001),'max_iter':np.arange(300,700),'eta0':np.arange(0,0.1,0.001),\n",
    "                'learning_rate':['constant','optimal','invscaling','adaptive']}\n",
    "r=RandomizedSearchCV(sgd,param_grid_sgd,cv=10)\n",
    "r.fit(x_train,y_train)"
   ]
  },
  {
   "cell_type": "code",
   "execution_count": 65,
   "id": "17c60f43",
   "metadata": {},
   "outputs": [
    {
     "data": {
      "text/plain": [
       "{'max_iter': 580,\n",
       " 'learning_rate': 'constant',\n",
       " 'eta0': 0.016,\n",
       " 'alpha': 0.009600000000000001}"
      ]
     },
     "execution_count": 65,
     "metadata": {},
     "output_type": "execute_result"
    }
   ],
   "source": [
    "r.best_params_"
   ]
  },
  {
   "cell_type": "code",
   "execution_count": 90,
   "id": "28a8427d",
   "metadata": {},
   "outputs": [
    {
     "name": "stdout",
     "output_type": "stream",
     "text": [
      "training accuracy is  0.6271110846618315\n",
      "testing accuracy is  0.3846844218147002\n"
     ]
    }
   ],
   "source": [
    "sgd=SGDRegressor(alpha=0.001,max_iter=580,eta0=0.09,learning_rate='adaptive')\n",
    "sgd.fit(x_train,y_train)\n",
    "y_pred_train=sgd.predict(x_train)\n",
    "y_pred_test=sgd.predict(x_test)\n",
    "print('training accuracy is ',r2_score(y_train,y_pred_train))\n",
    "print('testing accuracy is ',r2_score(y_test,y_pred_test))"
   ]
  },
  {
   "cell_type": "markdown",
   "id": "21c061ca",
   "metadata": {},
   "source": [
    "# Polynomial Regression"
   ]
  },
  {
   "cell_type": "code",
   "execution_count": 305,
   "id": "a2d10cb2",
   "metadata": {},
   "outputs": [],
   "source": [
    "x1=x.copy(deep=True)\n",
    "from sklearn.preprocessing import PolynomialFeatures"
   ]
  },
  {
   "cell_type": "code",
   "execution_count": 329,
   "id": "0d75bd70",
   "metadata": {},
   "outputs": [],
   "source": [
    "poly=PolynomialFeatures(degree=2)\n",
    "x2=poly.fit_transform(x1)"
   ]
  },
  {
   "cell_type": "code",
   "execution_count": 330,
   "id": "70532c87",
   "metadata": {},
   "outputs": [
    {
     "name": "stdout",
     "output_type": "stream",
     "text": [
      "training accuracy is  0.7500630612484575\n",
      "testing accuracy is  0.45571920849700176\n"
     ]
    }
   ],
   "source": [
    "x2_train,x2_test,y_train,y_test=train_test_split(x2,y,random_state=43,test_size=0.2)\n",
    "lr=LinearRegression()\n",
    "lr.fit(x2_train,y_train)\n",
    "y_pred_train=lr.predict(x2_train)\n",
    "y_pred_test=lr.predict(x2_test)\n",
    "print('training accuracy is ',r2_score(y_train,y_pred_train))\n",
    "print('testing accuracy is ',r2_score(y_test,y_pred_test))"
   ]
  },
  {
   "cell_type": "markdown",
   "id": "d2c9fb2b",
   "metadata": {},
   "source": [
    "# Decision Tree Regressor"
   ]
  },
  {
   "cell_type": "code",
   "execution_count": 98,
   "id": "5f51ead5",
   "metadata": {},
   "outputs": [],
   "source": [
    "from sklearn.tree import DecisionTreeRegressor,plot_tree"
   ]
  },
  {
   "cell_type": "code",
   "execution_count": 95,
   "id": "7a0ebcb0",
   "metadata": {},
   "outputs": [
    {
     "name": "stdout",
     "output_type": "stream",
     "text": [
      "training accuracy is  0.9899678262410861\n",
      "testing accuracy is  0.5134871957107532\n"
     ]
    }
   ],
   "source": [
    "x_train,x_test,y_train,y_test=train_test_split(x,y,random_state=43,test_size=0.1)\n",
    "dt=DecisionTreeRegressor()\n",
    "dt.fit(x_train,y_train)\n",
    "y_pred_train=dt.predict(x_train)\n",
    "y_pred_test=dt.predict(x_test)\n",
    "print('training accuracy is ',r2_score(y_train,y_pred_train))\n",
    "print('testing accuracy is ',r2_score(y_test,y_pred_test))"
   ]
  },
  {
   "cell_type": "code",
   "execution_count": 99,
   "id": "5ff224b7",
   "metadata": {},
   "outputs": [
    {
     "data": {
      "text/plain": [
       "[Text(0.5681024929506786, 0.9761904761904762, 'X[1] <= -0.081\\nsquared_error = 188.279\\nsamples = 372\\nvalue = 37.855'),\n",
       " Text(0.2190613948097878, 0.9285714285714286, 'X[0] <= -0.528\\nsquared_error = 118.838\\nsamples = 244\\nvalue = 44.792'),\n",
       " Text(0.0772557828331103, 0.8809523809523809, 'X[3] <= 0.421\\nsquared_error = 107.834\\nsamples = 78\\nvalue = 52.773'),\n",
       " Text(0.03981074364366278, 0.8333333333333334, 'X[1] <= -0.796\\nsquared_error = 32.473\\nsamples = 32\\nvalue = 48.697'),\n",
       " Text(0.012234754349072835, 0.7857142857142857, 'X[1] <= -0.831\\nsquared_error = 20.599\\nsamples = 7\\nvalue = 54.571'),\n",
       " Text(0.009176065761804627, 0.7380952380952381, 'squared_error = 1.0\\nsamples = 2\\nvalue = 48.7'),\n",
       " Text(0.015293442936341044, 0.7380952380952381, 'X[0] <= -1.205\\nsquared_error = 9.134\\nsamples = 5\\nvalue = 56.92'),\n",
       " Text(0.012234754349072835, 0.6904761904761905, 'X[4] <= 0.259\\nsquared_error = 3.032\\nsamples = 4\\nvalue = 55.625'),\n",
       " Text(0.006117377174536418, 0.6428571428571429, 'X[0] <= -1.253\\nsquared_error = 0.202\\nsamples = 2\\nvalue = 53.95'),\n",
       " Text(0.003058688587268209, 0.5952380952380952, 'squared_error = 0.0\\nsamples = 1\\nvalue = 54.4'),\n",
       " Text(0.009176065761804627, 0.5952380952380952, 'squared_error = -0.0\\nsamples = 1\\nvalue = 53.5'),\n",
       " Text(0.018352131523609254, 0.6428571428571429, 'X[0] <= -1.231\\nsquared_error = 0.25\\nsamples = 2\\nvalue = 57.3'),\n",
       " Text(0.015293442936341044, 0.5952380952380952, 'squared_error = 0.0\\nsamples = 1\\nvalue = 57.8'),\n",
       " Text(0.02141082011087746, 0.5952380952380952, 'squared_error = 0.0\\nsamples = 1\\nvalue = 56.8'),\n",
       " Text(0.018352131523609254, 0.6904761904761905, 'squared_error = 0.0\\nsamples = 1\\nvalue = 62.1'),\n",
       " Text(0.06738673293825273, 0.7857142857142857, 'X[1] <= -0.578\\nsquared_error = 23.429\\nsamples = 25\\nvalue = 47.052'),\n",
       " Text(0.05371821831389792, 0.7380952380952381, 'X[0] <= -0.836\\nsquared_error = 21.915\\nsamples = 21\\nvalue = 47.886'),\n",
       " Text(0.04473332058879755, 0.6904761904761905, 'X[0] <= -0.862\\nsquared_error = 22.345\\nsamples = 19\\nvalue = 48.289'),\n",
       " Text(0.035939590900401455, 0.6428571428571429, 'X[1] <= -0.713\\nsquared_error = 23.496\\nsamples = 16\\nvalue = 47.6'),\n",
       " Text(0.027528197285413877, 0.5952380952380952, 'X[4] <= 0.483\\nsquared_error = 13.947\\nsamples = 3\\nvalue = 43.6'),\n",
       " Text(0.02446950869814567, 0.5476190476190477, 'squared_error = 18.49\\nsamples = 2\\nvalue = 42.7'),\n",
       " Text(0.030586885872682087, 0.5476190476190477, 'squared_error = -0.0\\nsamples = 1\\nvalue = 45.4'),\n",
       " Text(0.044350984515389026, 0.5952380952380952, 'X[4] <= 0.368\\nsquared_error = 21.156\\nsamples = 13\\nvalue = 48.523'),\n",
       " Text(0.03670426304721851, 0.5476190476190477, 'X[4] <= 0.111\\nsquared_error = 31.609\\nsamples = 6\\nvalue = 46.75'),\n",
       " Text(0.0336455744599503, 0.5, 'squared_error = 44.345\\nsamples = 4\\nvalue = 47.7'),\n",
       " Text(0.03976295163448671, 0.5, 'squared_error = 0.723\\nsamples = 2\\nvalue = 44.85'),\n",
       " Text(0.05199770598355955, 0.5476190476190477, 'X[1] <= -0.659\\nsquared_error = 7.191\\nsamples = 7\\nvalue = 50.043'),\n",
       " Text(0.04588032880902313, 0.5, 'X[0] <= -1.464\\nsquared_error = 9.17\\nsamples = 5\\nvalue = 49.56'),\n",
       " Text(0.04282164022175492, 0.4523809523809524, 'squared_error = 0.0\\nsamples = 1\\nvalue = 50.7'),\n",
       " Text(0.04893901739629134, 0.4523809523809524, 'squared_error = 11.057\\nsamples = 4\\nvalue = 49.275'),\n",
       " Text(0.058115083158095965, 0.5, 'X[0] <= -1.376\\nsquared_error = 0.202\\nsamples = 2\\nvalue = 51.25'),\n",
       " Text(0.055056394570827755, 0.4523809523809524, 'squared_error = 0.0\\nsamples = 1\\nvalue = 50.8'),\n",
       " Text(0.061173771745364175, 0.4523809523809524, 'squared_error = 0.0\\nsamples = 1\\nvalue = 51.7'),\n",
       " Text(0.05352705027719366, 0.6428571428571429, 'X[0] <= -0.849\\nsquared_error = 0.149\\nsamples = 3\\nvalue = 51.967'),\n",
       " Text(0.050468361689925446, 0.5952380952380952, 'squared_error = 0.0\\nsamples = 1\\nvalue = 51.8'),\n",
       " Text(0.05658573886446186, 0.5952380952380952, 'squared_error = 0.202\\nsamples = 2\\nvalue = 52.05'),\n",
       " Text(0.06270311603899828, 0.6904761904761905, 'X[2] <= -0.372\\nsquared_error = 1.563\\nsamples = 2\\nvalue = 44.05'),\n",
       " Text(0.05964442745173007, 0.6428571428571429, 'squared_error = 0.0\\nsamples = 1\\nvalue = 45.3'),\n",
       " Text(0.06576180462626649, 0.6428571428571429, 'squared_error = 0.0\\nsamples = 1\\nvalue = 42.8'),\n",
       " Text(0.08105524756260753, 0.7380952380952381, 'X[1] <= -0.481\\nsquared_error = 8.572\\nsamples = 4\\nvalue = 42.675'),\n",
       " Text(0.07493787038807112, 0.6904761904761905, 'X[2] <= 0.818\\nsquared_error = 0.04\\nsamples = 2\\nvalue = 40.7'),\n",
       " Text(0.07187918180080291, 0.6428571428571429, 'squared_error = 0.0\\nsamples = 1\\nvalue = 40.9'),\n",
       " Text(0.07799655897533932, 0.6428571428571429, 'squared_error = -0.0\\nsamples = 1\\nvalue = 40.5'),\n",
       " Text(0.08717262473714395, 0.6904761904761905, 'X[0] <= -1.258\\nsquared_error = 9.303\\nsamples = 2\\nvalue = 44.65'),\n",
       " Text(0.08411393614987574, 0.6428571428571429, 'squared_error = 0.0\\nsamples = 1\\nvalue = 47.7'),\n",
       " Text(0.09023131332441216, 0.6428571428571429, 'squared_error = -0.0\\nsamples = 1\\nvalue = 41.6'),\n",
       " Text(0.11470082202255782, 0.8333333333333334, 'X[4] <= -0.185\\nsquared_error = 140.66\\nsamples = 46\\nvalue = 55.609'),\n",
       " Text(0.09711336264576563, 0.7857142857142857, 'X[4] <= -0.398\\nsquared_error = 1369.0\\nsamples = 2\\nvalue = 80.5'),\n",
       " Text(0.09405467405849742, 0.7380952380952381, 'squared_error = 0.0\\nsamples = 1\\nvalue = 43.5'),\n",
       " Text(0.10017205123303384, 0.7380952380952381, 'squared_error = 0.0\\nsamples = 1\\nvalue = 117.5'),\n",
       " Text(0.13228828139935003, 0.7857142857142857, 'X[4] <= 0.614\\nsquared_error = 55.384\\nsamples = 44\\nvalue = 54.477'),\n",
       " Text(0.10628942840757026, 0.7380952380952381, 'X[3] <= 1.135\\nsquared_error = 32.49\\nsamples = 15\\nvalue = 48.42'),\n",
       " Text(0.09940737908621679, 0.6904761904761905, 'X[0] <= -0.546\\nsquared_error = 12.787\\nsamples = 12\\nvalue = 46.175'),\n",
       " Text(0.09634869049894858, 0.6428571428571429, 'X[0] <= -1.108\\nsquared_error = 9.397\\nsamples = 11\\nvalue = 46.791'),\n",
       " Text(0.08564328044350984, 0.5952380952380952, 'X[4] <= 0.054\\nsquared_error = 7.98\\nsamples = 7\\nvalue = 45.557'),\n",
       " Text(0.08258459185624163, 0.5476190476190477, 'squared_error = 13.949\\nsamples = 3\\nvalue = 47.033'),\n",
       " Text(0.08870196903077805, 0.5476190476190477, 'X[3] <= 0.88\\nsquared_error = 0.642\\nsamples = 4\\nvalue = 44.45'),\n",
       " Text(0.08564328044350984, 0.5, 'squared_error = 0.0\\nsamples = 1\\nvalue = 43.1'),\n",
       " Text(0.09176065761804626, 0.5, 'X[3] <= 0.953\\nsquared_error = 0.047\\nsamples = 3\\nvalue = 44.9'),\n",
       " Text(0.08870196903077805, 0.4523809523809524, 'squared_error = 0.0\\nsamples = 1\\nvalue = 45.2'),\n",
       " Text(0.09481934620531447, 0.4523809523809524, 'X[0] <= -1.135\\nsquared_error = 0.003\\nsamples = 2\\nvalue = 44.75'),\n",
       " Text(0.09176065761804626, 0.40476190476190477, 'squared_error = 0.0\\nsamples = 1\\nvalue = 44.8'),\n",
       " Text(0.09787803479258268, 0.40476190476190477, 'squared_error = 0.0\\nsamples = 1\\nvalue = 44.7'),\n",
       " Text(0.10705410055438731, 0.5952380952380952, 'X[0] <= -0.968\\nsquared_error = 4.552\\nsamples = 4\\nvalue = 48.95'),\n",
       " Text(0.10093672337985089, 0.5476190476190477, 'X[0] <= -1.091\\nsquared_error = 1.822\\nsamples = 2\\nvalue = 50.85'),\n",
       " Text(0.09787803479258268, 0.5, 'squared_error = 0.0\\nsamples = 1\\nvalue = 52.2'),\n",
       " Text(0.1039954119671191, 0.5, 'squared_error = 0.0\\nsamples = 1\\nvalue = 49.5'),\n",
       " Text(0.11317147772892372, 0.5476190476190477, 'X[1] <= -0.652\\nsquared_error = 0.062\\nsamples = 2\\nvalue = 47.05'),\n",
       " Text(0.11011278914165551, 0.5, 'squared_error = 0.0\\nsamples = 1\\nvalue = 47.3'),\n",
       " Text(0.11623016631619193, 0.5, 'squared_error = -0.0\\nsamples = 1\\nvalue = 46.8'),\n",
       " Text(0.102466067673485, 0.6428571428571429, 'squared_error = 0.0\\nsamples = 1\\nvalue = 39.4'),\n",
       " Text(0.11317147772892372, 0.6904761904761905, 'X[3] <= 1.153\\nsquared_error = 10.5\\nsamples = 3\\nvalue = 57.4'),\n",
       " Text(0.11011278914165551, 0.6428571428571429, 'squared_error = 0.0\\nsamples = 1\\nvalue = 61.9'),\n",
       " Text(0.11623016631619193, 0.6428571428571429, 'X[0] <= -0.748\\nsquared_error = 0.563\\nsamples = 2\\nvalue = 55.15'),\n",
       " Text(0.11317147772892372, 0.5952380952380952, 'squared_error = 0.0\\nsamples = 1\\nvalue = 54.4'),\n",
       " Text(0.11928885490346014, 0.5952380952380952, 'squared_error = 0.0\\nsamples = 1\\nvalue = 55.9'),\n",
       " Text(0.1582871343911298, 0.7380952380952381, 'X[0] <= -1.464\\nsquared_error = 38.432\\nsamples = 29\\nvalue = 57.61'),\n",
       " Text(0.15522844580386158, 0.6904761904761905, 'squared_error = 9.322\\nsamples = 4\\nvalue = 68.525'),\n",
       " Text(0.161345822978398, 0.6904761904761905, 'X[0] <= -1.35\\nsquared_error = 20.979\\nsamples = 25\\nvalue = 55.864'),\n",
       " Text(0.1582871343911298, 0.6428571428571429, 'squared_error = 0.0\\nsamples = 1\\nvalue = 45.5'),\n",
       " Text(0.1644045115656662, 0.6428571428571429, 'X[0] <= -0.818\\nsquared_error = 17.191\\nsamples = 24\\nvalue = 56.296'),\n",
       " Text(0.14528770789523993, 0.5952380952380952, 'X[0] <= -1.025\\nsquared_error = 12.593\\nsamples = 20\\nvalue = 57.245'),\n",
       " Text(0.12999426495889888, 0.5476190476190477, 'X[3] <= 0.494\\nsquared_error = 12.166\\nsamples = 12\\nvalue = 55.75'),\n",
       " Text(0.12234754349072835, 0.5, 'X[0] <= -1.047\\nsquared_error = 3.852\\nsamples = 6\\nvalue = 53.567'),\n",
       " Text(0.11928885490346014, 0.4523809523809524, 'X[4] <= 0.784\\nsquared_error = 3.505\\nsamples = 4\\nvalue = 53.1'),\n",
       " Text(0.11317147772892372, 0.40476190476190477, 'X[0] <= -1.06\\nsquared_error = 3.062\\nsamples = 2\\nvalue = 51.75'),\n",
       " Text(0.11011278914165551, 0.35714285714285715, 'squared_error = 0.0\\nsamples = 1\\nvalue = 50.0'),\n",
       " Text(0.11623016631619193, 0.35714285714285715, 'squared_error = 0.0\\nsamples = 1\\nvalue = 53.5'),\n",
       " Text(0.12540623207799656, 0.40476190476190477, 'X[0] <= -1.324\\nsquared_error = 0.302\\nsamples = 2\\nvalue = 54.45'),\n",
       " Text(0.12234754349072835, 0.35714285714285715, 'squared_error = 0.0\\nsamples = 1\\nvalue = 55.0'),\n",
       " Text(0.12846492066526477, 0.35714285714285715, 'squared_error = -0.0\\nsamples = 1\\nvalue = 53.9'),\n",
       " Text(0.12540623207799656, 0.4523809523809524, 'squared_error = 3.24\\nsamples = 2\\nvalue = 54.5'),\n",
       " Text(0.1376409864270694, 0.5, 'X[0] <= -1.122\\nsquared_error = 10.946\\nsamples = 6\\nvalue = 57.933'),\n",
       " Text(0.1345822978398012, 0.4523809523809524, 'X[3] <= 0.752\\nsquared_error = 6.478\\nsamples = 5\\nvalue = 56.88'),\n",
       " Text(0.13152360925253298, 0.40476190476190477, 'squared_error = 0.0\\nsamples = 1\\nvalue = 53.7'),\n",
       " Text(0.1376409864270694, 0.40476190476190477, 'X[0] <= -1.262\\nsquared_error = 4.937\\nsamples = 4\\nvalue = 57.675'),\n",
       " Text(0.1345822978398012, 0.35714285714285715, 'squared_error = 0.0\\nsamples = 1\\nvalue = 56.2'),\n",
       " Text(0.1406996750143376, 0.35714285714285715, 'X[0] <= -1.231\\nsquared_error = 5.616\\nsamples = 3\\nvalue = 58.167'),\n",
       " Text(0.1376409864270694, 0.30952380952380953, 'squared_error = 0.0\\nsamples = 1\\nvalue = 58.8'),\n",
       " Text(0.14375836360160582, 0.30952380952380953, 'squared_error = 8.123\\nsamples = 2\\nvalue = 57.85'),\n",
       " Text(0.1406996750143376, 0.4523809523809524, 'squared_error = 0.0\\nsamples = 1\\nvalue = 63.2'),\n",
       " Text(0.16058115083158095, 0.5476190476190477, 'X[0] <= -0.981\\nsquared_error = 4.854\\nsamples = 8\\nvalue = 59.488'),\n",
       " Text(0.15293442936341045, 0.5, 'X[0] <= -0.999\\nsquared_error = 5.466\\nsamples = 5\\nvalue = 60.34'),\n",
       " Text(0.14681705218887403, 0.4523809523809524, 'X[0] <= -1.007\\nsquared_error = 0.003\\nsamples = 2\\nvalue = 58.05'),\n",
       " Text(0.14375836360160582, 0.40476190476190477, 'squared_error = 0.0\\nsamples = 1\\nvalue = 58.0'),\n",
       " Text(0.14987574077614224, 0.40476190476190477, 'squared_error = 0.0\\nsamples = 1\\nvalue = 58.1'),\n",
       " Text(0.15905180653794684, 0.4523809523809524, 'X[0] <= -0.99\\nsquared_error = 3.282\\nsamples = 3\\nvalue = 61.867'),\n",
       " Text(0.15599311795067863, 0.40476190476190477, 'squared_error = 1.823\\nsamples = 2\\nvalue = 60.85'),\n",
       " Text(0.16211049512521505, 0.40476190476190477, 'squared_error = -0.0\\nsamples = 1\\nvalue = 63.9'),\n",
       " Text(0.16822787229975147, 0.5, 'X[2] <= 0.988\\nsquared_error = 0.602\\nsamples = 3\\nvalue = 58.067'),\n",
       " Text(0.16516918371248326, 0.4523809523809524, 'squared_error = 0.0\\nsamples = 1\\nvalue = 57.1'),\n",
       " Text(0.17128656088701968, 0.4523809523809524, 'squared_error = 0.203\\nsamples = 2\\nvalue = 58.55'),\n",
       " Text(0.18352131523609252, 0.5952380952380952, 'X[0] <= -0.678\\nsquared_error = 13.152\\nsamples = 4\\nvalue = 51.55'),\n",
       " Text(0.1774039380615561, 0.5476190476190477, 'X[3] <= 0.794\\nsquared_error = 16.403\\nsamples = 2\\nvalue = 53.35'),\n",
       " Text(0.1743452494742879, 0.5, 'squared_error = 0.0\\nsamples = 1\\nvalue = 57.4'),\n",
       " Text(0.18046262664882431, 0.5, 'squared_error = 0.0\\nsamples = 1\\nvalue = 49.3'),\n",
       " Text(0.18963869241062895, 0.5476190476190477, 'X[0] <= -0.651\\nsquared_error = 3.422\\nsamples = 2\\nvalue = 49.75'),\n",
       " Text(0.18658000382336073, 0.5, 'squared_error = 0.0\\nsamples = 1\\nvalue = 47.9'),\n",
       " Text(0.19269738099789716, 0.5, 'squared_error = -0.0\\nsamples = 1\\nvalue = 51.6'),\n",
       " Text(0.3608670067864653, 0.8809523809523809, 'X[1] <= -0.597\\nsquared_error = 80.012\\nsamples = 166\\nvalue = 41.042'),\n",
       " Text(0.2544924488625502, 0.8333333333333334, 'X[4] <= 0.454\\nsquared_error = 92.957\\nsamples = 58\\nvalue = 46.157'),\n",
       " Text(0.20263811890651884, 0.7857142857142857, 'X[0] <= -0.344\\nsquared_error = 47.642\\nsamples = 17\\nvalue = 39.259'),\n",
       " Text(0.19269738099789716, 0.7380952380952381, 'X[0] <= -0.41\\nsquared_error = 9.882\\nsamples = 5\\nvalue = 32.22'),\n",
       " Text(0.18963869241062895, 0.6904761904761905, 'X[3] <= 0.384\\nsquared_error = 9.688\\nsamples = 4\\nvalue = 32.95'),\n",
       " Text(0.18658000382336073, 0.6428571428571429, 'squared_error = 4.84\\nsamples = 2\\nvalue = 35.1'),\n",
       " Text(0.19269738099789716, 0.6428571428571429, 'X[0] <= -0.432\\nsquared_error = 5.29\\nsamples = 2\\nvalue = 30.8'),\n",
       " Text(0.18963869241062895, 0.5952380952380952, 'squared_error = 0.0\\nsamples = 1\\nvalue = 28.5'),\n",
       " Text(0.19575606958516537, 0.5952380952380952, 'squared_error = 0.0\\nsamples = 1\\nvalue = 33.1'),\n",
       " Text(0.19575606958516537, 0.6904761904761905, 'squared_error = 0.0\\nsamples = 1\\nvalue = 29.3'),\n",
       " Text(0.21257885681514052, 0.7380952380952381, 'X[3] <= -0.651\\nsquared_error = 34.131\\nsamples = 12\\nvalue = 42.192'),\n",
       " Text(0.2095201682278723, 0.6904761904761905, 'squared_error = 0.0\\nsamples = 1\\nvalue = 26.9'),\n",
       " Text(0.2156375454024087, 0.6904761904761905, 'X[0] <= 0.104\\nsquared_error = 14.043\\nsamples = 11\\nvalue = 43.582'),\n",
       " Text(0.20493213534697, 0.6428571428571429, 'X[0] <= -0.12\\nsquared_error = 3.24\\nsamples = 2\\nvalue = 48.4'),\n",
       " Text(0.20187344675970179, 0.5952380952380952, 'squared_error = 0.0\\nsamples = 1\\nvalue = 50.2'),\n",
       " Text(0.2079908239342382, 0.5952380952380952, 'squared_error = -0.0\\nsamples = 1\\nvalue = 46.6'),\n",
       " Text(0.22634295545784744, 0.6428571428571429, 'X[0] <= 1.308\\nsquared_error = 10.139\\nsamples = 9\\nvalue = 42.511'),\n",
       " Text(0.21410820110877463, 0.5952380952380952, 'X[3] <= 0.923\\nsquared_error = 3.726\\nsamples = 5\\nvalue = 40.68'),\n",
       " Text(0.2079908239342382, 0.5476190476190477, 'X[0] <= 0.539\\nsquared_error = 0.36\\nsamples = 2\\nvalue = 42.8'),\n",
       " Text(0.20493213534697, 0.5, 'squared_error = 0.0\\nsamples = 1\\nvalue = 42.2'),\n",
       " Text(0.21104951252150642, 0.5, 'squared_error = 0.0\\nsamples = 1\\nvalue = 43.4'),\n",
       " Text(0.22022557828331102, 0.5476190476190477, 'X[1] <= -0.762\\nsquared_error = 0.976\\nsamples = 3\\nvalue = 39.267'),\n",
       " Text(0.2171668896960428, 0.5, 'squared_error = 0.0\\nsamples = 1\\nvalue = 37.9'),\n",
       " Text(0.22328426687057923, 0.5, 'X[3] <= 1.051\\nsquared_error = 0.062\\nsamples = 2\\nvalue = 39.95'),\n",
       " Text(0.22022557828331102, 0.4523809523809524, 'squared_error = 0.0\\nsamples = 1\\nvalue = 40.2'),\n",
       " Text(0.22634295545784744, 0.4523809523809524, 'squared_error = -0.0\\nsamples = 1\\nvalue = 39.7'),\n",
       " Text(0.23857770980692028, 0.5952380952380952, 'X[0] <= 1.365\\nsquared_error = 8.725\\nsamples = 4\\nvalue = 44.8'),\n",
       " Text(0.23246033263238386, 0.5476190476190477, 'X[2] <= 1.668\\nsquared_error = 0.302\\nsamples = 2\\nvalue = 47.65'),\n",
       " Text(0.22940164404511565, 0.5, 'squared_error = 0.0\\nsamples = 1\\nvalue = 48.2'),\n",
       " Text(0.23551902121965207, 0.5, 'squared_error = -0.0\\nsamples = 1\\nvalue = 47.1'),\n",
       " Text(0.2446950869814567, 0.5476190476190477, 'X[2] <= -0.542\\nsquared_error = 0.902\\nsamples = 2\\nvalue = 41.95'),\n",
       " Text(0.2416363983941885, 0.5, 'squared_error = 0.0\\nsamples = 1\\nvalue = 42.9'),\n",
       " Text(0.2477537755687249, 0.5, 'squared_error = -0.0\\nsamples = 1\\nvalue = 41.0'),\n",
       " Text(0.3063467788185815, 0.7857142857142857, 'X[0] <= 1.532\\nsquared_error = 83.836\\nsamples = 41\\nvalue = 49.017'),\n",
       " Text(0.2731791244503919, 0.7380952380952381, 'X[3] <= 0.746\\nsquared_error = 29.788\\nsamples = 33\\nvalue = 46.924'),\n",
       " Text(0.25692984133052954, 0.6904761904761905, 'X[4] <= 0.552\\nsquared_error = 9.046\\nsamples = 15\\nvalue = 42.767'),\n",
       " Text(0.24928311986235901, 0.6428571428571429, 'X[3] <= 0.359\\nsquared_error = 1.21\\nsamples = 2\\nvalue = 47.1'),\n",
       " Text(0.2462244312750908, 0.5952380952380952, 'squared_error = 0.0\\nsamples = 1\\nvalue = 48.2'),\n",
       " Text(0.2523418084496272, 0.5952380952380952, 'squared_error = -0.0\\nsamples = 1\\nvalue = 46.0'),\n",
       " Text(0.26457656279870007, 0.6428571428571429, 'X[3] <= 0.646\\nsquared_error = 6.918\\nsamples = 13\\nvalue = 42.1'),\n",
       " Text(0.25845918562416365, 0.5952380952380952, 'X[3] <= -0.285\\nsquared_error = 5.035\\nsamples = 11\\nvalue = 41.445'),\n",
       " Text(0.25540049703689544, 0.5476190476190477, 'squared_error = 0.0\\nsamples = 1\\nvalue = 47.4'),\n",
       " Text(0.26151787421143186, 0.5476190476190477, 'X[2] <= 0.818\\nsquared_error = 1.639\\nsamples = 10\\nvalue = 40.85'),\n",
       " Text(0.25387115274326133, 0.5, 'X[0] <= 1.168\\nsquared_error = 0.023\\nsamples = 2\\nvalue = 42.35'),\n",
       " Text(0.2508124641559931, 0.4523809523809524, 'squared_error = 0.0\\nsamples = 1\\nvalue = 42.5'),\n",
       " Text(0.25692984133052954, 0.4523809523809524, 'squared_error = 0.0\\nsamples = 1\\nvalue = 42.2'),\n",
       " Text(0.2691645956796024, 0.5, 'X[4] <= 0.598\\nsquared_error = 1.339\\nsamples = 8\\nvalue = 40.475'),\n",
       " Text(0.26304721850506596, 0.4523809523809524, 'X[1] <= -0.726\\nsquared_error = 0.06\\nsamples = 3\\nvalue = 39.4'),\n",
       " Text(0.25998852991779775, 0.40476190476190477, 'squared_error = 0.0\\nsamples = 1\\nvalue = 39.1'),\n",
       " Text(0.26610590709233417, 0.40476190476190477, 'X[2] <= 1.158\\nsquared_error = 0.022\\nsamples = 2\\nvalue = 39.55'),\n",
       " Text(0.26304721850506596, 0.35714285714285715, 'squared_error = 0.0\\nsamples = 1\\nvalue = 39.4'),\n",
       " Text(0.2691645956796024, 0.35714285714285715, 'squared_error = 0.0\\nsamples = 1\\nvalue = 39.7'),\n",
       " Text(0.2752819728541388, 0.4523809523809524, 'X[0] <= -0.405\\nsquared_error = 0.998\\nsamples = 5\\nvalue = 41.12'),\n",
       " Text(0.2722232842668706, 0.40476190476190477, 'squared_error = 0.0\\nsamples = 1\\nvalue = 39.3'),\n",
       " Text(0.278340661441407, 0.40476190476190477, 'X[0] <= 1.423\\nsquared_error = 0.212\\nsamples = 4\\nvalue = 41.575'),\n",
       " Text(0.2752819728541388, 0.35714285714285715, 'X[1] <= -0.689\\nsquared_error = 0.08\\nsamples = 3\\nvalue = 41.8'),\n",
       " Text(0.2722232842668706, 0.30952380952380953, 'squared_error = 0.0\\nsamples = 1\\nvalue = 42.0'),\n",
       " Text(0.278340661441407, 0.30952380952380953, 'X[0] <= -0.37\\nsquared_error = 0.09\\nsamples = 2\\nvalue = 41.7'),\n",
       " Text(0.2752819728541388, 0.2619047619047619, 'squared_error = 0.0\\nsamples = 1\\nvalue = 42.0'),\n",
       " Text(0.2813993500286752, 0.2619047619047619, 'squared_error = -0.0\\nsamples = 1\\nvalue = 41.4'),\n",
       " Text(0.2813993500286752, 0.35714285714285715, 'squared_error = 0.0\\nsamples = 1\\nvalue = 40.9'),\n",
       " Text(0.2706939399732365, 0.5952380952380952, 'X[4] <= 0.635\\nsquared_error = 1.96\\nsamples = 2\\nvalue = 45.7'),\n",
       " Text(0.2676352513859683, 0.5476190476190477, 'squared_error = 0.0\\nsamples = 1\\nvalue = 47.1'),\n",
       " Text(0.2737526285605047, 0.5476190476190477, 'squared_error = -0.0\\nsamples = 1\\nvalue = 44.3'),\n",
       " Text(0.28942840757025423, 0.6904761904761905, 'X[0] <= -0.194\\nsquared_error = 20.664\\nsamples = 18\\nvalue = 50.389'),\n",
       " Text(0.2798700057350411, 0.6428571428571429, 'X[0] <= -0.26\\nsquared_error = 0.81\\nsamples = 2\\nvalue = 54.2'),\n",
       " Text(0.2768113171477729, 0.5952380952380952, 'squared_error = 0.0\\nsamples = 1\\nvalue = 53.3'),\n",
       " Text(0.2829286943223093, 0.5952380952380952, 'squared_error = -0.0\\nsamples = 1\\nvalue = 55.1'),\n",
       " Text(0.2989868094054674, 0.6428571428571429, 'X[0] <= -0.151\\nsquared_error = 21.104\\nsamples = 16\\nvalue = 49.912'),\n",
       " Text(0.28904607149684575, 0.5952380952380952, 'X[0] <= -0.172\\nsquared_error = 20.269\\nsamples = 3\\nvalue = 47.067'),\n",
       " Text(0.28598738290957754, 0.5476190476190477, 'squared_error = 0.0\\nsamples = 1\\nvalue = 46.1'),\n",
       " Text(0.29210476008411396, 0.5476190476190477, 'squared_error = 29.703\\nsamples = 2\\nvalue = 47.55'),\n",
       " Text(0.30892754731408906, 0.5952380952380952, 'X[0] <= -0.102\\nsquared_error = 18.996\\nsamples = 13\\nvalue = 50.569'),\n",
       " Text(0.2982221372586504, 0.5476190476190477, 'X[0] <= -0.124\\nsquared_error = 16.505\\nsamples = 8\\nvalue = 49.85'),\n",
       " Text(0.29210476008411396, 0.5, 'X[0] <= -0.137\\nsquared_error = 9.917\\nsamples = 4\\nvalue = 51.075'),\n",
       " Text(0.28904607149684575, 0.4523809523809524, 'squared_error = 0.0\\nsamples = 1\\nvalue = 51.7'),\n",
       " Text(0.29516344867138217, 0.4523809523809524, 'squared_error = 13.049\\nsamples = 3\\nvalue = 50.867'),\n",
       " Text(0.3043395144331868, 0.5, 'X[2] <= 0.478\\nsquared_error = 20.092\\nsamples = 4\\nvalue = 48.625'),\n",
       " Text(0.3012808258459186, 0.4523809523809524, 'squared_error = 26.587\\nsamples = 3\\nvalue = 48.4'),\n",
       " Text(0.307398203020455, 0.4523809523809524, 'squared_error = -0.0\\nsamples = 1\\nvalue = 49.3'),\n",
       " Text(0.3196329573695278, 0.5476190476190477, 'X[4] <= 0.638\\nsquared_error = 20.83\\nsamples = 5\\nvalue = 51.72'),\n",
       " Text(0.3165742687822596, 0.5, 'X[3] <= 1.021\\nsquared_error = 6.632\\nsamples = 4\\nvalue = 49.75'),\n",
       " Text(0.3135155801949914, 0.4523809523809524, 'X[2] <= 0.988\\nsquared_error = 7.482\\nsamples = 3\\nvalue = 50.333'),\n",
       " Text(0.31045689160772316, 0.40476190476190477, 'X[0] <= 0.065\\nsquared_error = 4.622\\nsamples = 2\\nvalue = 48.85'),\n",
       " Text(0.307398203020455, 0.35714285714285715, 'squared_error = 0.0\\nsamples = 1\\nvalue = 51.0'),\n",
       " Text(0.3135155801949914, 0.35714285714285715, 'squared_error = 0.0\\nsamples = 1\\nvalue = 46.7'),\n",
       " Text(0.3165742687822596, 0.40476190476190477, 'squared_error = 0.0\\nsamples = 1\\nvalue = 53.3'),\n",
       " Text(0.3196329573695278, 0.4523809523809524, 'squared_error = -0.0\\nsamples = 1\\nvalue = 48.0'),\n",
       " Text(0.322691645956796, 0.5, 'squared_error = 0.0\\nsamples = 1\\nvalue = 59.6'),\n",
       " Text(0.33951443318677116, 0.7380952380952381, 'X[2] <= 1.498\\nsquared_error = 214.19\\nsamples = 8\\nvalue = 57.65'),\n",
       " Text(0.33186771171860063, 0.6904761904761905, 'X[0] <= 2.003\\nsquared_error = 98.801\\nsamples = 6\\nvalue = 50.817'),\n",
       " Text(0.3257503345440642, 0.6428571428571429, 'X[3] <= 0.221\\nsquared_error = 9.42\\nsamples = 3\\nvalue = 44.6'),\n",
       " Text(0.322691645956796, 0.5952380952380952, 'squared_error = 0.0\\nsamples = 1\\nvalue = 48.5'),\n",
       " Text(0.3288090231313324, 0.5952380952380952, 'X[4] <= 0.593\\nsquared_error = 2.722\\nsamples = 2\\nvalue = 42.65'),\n",
       " Text(0.3257503345440642, 0.5476190476190477, 'squared_error = 0.0\\nsamples = 1\\nvalue = 41.0'),\n",
       " Text(0.33186771171860063, 0.5476190476190477, 'squared_error = 0.0\\nsamples = 1\\nvalue = 44.3'),\n",
       " Text(0.33798508889313705, 0.6428571428571429, 'X[1] <= -0.788\\nsquared_error = 110.889\\nsamples = 3\\nvalue = 57.033'),\n",
       " Text(0.33492640030586884, 0.5952380952380952, 'squared_error = 0.0\\nsamples = 1\\nvalue = 42.7'),\n",
       " Text(0.34104377748040526, 0.5952380952380952, 'X[2] <= 0.988\\nsquared_error = 12.25\\nsamples = 2\\nvalue = 64.2'),\n",
       " Text(0.33798508889313705, 0.5476190476190477, 'squared_error = 0.0\\nsamples = 1\\nvalue = 60.7'),\n",
       " Text(0.3441024660676735, 0.5476190476190477, 'squared_error = 0.0\\nsamples = 1\\nvalue = 67.7'),\n",
       " Text(0.3471611546549417, 0.6904761904761905, 'X[3] <= 0.39\\nsquared_error = 0.022\\nsamples = 2\\nvalue = 78.15'),\n",
       " Text(0.3441024660676735, 0.6428571428571429, 'squared_error = 0.0\\nsamples = 1\\nvalue = 78.0'),\n",
       " Text(0.3502198432422099, 0.6428571428571429, 'squared_error = -0.0\\nsamples = 1\\nvalue = 78.3'),\n",
       " Text(0.4672415647103804, 0.8333333333333334, 'X[3] <= -0.402\\nsquared_error = 51.461\\nsamples = 108\\nvalue = 38.294'),\n",
       " Text(0.37163066335308736, 0.7857142857142857, 'X[0] <= -0.238\\nsquared_error = 62.86\\nsamples = 11\\nvalue = 28.882'),\n",
       " Text(0.36857197476581915, 0.7380952380952381, 'squared_error = 0.0\\nsamples = 1\\nvalue = 7.6'),\n",
       " Text(0.3746893519403556, 0.7380952380952381, 'X[0] <= 0.078\\nsquared_error = 19.325\\nsamples = 10\\nvalue = 31.01'),\n",
       " Text(0.3593959090040145, 0.6904761904761905, 'X[3] <= -1.092\\nsquared_error = 16.854\\nsamples = 5\\nvalue = 28.12'),\n",
       " Text(0.3563372204167463, 0.6428571428571429, 'squared_error = 0.0\\nsamples = 1\\nvalue = 34.6'),\n",
       " Text(0.36245459759128273, 0.6428571428571429, 'X[0] <= -0.005\\nsquared_error = 7.945\\nsamples = 4\\nvalue = 26.5'),\n",
       " Text(0.3563372204167463, 0.5952380952380952, 'X[2] <= -0.542\\nsquared_error = 0.562\\nsamples = 2\\nvalue = 23.75'),\n",
       " Text(0.3532785318294781, 0.5476190476190477, 'squared_error = 0.0\\nsamples = 1\\nvalue = 23.0'),\n",
       " Text(0.3593959090040145, 0.5476190476190477, 'squared_error = 0.0\\nsamples = 1\\nvalue = 24.5'),\n",
       " Text(0.36857197476581915, 0.5952380952380952, 'X[0] <= 0.016\\nsquared_error = 0.202\\nsamples = 2\\nvalue = 29.25'),\n",
       " Text(0.36551328617855094, 0.5476190476190477, 'squared_error = 0.0\\nsamples = 1\\nvalue = 28.8'),\n",
       " Text(0.37163066335308736, 0.5476190476190477, 'squared_error = 0.0\\nsamples = 1\\nvalue = 29.7'),\n",
       " Text(0.3899827948766966, 0.6904761904761905, 'X[1] <= -0.473\\nsquared_error = 5.092\\nsamples = 5\\nvalue = 33.9'),\n",
       " Text(0.3838654177021602, 0.6428571428571429, 'X[3] <= -0.8\\nsquared_error = 2.136\\nsamples = 3\\nvalue = 32.467'),\n",
       " Text(0.380806729114892, 0.5952380952380952, 'X[0] <= 0.126\\nsquared_error = 0.302\\nsamples = 2\\nvalue = 33.45'),\n",
       " Text(0.3777480405276238, 0.5476190476190477, 'squared_error = 0.0\\nsamples = 1\\nvalue = 34.0'),\n",
       " Text(0.3838654177021602, 0.5476190476190477, 'squared_error = -0.0\\nsamples = 1\\nvalue = 32.9'),\n",
       " Text(0.3869241062894284, 0.5952380952380952, 'squared_error = 0.0\\nsamples = 1\\nvalue = 30.5'),\n",
       " Text(0.39610017205123305, 0.6428571428571429, 'X[0] <= 1.242\\nsquared_error = 1.822\\nsamples = 2\\nvalue = 36.05'),\n",
       " Text(0.39304148346396484, 0.5952380952380952, 'squared_error = 0.0\\nsamples = 1\\nvalue = 37.4'),\n",
       " Text(0.39915886063850126, 0.5952380952380952, 'squared_error = 0.0\\nsamples = 1\\nvalue = 34.7'),\n",
       " Text(0.5628524660676735, 0.7857142857142857, 'X[4] <= 0.749\\nsquared_error = 38.982\\nsamples = 97\\nvalue = 39.362'),\n",
       " Text(0.49848260370865993, 0.7380952380952381, 'X[4] <= 0.089\\nsquared_error = 39.344\\nsamples = 83\\nvalue = 39.887'),\n",
       " Text(0.4113936149875741, 0.6904761904761905, 'X[2] <= 0.478\\nsquared_error = 24.538\\nsamples = 19\\nvalue = 36.984'),\n",
       " Text(0.4083349264003059, 0.6428571428571429, 'X[1] <= -0.586\\nsquared_error = 17.479\\nsamples = 18\\nvalue = 37.65'),\n",
       " Text(0.4052762378130377, 0.5952380952380952, 'squared_error = 0.0\\nsamples = 1\\nvalue = 26.5'),\n",
       " Text(0.4113936149875741, 0.5952380952380952, 'X[0] <= 1.765\\nsquared_error = 10.764\\nsamples = 17\\nvalue = 38.306'),\n",
       " Text(0.39858535652838845, 0.5476190476190477, 'X[1] <= -0.489\\nsquared_error = 5.899\\nsamples = 14\\nvalue = 39.2'),\n",
       " Text(0.3890269546931753, 0.5, 'X[4] <= -0.059\\nsquared_error = 1.087\\nsamples = 3\\nvalue = 42.8'),\n",
       " Text(0.38596826610590707, 0.4523809523809524, 'X[1] <= -0.545\\nsquared_error = 0.16\\nsamples = 2\\nvalue = 43.5'),\n",
       " Text(0.3829095775186389, 0.40476190476190477, 'squared_error = 0.0\\nsamples = 1\\nvalue = 43.1'),\n",
       " Text(0.3890269546931753, 0.40476190476190477, 'squared_error = -0.0\\nsamples = 1\\nvalue = 43.9'),\n",
       " Text(0.3920856432804435, 0.4523809523809524, 'squared_error = -0.0\\nsamples = 1\\nvalue = 41.4'),\n",
       " Text(0.4081437583636016, 0.5, 'X[1] <= -0.324\\nsquared_error = 2.712\\nsamples = 11\\nvalue = 38.218'),\n",
       " Text(0.3982030204549799, 0.4523809523809524, 'X[3] <= 0.467\\nsquared_error = 1.44\\nsamples = 2\\nvalue = 35.8'),\n",
       " Text(0.3951443318677117, 0.40476190476190477, 'squared_error = 0.0\\nsamples = 1\\nvalue = 37.0'),\n",
       " Text(0.4012617090422481, 0.40476190476190477, 'squared_error = 0.0\\nsamples = 1\\nvalue = 34.6'),\n",
       " Text(0.41808449627222327, 0.4523809523809524, 'X[4] <= 0.048\\nsquared_error = 1.407\\nsamples = 9\\nvalue = 38.756'),\n",
       " Text(0.40737908621678454, 0.40476190476190477, 'X[0] <= -0.423\\nsquared_error = 0.362\\nsamples = 4\\nvalue = 39.975'),\n",
       " Text(0.4043203976295163, 0.35714285714285715, 'squared_error = 0.0\\nsamples = 1\\nvalue = 40.6'),\n",
       " Text(0.41043777480405275, 0.35714285714285715, 'X[1] <= -0.185\\nsquared_error = 0.309\\nsamples = 3\\nvalue = 39.767'),\n",
       " Text(0.40737908621678454, 0.30952380952380953, 'squared_error = 0.0\\nsamples = 1\\nvalue = 39.0'),\n",
       " Text(0.41349646339132096, 0.30952380952380953, 'X[0] <= -0.063\\nsquared_error = 0.023\\nsamples = 2\\nvalue = 40.15'),\n",
       " Text(0.41043777480405275, 0.2619047619047619, 'squared_error = 0.0\\nsamples = 1\\nvalue = 40.3'),\n",
       " Text(0.41655515197858917, 0.2619047619047619, 'squared_error = 0.0\\nsamples = 1\\nvalue = 40.0'),\n",
       " Text(0.428789906327662, 0.40476190476190477, 'X[0] <= -0.181\\nsquared_error = 0.102\\nsamples = 5\\nvalue = 37.78'),\n",
       " Text(0.4226725291531256, 0.35714285714285715, 'X[0] <= -0.19\\nsquared_error = 0.002\\nsamples = 2\\nvalue = 37.45'),\n",
       " Text(0.4196138405658574, 0.30952380952380953, 'squared_error = 0.0\\nsamples = 1\\nvalue = 37.4'),\n",
       " Text(0.4257312177403938, 0.30952380952380953, 'squared_error = -0.0\\nsamples = 1\\nvalue = 37.5'),\n",
       " Text(0.4349072835021984, 0.35714285714285715, 'X[0] <= -0.045\\nsquared_error = 0.047\\nsamples = 3\\nvalue = 38.0'),\n",
       " Text(0.4318485949149302, 0.30952380952380953, 'X[0] <= -0.124\\nsquared_error = 0.04\\nsamples = 2\\nvalue = 37.9'),\n",
       " Text(0.428789906327662, 0.2619047619047619, 'squared_error = 0.0\\nsamples = 1\\nvalue = 38.1'),\n",
       " Text(0.4349072835021984, 0.2619047619047619, 'squared_error = -0.0\\nsamples = 1\\nvalue = 37.7'),\n",
       " Text(0.43796597208946664, 0.30952380952380953, 'squared_error = 0.0\\nsamples = 1\\nvalue = 38.2'),\n",
       " Text(0.4242018734467597, 0.5476190476190477, 'X[4] <= 0.043\\nsquared_error = 12.329\\nsamples = 3\\nvalue = 34.133'),\n",
       " Text(0.4211431848594915, 0.5, 'squared_error = 0.0\\nsamples = 1\\nvalue = 29.8'),\n",
       " Text(0.4272605620340279, 0.5, 'X[4] <= 0.066\\nsquared_error = 4.41\\nsamples = 2\\nvalue = 36.3'),\n",
       " Text(0.4242018734467597, 0.4523809523809524, 'squared_error = 0.0\\nsamples = 1\\nvalue = 38.4'),\n",
       " Text(0.4303192506212961, 0.4523809523809524, 'squared_error = 0.0\\nsamples = 1\\nvalue = 34.2'),\n",
       " Text(0.4144523035748423, 0.6428571428571429, 'squared_error = -0.0\\nsamples = 1\\nvalue = 25.0'),\n",
       " Text(0.5855715924297458, 0.6904761904761905, 'X[1] <= -0.311\\nsquared_error = 40.496\\nsamples = 64\\nvalue = 40.748'),\n",
       " Text(0.5699197094245843, 0.6428571428571429, 'X[0] <= 1.787\\nsquared_error = 30.122\\nsamples = 62\\nvalue = 40.156'),\n",
       " Text(0.5477920091760657, 0.5952380952380952, 'X[1] <= -0.358\\nsquared_error = 27.891\\nsamples = 54\\nvalue = 40.978'),\n",
       " Text(0.5234180844962723, 0.5476190476190477, 'X[0] <= 0.579\\nsquared_error = 20.71\\nsamples = 52\\nvalue = 40.587'),\n",
       " Text(0.4838463008984898, 0.5, 'X[3] <= 1.452\\nsquared_error = 18.96\\nsamples = 28\\nvalue = 42.411'),\n",
       " Text(0.46855285796214874, 0.4523809523809524, 'X[0] <= 0.113\\nsquared_error = 13.494\\nsamples = 24\\nvalue = 41.563'),\n",
       " Text(0.4532594150258077, 0.40476190476190477, 'X[0] <= -0.375\\nsquared_error = 12.873\\nsamples = 17\\nvalue = 40.612'),\n",
       " Text(0.44714203785127127, 0.35714285714285715, 'X[0] <= -0.392\\nsquared_error = 13.484\\nsamples = 7\\nvalue = 39.614'),\n",
       " Text(0.44408334926400306, 0.30952380952380953, 'X[0] <= -0.419\\nsquared_error = 1.69\\nsamples = 5\\nvalue = 41.42'),\n",
       " Text(0.44102466067673485, 0.2619047619047619, 'squared_error = 0.0\\nsamples = 2\\nvalue = 42.5'),\n",
       " Text(0.44714203785127127, 0.2619047619047619, 'X[0] <= -0.405\\nsquared_error = 1.52\\nsamples = 3\\nvalue = 40.7'),\n",
       " Text(0.44408334926400306, 0.21428571428571427, 'squared_error = 0.36\\nsamples = 2\\nvalue = 39.9'),\n",
       " Text(0.4502007264385395, 0.21428571428571427, 'squared_error = 0.0\\nsamples = 1\\nvalue = 42.3'),\n",
       " Text(0.4502007264385395, 0.30952380952380953, 'squared_error = 14.44\\nsamples = 2\\nvalue = 35.1'),\n",
       " Text(0.4593767922003441, 0.35714285714285715, 'X[0] <= -0.3\\nsquared_error = 11.261\\nsamples = 10\\nvalue = 41.31'),\n",
       " Text(0.4563181036130759, 0.30952380952380953, 'squared_error = 10.416\\nsamples = 3\\nvalue = 43.967'),\n",
       " Text(0.4624354807876123, 0.30952380952380953, 'X[0] <= -0.234\\nsquared_error = 7.302\\nsamples = 7\\nvalue = 40.171'),\n",
       " Text(0.4593767922003441, 0.2619047619047619, 'squared_error = 0.0\\nsamples = 1\\nvalue = 34.4'),\n",
       " Text(0.46549416937488053, 0.2619047619047619, 'X[4] <= 0.669\\nsquared_error = 2.042\\nsamples = 6\\nvalue = 41.133'),\n",
       " Text(0.4593767922003441, 0.21428571428571427, 'X[1] <= -0.557\\nsquared_error = 0.205\\nsamples = 4\\nvalue = 40.2'),\n",
       " Text(0.4563181036130759, 0.16666666666666666, 'squared_error = 0.0\\nsamples = 1\\nvalue = 39.5'),\n",
       " Text(0.4624354807876123, 0.16666666666666666, 'X[2] <= 0.478\\nsquared_error = 0.056\\nsamples = 3\\nvalue = 40.433'),\n",
       " Text(0.4593767922003441, 0.11904761904761904, 'squared_error = 0.0\\nsamples = 1\\nvalue = 40.1'),\n",
       " Text(0.46549416937488053, 0.11904761904761904, 'squared_error = -0.0\\nsamples = 2\\nvalue = 40.6'),\n",
       " Text(0.47161154654941695, 0.21428571428571427, 'X[2] <= 1.158\\nsquared_error = 0.49\\nsamples = 2\\nvalue = 43.0'),\n",
       " Text(0.46855285796214874, 0.16666666666666666, 'squared_error = 0.0\\nsamples = 1\\nvalue = 43.7'),\n",
       " Text(0.47467023513668516, 0.16666666666666666, 'squared_error = 0.0\\nsamples = 1\\nvalue = 42.3'),\n",
       " Text(0.4838463008984898, 0.40476190476190477, 'X[1] <= -0.394\\nsquared_error = 7.476\\nsamples = 7\\nvalue = 43.871'),\n",
       " Text(0.4807876123112216, 0.35714285714285715, 'X[0] <= 0.223\\nsquared_error = 5.175\\nsamples = 6\\nvalue = 44.583'),\n",
       " Text(0.47467023513668516, 0.30952380952380953, 'X[3] <= 0.328\\nsquared_error = 0.303\\nsamples = 2\\nvalue = 47.55'),\n",
       " Text(0.47161154654941695, 0.2619047619047619, 'squared_error = 0.0\\nsamples = 1\\nvalue = 48.1'),\n",
       " Text(0.47772892372395337, 0.2619047619047619, 'squared_error = 0.0\\nsamples = 1\\nvalue = 47.0'),\n",
       " Text(0.486904989485758, 0.30952380952380953, 'X[4] <= 0.531\\nsquared_error = 1.01\\nsamples = 4\\nvalue = 43.1'),\n",
       " Text(0.4838463008984898, 0.2619047619047619, 'X[0] <= 0.333\\nsquared_error = 0.809\\nsamples = 3\\nvalue = 43.467'),\n",
       " Text(0.4807876123112216, 0.21428571428571427, 'squared_error = 0.0\\nsamples = 1\\nvalue = 42.2'),\n",
       " Text(0.486904989485758, 0.21428571428571427, 'X[4] <= 0.304\\nsquared_error = 0.01\\nsamples = 2\\nvalue = 44.1'),\n",
       " Text(0.4838463008984898, 0.16666666666666666, 'squared_error = 0.0\\nsamples = 1\\nvalue = 44.0'),\n",
       " Text(0.4899636780730262, 0.16666666666666666, 'squared_error = 0.0\\nsamples = 1\\nvalue = 44.2'),\n",
       " Text(0.4899636780730262, 0.2619047619047619, 'squared_error = 0.0\\nsamples = 1\\nvalue = 42.0'),\n",
       " Text(0.486904989485758, 0.35714285714285715, 'squared_error = -0.0\\nsamples = 1\\nvalue = 39.6'),\n",
       " Text(0.49913974383483084, 0.4523809523809524, 'X[0] <= -0.397\\nsquared_error = 21.535\\nsamples = 4\\nvalue = 47.5'),\n",
       " Text(0.49608105524756263, 0.40476190476190477, 'X[0] <= -0.432\\nsquared_error = 3.802\\nsamples = 2\\nvalue = 43.95'),\n",
       " Text(0.4930223666602944, 0.35714285714285715, 'squared_error = 0.0\\nsamples = 1\\nvalue = 42.0'),\n",
       " Text(0.49913974383483084, 0.35714285714285715, 'squared_error = -0.0\\nsamples = 1\\nvalue = 45.9'),\n",
       " Text(0.502198432422099, 0.40476190476190477, 'squared_error = 14.063\\nsamples = 2\\nvalue = 51.05'),\n",
       " Text(0.5629898680940547, 0.5, 'X[2] <= 1.837\\nsquared_error = 14.342\\nsamples = 24\\nvalue = 38.458'),\n",
       " Text(0.5599311795067865, 0.4523809523809524, 'X[2] <= 1.158\\nsquared_error = 10.39\\nsamples = 23\\nvalue = 38.022'),\n",
       " Text(0.5473140890843051, 0.40476190476190477, 'X[4] <= 0.577\\nsquared_error = 7.344\\nsamples = 18\\nvalue = 37.272'),\n",
       " Text(0.5343146625884152, 0.35714285714285715, 'X[1] <= -0.39\\nsquared_error = 5.963\\nsamples = 16\\nvalue = 37.769'),\n",
       " Text(0.5174918753584401, 0.30952380952380953, 'X[0] <= 0.851\\nsquared_error = 4.082\\nsamples = 12\\nvalue = 38.333'),\n",
       " Text(0.5052571210093673, 0.2619047619047619, 'X[0] <= 0.79\\nsquared_error = 0.98\\nsamples = 4\\nvalue = 36.9'),\n",
       " Text(0.49913974383483084, 0.21428571428571427, 'X[4] <= 0.434\\nsquared_error = 0.09\\nsamples = 2\\nvalue = 37.8'),\n",
       " Text(0.49608105524756263, 0.16666666666666666, 'squared_error = 0.0\\nsamples = 1\\nvalue = 37.5'),\n",
       " Text(0.502198432422099, 0.16666666666666666, 'squared_error = 0.0\\nsamples = 1\\nvalue = 38.1'),\n",
       " Text(0.5113744981839037, 0.21428571428571427, 'X[0] <= 0.821\\nsquared_error = 0.25\\nsamples = 2\\nvalue = 36.0'),\n",
       " Text(0.5083158095966355, 0.16666666666666666, 'squared_error = 0.0\\nsamples = 1\\nvalue = 35.5'),\n",
       " Text(0.5144331867711719, 0.16666666666666666, 'squared_error = 0.0\\nsamples = 1\\nvalue = 36.5'),\n",
       " Text(0.5297266297075129, 0.2619047619047619, 'X[3] <= 0.142\\nsquared_error = 4.093\\nsamples = 8\\nvalue = 39.05'),\n",
       " Text(0.5236092525329765, 0.21428571428571427, 'X[3] <= -0.151\\nsquared_error = 0.023\\nsamples = 2\\nvalue = 36.65'),\n",
       " Text(0.5205505639457083, 0.16666666666666666, 'squared_error = 0.0\\nsamples = 1\\nvalue = 36.8'),\n",
       " Text(0.5266679411202447, 0.16666666666666666, 'squared_error = 0.0\\nsamples = 1\\nvalue = 36.5'),\n",
       " Text(0.5358440068820494, 0.21428571428571427, 'X[3] <= 0.808\\nsquared_error = 2.889\\nsamples = 6\\nvalue = 39.85'),\n",
       " Text(0.5327853182947812, 0.16666666666666666, 'X[1] <= -0.468\\nsquared_error = 0.27\\nsamples = 5\\nvalue = 40.58'),\n",
       " Text(0.5266679411202447, 0.11904761904761904, 'X[1] <= -0.556\\nsquared_error = 0.016\\nsamples = 3\\nvalue = 40.967'),\n",
       " Text(0.5236092525329765, 0.07142857142857142, 'squared_error = 0.0\\nsamples = 1\\nvalue = 40.8'),\n",
       " Text(0.5297266297075129, 0.07142857142857142, 'X[1] <= -0.512\\nsquared_error = 0.002\\nsamples = 2\\nvalue = 41.05'),\n",
       " Text(0.5266679411202447, 0.023809523809523808, 'squared_error = 0.0\\nsamples = 1\\nvalue = 41.0'),\n",
       " Text(0.5327853182947812, 0.023809523809523808, 'squared_error = 0.0\\nsamples = 1\\nvalue = 41.1'),\n",
       " Text(0.5389026954693176, 0.11904761904761904, 'X[2] <= -0.542\\nsquared_error = 0.09\\nsamples = 2\\nvalue = 40.0'),\n",
       " Text(0.5358440068820494, 0.07142857142857142, 'squared_error = 0.0\\nsamples = 1\\nvalue = 39.7'),\n",
       " Text(0.5419613840565858, 0.07142857142857142, 'squared_error = 0.0\\nsamples = 1\\nvalue = 40.3'),\n",
       " Text(0.5389026954693176, 0.16666666666666666, 'squared_error = 0.0\\nsamples = 1\\nvalue = 36.2'),\n",
       " Text(0.5511374498183904, 0.30952380952380953, 'X[1] <= -0.372\\nsquared_error = 7.782\\nsamples = 4\\nvalue = 36.075'),\n",
       " Text(0.545020072643854, 0.2619047619047619, 'X[3] <= 0.551\\nsquared_error = 0.25\\nsamples = 2\\nvalue = 33.6'),\n",
       " Text(0.5419613840565858, 0.21428571428571427, 'squared_error = 0.0\\nsamples = 1\\nvalue = 34.1'),\n",
       " Text(0.5480787612311222, 0.21428571428571427, 'squared_error = -0.0\\nsamples = 1\\nvalue = 33.1'),\n",
       " Text(0.5572548269929268, 0.2619047619047619, 'X[4] <= 0.24\\nsquared_error = 3.062\\nsamples = 2\\nvalue = 38.55'),\n",
       " Text(0.5541961384056586, 0.21428571428571427, 'squared_error = 0.0\\nsamples = 1\\nvalue = 40.3'),\n",
       " Text(0.560313515580195, 0.21428571428571427, 'squared_error = 0.0\\nsamples = 1\\nvalue = 36.8'),\n",
       " Text(0.560313515580195, 0.35714285714285715, 'X[1] <= -0.492\\nsquared_error = 0.64\\nsamples = 2\\nvalue = 33.3'),\n",
       " Text(0.5572548269929268, 0.30952380952380953, 'squared_error = 0.0\\nsamples = 1\\nvalue = 32.5'),\n",
       " Text(0.5633722041674633, 0.30952380952380953, 'squared_error = 0.0\\nsamples = 1\\nvalue = 34.1'),\n",
       " Text(0.5725482699292678, 0.40476190476190477, 'X[4] <= 0.189\\nsquared_error = 12.054\\nsamples = 5\\nvalue = 40.72'),\n",
       " Text(0.5694895813419996, 0.35714285714285715, 'squared_error = 0.0\\nsamples = 1\\nvalue = 46.6'),\n",
       " Text(0.575606958516536, 0.35714285714285715, 'X[0] <= 1.361\\nsquared_error = 4.262\\nsamples = 4\\nvalue = 39.25'),\n",
       " Text(0.5725482699292678, 0.30952380952380953, 'X[1] <= -0.481\\nsquared_error = 2.562\\nsamples = 3\\nvalue = 38.367'),\n",
       " Text(0.5694895813419996, 0.2619047619047619, 'X[0] <= 1.313\\nsquared_error = 1.323\\nsamples = 2\\nvalue = 37.45'),\n",
       " Text(0.5664308927547315, 0.21428571428571427, 'squared_error = 0.0\\nsamples = 1\\nvalue = 36.3'),\n",
       " Text(0.5725482699292678, 0.21428571428571427, 'squared_error = -0.0\\nsamples = 1\\nvalue = 38.6'),\n",
       " Text(0.575606958516536, 0.2619047619047619, 'squared_error = 0.0\\nsamples = 1\\nvalue = 40.2'),\n",
       " Text(0.5786656471038042, 0.30952380952380953, 'squared_error = -0.0\\nsamples = 1\\nvalue = 41.9'),\n",
       " Text(0.5660485566813229, 0.4523809523809524, 'squared_error = 0.0\\nsamples = 1\\nvalue = 48.5'),\n",
       " Text(0.5721659338558593, 0.5476190476190477, 'X[0] <= 1.581\\nsquared_error = 107.122\\nsamples = 2\\nvalue = 51.15'),\n",
       " Text(0.5691072452685911, 0.5, 'squared_error = 0.0\\nsamples = 1\\nvalue = 40.8'),\n",
       " Text(0.5752246224431276, 0.5, 'squared_error = -0.0\\nsamples = 1\\nvalue = 61.5'),\n",
       " Text(0.5920474096731027, 0.5952380952380952, 'X[0] <= 1.906\\nsquared_error = 9.894\\nsamples = 8\\nvalue = 34.613'),\n",
       " Text(0.5844006882049322, 0.5476190476190477, 'X[1] <= -0.341\\nsquared_error = 3.02\\nsamples = 3\\nvalue = 31.9'),\n",
       " Text(0.581341999617664, 0.5, 'X[4] <= 0.312\\nsquared_error = 0.562\\nsamples = 2\\nvalue = 30.75'),\n",
       " Text(0.5782833110303958, 0.4523809523809524, 'squared_error = 0.0\\nsamples = 1\\nvalue = 31.5'),\n",
       " Text(0.5844006882049322, 0.4523809523809524, 'squared_error = 0.0\\nsamples = 1\\nvalue = 30.0'),\n",
       " Text(0.5874593767922004, 0.5, 'squared_error = 0.0\\nsamples = 1\\nvalue = 34.2'),\n",
       " Text(0.5996941311412732, 0.5476190476190477, 'X[3] <= 0.685\\nsquared_error = 6.954\\nsamples = 5\\nvalue = 36.24'),\n",
       " Text(0.5935767539667368, 0.5, 'X[0] <= 1.932\\nsquared_error = 0.16\\nsamples = 2\\nvalue = 39.2'),\n",
       " Text(0.5905180653794686, 0.4523809523809524, 'squared_error = 0.0\\nsamples = 1\\nvalue = 38.8'),\n",
       " Text(0.596635442554005, 0.4523809523809524, 'squared_error = -0.0\\nsamples = 1\\nvalue = 39.6'),\n",
       " Text(0.6058115083158095, 0.5, 'X[2] <= 1.158\\nsquared_error = 1.749\\nsamples = 3\\nvalue = 34.267'),\n",
       " Text(0.6027528197285413, 0.4523809523809524, 'X[2] <= 0.308\\nsquared_error = 0.01\\nsamples = 2\\nvalue = 35.2'),\n",
       " Text(0.5996941311412732, 0.40476190476190477, 'squared_error = 0.0\\nsamples = 1\\nvalue = 35.1'),\n",
       " Text(0.6058115083158095, 0.40476190476190477, 'squared_error = -0.0\\nsamples = 1\\nvalue = 35.3'),\n",
       " Text(0.6088701969030778, 0.4523809523809524, 'squared_error = -0.0\\nsamples = 1\\nvalue = 32.4'),\n",
       " Text(0.6012234754349073, 0.6428571428571429, 'X[2] <= -0.202\\nsquared_error = 14.44\\nsamples = 2\\nvalue = 59.1'),\n",
       " Text(0.5981647868476391, 0.5952380952380952, 'squared_error = 0.0\\nsamples = 1\\nvalue = 55.3'),\n",
       " Text(0.6042821640221755, 0.5952380952380952, 'squared_error = 0.0\\nsamples = 1\\nvalue = 62.9'),\n",
       " Text(0.627222328426687, 0.7380952380952381, 'X[3] <= 0.086\\nsquared_error = 25.522\\nsamples = 14\\nvalue = 36.25'),\n",
       " Text(0.6134582297839801, 0.6904761904761905, 'X[0] <= 0.021\\nsquared_error = 23.422\\nsamples = 5\\nvalue = 31.62'),\n",
       " Text(0.6103995411967119, 0.6428571428571429, 'squared_error = 0.0\\nsamples = 1\\nvalue = 26.5'),\n",
       " Text(0.6165169183712483, 0.6428571428571429, 'X[1] <= -0.439\\nsquared_error = 21.085\\nsamples = 4\\nvalue = 32.9'),\n",
       " Text(0.6103995411967119, 0.5952380952380952, 'X[3] <= 0.043\\nsquared_error = 20.25\\nsamples = 2\\nvalue = 36.1'),\n",
       " Text(0.6073408526094437, 0.5476190476190477, 'squared_error = 0.0\\nsamples = 1\\nvalue = 31.6'),\n",
       " Text(0.6134582297839801, 0.5476190476190477, 'squared_error = 0.0\\nsamples = 1\\nvalue = 40.6'),\n",
       " Text(0.6226342955457848, 0.5952380952380952, 'X[4] <= 0.835\\nsquared_error = 1.44\\nsamples = 2\\nvalue = 29.7'),\n",
       " Text(0.6195756069585165, 0.5476190476190477, 'squared_error = 0.0\\nsamples = 1\\nvalue = 28.5'),\n",
       " Text(0.625692984133053, 0.5476190476190477, 'squared_error = 0.0\\nsamples = 1\\nvalue = 30.9'),\n",
       " Text(0.640986427069394, 0.6904761904761905, 'X[3] <= 0.407\\nsquared_error = 8.164\\nsamples = 9\\nvalue = 38.822'),\n",
       " Text(0.6318103613075894, 0.6428571428571429, 'X[4] <= 0.801\\nsquared_error = 0.191\\nsamples = 6\\nvalue = 37.683'),\n",
       " Text(0.6287516727203212, 0.5952380952380952, 'squared_error = 0.01\\nsamples = 2\\nvalue = 38.2'),\n",
       " Text(0.6348690498948576, 0.5952380952380952, 'X[0] <= -0.405\\nsquared_error = 0.082\\nsamples = 4\\nvalue = 37.425'),\n",
       " Text(0.6318103613075894, 0.5476190476190477, 'squared_error = 0.0\\nsamples = 1\\nvalue = 37.0'),\n",
       " Text(0.6379277384821258, 0.5476190476190477, 'X[3] <= 0.259\\nsquared_error = 0.029\\nsamples = 3\\nvalue = 37.567'),\n",
       " Text(0.6348690498948576, 0.5, 'X[0] <= 0.952\\nsquared_error = 0.003\\nsamples = 2\\nvalue = 37.45'),\n",
       " Text(0.6318103613075894, 0.4523809523809524, 'squared_error = 0.0\\nsamples = 1\\nvalue = 37.5'),\n",
       " Text(0.6379277384821258, 0.4523809523809524, 'squared_error = -0.0\\nsamples = 1\\nvalue = 37.4'),\n",
       " Text(0.640986427069394, 0.5, 'squared_error = -0.0\\nsamples = 1\\nvalue = 37.8'),\n",
       " Text(0.6501624928311986, 0.6428571428571429, 'X[1] <= -0.286\\nsquared_error = 16.327\\nsamples = 3\\nvalue = 41.1'),\n",
       " Text(0.6471038042439304, 0.5952380952380952, 'X[2] <= -0.372\\nsquared_error = 3.422\\nsamples = 2\\nvalue = 38.45'),\n",
       " Text(0.6440451156566622, 0.5476190476190477, 'squared_error = 0.0\\nsamples = 1\\nvalue = 36.6'),\n",
       " Text(0.6501624928311986, 0.5476190476190477, 'squared_error = -0.0\\nsamples = 1\\nvalue = 40.3'),\n",
       " Text(0.6532211814184669, 0.5952380952380952, 'squared_error = 0.0\\nsamples = 1\\nvalue = 46.4'),\n",
       " Text(0.9171435910915695, 0.9285714285714286, 'X[1] <= 2.319\\nsquared_error = 54.036\\nsamples = 128\\nvalue = 24.63'),\n",
       " Text(0.8469520646147964, 0.8809523809523809, 'X[3] <= 1.178\\nsquared_error = 42.827\\nsamples = 98\\nvalue = 27.009'),\n",
       " Text(0.7810767539667368, 0.8333333333333334, 'X[0] <= 1.128\\nsquared_error = 23.762\\nsamples = 86\\nvalue = 25.486'),\n",
       " Text(0.686030395717836, 0.7857142857142857, 'X[3] <= -2.884\\nsquared_error = 17.232\\nsamples = 77\\nvalue = 26.349'),\n",
       " Text(0.6593385585930033, 0.7380952380952381, 'X[0] <= -0.12\\nsquared_error = 62.41\\nsamples = 2\\nvalue = 37.2'),\n",
       " Text(0.6562798700057351, 0.6904761904761905, 'squared_error = 0.0\\nsamples = 1\\nvalue = 29.3'),\n",
       " Text(0.6623972471802715, 0.6904761904761905, 'squared_error = -0.0\\nsamples = 1\\nvalue = 45.1'),\n",
       " Text(0.7127222328426687, 0.7380952380952381, 'X[0] <= -1.166\\nsquared_error = 12.803\\nsamples = 75\\nvalue = 26.06'),\n",
       " Text(0.6685146243548079, 0.6904761904761905, 'X[3] <= -0.963\\nsquared_error = 6.214\\nsamples = 10\\nvalue = 30.12'),\n",
       " Text(0.6623972471802715, 0.6428571428571429, 'X[0] <= -1.39\\nsquared_error = 0.49\\nsamples = 2\\nvalue = 26.3'),\n",
       " Text(0.6593385585930033, 0.5952380952380952, 'squared_error = 0.0\\nsamples = 1\\nvalue = 27.0'),\n",
       " Text(0.6654559357675397, 0.5952380952380952, 'squared_error = 0.0\\nsamples = 1\\nvalue = 25.6'),\n",
       " Text(0.6746320015293443, 0.6428571428571429, 'X[1] <= 0.857\\nsquared_error = 3.084\\nsamples = 8\\nvalue = 31.075'),\n",
       " Text(0.6715733129420761, 0.5952380952380952, 'X[0] <= -1.355\\nsquared_error = 2.525\\nsamples = 7\\nvalue = 31.429'),\n",
       " Text(0.6685146243548079, 0.5476190476190477, 'squared_error = 0.0\\nsamples = 1\\nvalue = 33.4'),\n",
       " Text(0.6746320015293443, 0.5476190476190477, 'X[0] <= -1.21\\nsquared_error = 2.19\\nsamples = 6\\nvalue = 31.1'),\n",
       " Text(0.6685146243548079, 0.5, 'X[0] <= -1.271\\nsquared_error = 0.09\\nsamples = 2\\nvalue = 31.4'),\n",
       " Text(0.6654559357675397, 0.4523809523809524, 'squared_error = 0.0\\nsamples = 1\\nvalue = 31.1'),\n",
       " Text(0.6715733129420761, 0.4523809523809524, 'squared_error = 0.0\\nsamples = 1\\nvalue = 31.7'),\n",
       " Text(0.6807493787038807, 0.5, 'X[0] <= -1.201\\nsquared_error = 3.173\\nsamples = 4\\nvalue = 30.95'),\n",
       " Text(0.6776906901166125, 0.4523809523809524, 'squared_error = 4.176\\nsamples = 3\\nvalue = 30.833'),\n",
       " Text(0.683808067291149, 0.4523809523809524, 'squared_error = 0.0\\nsamples = 1\\nvalue = 31.3'),\n",
       " Text(0.6776906901166125, 0.5952380952380952, 'squared_error = 0.0\\nsamples = 1\\nvalue = 28.6'),\n",
       " Text(0.7569298413305295, 0.6904761904761905, 'X[2] <= -1.222\\nsquared_error = 10.891\\nsamples = 65\\nvalue = 25.435'),\n",
       " Text(0.7006308545211241, 0.6428571428571429, 'X[3] <= -2.283\\nsquared_error = 6.049\\nsamples = 13\\nvalue = 23.438'),\n",
       " Text(0.6975721659338558, 0.5952380952380952, 'squared_error = 0.0\\nsamples = 1\\nvalue = 29.3'),\n",
       " Text(0.7036895431083923, 0.5952380952380952, 'X[0] <= 0.785\\nsquared_error = 3.451\\nsamples = 12\\nvalue = 22.95'),\n",
       " Text(0.7006308545211241, 0.5476190476190477, 'X[4] <= 1.034\\nsquared_error = 2.295\\nsamples = 11\\nvalue = 23.3'),\n",
       " Text(0.6929841330529536, 0.5, 'X[4] <= -0.494\\nsquared_error = 0.01\\nsamples = 2\\nvalue = 25.4'),\n",
       " Text(0.6899254444656854, 0.4523809523809524, 'squared_error = 0.0\\nsamples = 1\\nvalue = 25.3'),\n",
       " Text(0.6960428216402218, 0.4523809523809524, 'squared_error = 0.0\\nsamples = 1\\nvalue = 25.5'),\n",
       " Text(0.7082775759892946, 0.5, 'X[1] <= -0.041\\nsquared_error = 1.604\\nsamples = 9\\nvalue = 22.833'),\n",
       " Text(0.7021601988147582, 0.4523809523809524, 'X[0] <= 0.109\\nsquared_error = 0.562\\nsamples = 2\\nvalue = 21.55'),\n",
       " Text(0.69910151022749, 0.40476190476190477, 'squared_error = 0.0\\nsamples = 1\\nvalue = 20.8'),\n",
       " Text(0.7052188874020264, 0.40476190476190477, 'squared_error = 0.0\\nsamples = 1\\nvalue = 22.3'),\n",
       " Text(0.7143949531638311, 0.4523809523809524, 'X[1] <= 1.583\\nsquared_error = 1.297\\nsamples = 7\\nvalue = 23.2'),\n",
       " Text(0.7113362645765628, 0.40476190476190477, 'X[1] <= 1.133\\nsquared_error = 1.076\\nsamples = 6\\nvalue = 22.95'),\n",
       " Text(0.7052188874020264, 0.35714285714285715, 'X[0] <= -1.082\\nsquared_error = 0.782\\nsamples = 4\\nvalue = 23.475'),\n",
       " Text(0.7021601988147582, 0.30952380952380953, 'squared_error = 0.0\\nsamples = 1\\nvalue = 22.3'),\n",
       " Text(0.7082775759892946, 0.30952380952380953, 'X[1] <= 0.555\\nsquared_error = 0.429\\nsamples = 3\\nvalue = 23.867'),\n",
       " Text(0.7052188874020264, 0.2619047619047619, 'X[1] <= 0.018\\nsquared_error = 0.122\\nsamples = 2\\nvalue = 23.45'),\n",
       " Text(0.7021601988147582, 0.21428571428571427, 'squared_error = 0.0\\nsamples = 1\\nvalue = 23.1'),\n",
       " Text(0.7082775759892946, 0.21428571428571427, 'squared_error = 0.0\\nsamples = 1\\nvalue = 23.8'),\n",
       " Text(0.7113362645765628, 0.2619047619047619, 'squared_error = -0.0\\nsamples = 1\\nvalue = 24.7'),\n",
       " Text(0.7174536417510993, 0.35714285714285715, 'X[3] <= -1.148\\nsquared_error = 0.01\\nsamples = 2\\nvalue = 21.9'),\n",
       " Text(0.7143949531638311, 0.30952380952380953, 'squared_error = 0.0\\nsamples = 1\\nvalue = 22.0'),\n",
       " Text(0.7205123303383675, 0.30952380952380953, 'squared_error = 0.0\\nsamples = 1\\nvalue = 21.8'),\n",
       " Text(0.7174536417510993, 0.40476190476190477, 'squared_error = 0.0\\nsamples = 1\\nvalue = 24.7'),\n",
       " Text(0.7067482316956605, 0.5476190476190477, 'squared_error = -0.0\\nsamples = 1\\nvalue = 19.1'),\n",
       " Text(0.813228828139935, 0.6428571428571429, 'X[4] <= -1.094\\nsquared_error = 10.856\\nsamples = 52\\nvalue = 25.935'),\n",
       " Text(0.7748040527623782, 0.5952380952380952, 'X[1] <= 1.275\\nsquared_error = 9.296\\nsamples = 27\\nvalue = 24.448'),\n",
       " Text(0.77174536417511, 0.5476190476190477, 'X[4] <= -1.292\\nsquared_error = 7.835\\nsamples = 26\\nvalue = 24.708'),\n",
       " Text(0.7472758554769643, 0.5, 'X[0] <= -0.788\\nsquared_error = 8.802\\nsamples = 13\\nvalue = 25.808'),\n",
       " Text(0.7442171668896961, 0.4523809523809524, 'squared_error = 0.0\\nsamples = 1\\nvalue = 32.1'),\n",
       " Text(0.7503345440642325, 0.4523809523809524, 'X[1] <= 1.017\\nsquared_error = 5.961\\nsamples = 12\\nvalue = 25.283'),\n",
       " Text(0.7373351175683426, 0.40476190476190477, 'X[3] <= -0.534\\nsquared_error = 6.081\\nsamples = 9\\nvalue = 25.789'),\n",
       " Text(0.729688396100172, 0.35714285714285715, 'X[0] <= -0.339\\nsquared_error = 1.21\\nsamples = 2\\nvalue = 28.4'),\n",
       " Text(0.7266297075129038, 0.30952380952380953, 'squared_error = 0.0\\nsamples = 1\\nvalue = 27.3'),\n",
       " Text(0.7327470846874402, 0.30952380952380953, 'squared_error = 0.0\\nsamples = 1\\nvalue = 29.5'),\n",
       " Text(0.744981839036513, 0.35714285714285715, 'X[0] <= 0.056\\nsquared_error = 4.968\\nsamples = 7\\nvalue = 25.043'),\n",
       " Text(0.7388644618619766, 0.30952380952380953, 'X[4] <= -1.349\\nsquared_error = 0.81\\nsamples = 2\\nvalue = 22.7'),\n",
       " Text(0.7358057732747084, 0.2619047619047619, 'squared_error = 0.0\\nsamples = 1\\nvalue = 21.8'),\n",
       " Text(0.7419231504492448, 0.2619047619047619, 'squared_error = -0.0\\nsamples = 1\\nvalue = 23.6'),\n",
       " Text(0.7510992162110495, 0.30952380952380953, 'X[0] <= 0.144\\nsquared_error = 3.558\\nsamples = 5\\nvalue = 25.98'),\n",
       " Text(0.7480405276237813, 0.2619047619047619, 'squared_error = 0.0\\nsamples = 1\\nvalue = 28.1'),\n",
       " Text(0.7541579047983177, 0.2619047619047619, 'X[0] <= 0.232\\nsquared_error = 3.043\\nsamples = 4\\nvalue = 25.45'),\n",
       " Text(0.7510992162110495, 0.21428571428571427, 'squared_error = 0.0\\nsamples = 1\\nvalue = 22.8'),\n",
       " Text(0.7572165933855859, 0.21428571428571427, 'X[0] <= 0.293\\nsquared_error = 0.936\\nsamples = 3\\nvalue = 26.333'),\n",
       " Text(0.7541579047983177, 0.16666666666666666, 'X[0] <= 0.263\\nsquared_error = 0.003\\nsamples = 2\\nvalue = 25.65'),\n",
       " Text(0.7510992162110495, 0.11904761904761904, 'squared_error = 0.0\\nsamples = 1\\nvalue = 25.6'),\n",
       " Text(0.7572165933855859, 0.11904761904761904, 'squared_error = 0.0\\nsamples = 1\\nvalue = 25.7'),\n",
       " Text(0.7602752819728541, 0.16666666666666666, 'squared_error = 0.0\\nsamples = 1\\nvalue = 27.7'),\n",
       " Text(0.7633339705601223, 0.40476190476190477, 'X[0] <= 0.245\\nsquared_error = 2.536\\nsamples = 3\\nvalue = 23.767'),\n",
       " Text(0.7602752819728541, 0.35714285714285715, 'X[4] <= -1.565\\nsquared_error = 0.903\\nsamples = 2\\nvalue = 24.75'),\n",
       " Text(0.7572165933855859, 0.30952380952380953, 'squared_error = 0.0\\nsamples = 1\\nvalue = 25.7'),\n",
       " Text(0.7633339705601223, 0.30952380952380953, 'squared_error = 0.0\\nsamples = 1\\nvalue = 23.8'),\n",
       " Text(0.7663926591473905, 0.35714285714285715, 'squared_error = 0.0\\nsamples = 1\\nvalue = 21.8'),\n",
       " Text(0.7962148728732555, 0.5, 'X[4] <= -1.148\\nsquared_error = 4.447\\nsamples = 13\\nvalue = 23.608'),\n",
       " Text(0.7832154463773657, 0.4523809523809524, 'X[1] <= 0.674\\nsquared_error = 1.965\\nsamples = 9\\nvalue = 23.044'),\n",
       " Text(0.7755687249091952, 0.40476190476190477, 'X[3] <= -0.246\\nsquared_error = 0.249\\nsamples = 3\\nvalue = 21.433'),\n",
       " Text(0.7725100363219269, 0.35714285714285715, 'X[0] <= -0.414\\nsquared_error = 0.04\\nsamples = 2\\nvalue = 21.1'),\n",
       " Text(0.7694513477346587, 0.30952380952380953, 'squared_error = 0.0\\nsamples = 1\\nvalue = 21.3'),\n",
       " Text(0.7755687249091952, 0.30952380952380953, 'squared_error = -0.0\\nsamples = 1\\nvalue = 20.9'),\n",
       " Text(0.7786274134964634, 0.35714285714285715, 'squared_error = 0.0\\nsamples = 1\\nvalue = 22.1'),\n",
       " Text(0.7908621678455362, 0.40476190476190477, 'X[3] <= -0.694\\nsquared_error = 0.876\\nsamples = 6\\nvalue = 23.85'),\n",
       " Text(0.7847447906709998, 0.35714285714285715, 'X[1] <= 0.854\\nsquared_error = 0.767\\nsamples = 4\\nvalue = 24.275'),\n",
       " Text(0.7816861020837316, 0.30952380952380953, 'squared_error = 0.0\\nsamples = 1\\nvalue = 25.6'),\n",
       " Text(0.787803479258268, 0.30952380952380953, 'X[0] <= -0.12\\nsquared_error = 0.242\\nsamples = 3\\nvalue = 23.833'),\n",
       " Text(0.7847447906709998, 0.2619047619047619, 'X[1] <= 0.927\\nsquared_error = 0.062\\nsamples = 2\\nvalue = 24.15'),\n",
       " Text(0.7816861020837316, 0.21428571428571427, 'squared_error = 0.0\\nsamples = 1\\nvalue = 23.9'),\n",
       " Text(0.787803479258268, 0.21428571428571427, 'squared_error = -0.0\\nsamples = 1\\nvalue = 24.4'),\n",
       " Text(0.7908621678455362, 0.2619047619047619, 'squared_error = -0.0\\nsamples = 1\\nvalue = 23.2'),\n",
       " Text(0.7969795450200726, 0.35714285714285715, 'X[0] <= -0.476\\nsquared_error = 0.01\\nsamples = 2\\nvalue = 23.0'),\n",
       " Text(0.7939208564328044, 0.30952380952380953, 'squared_error = 0.0\\nsamples = 1\\nvalue = 23.1'),\n",
       " Text(0.8000382336073408, 0.30952380952380953, 'squared_error = 0.0\\nsamples = 1\\nvalue = 22.9'),\n",
       " Text(0.8092142993691455, 0.4523809523809524, 'X[0] <= -1.122\\nsquared_error = 7.712\\nsamples = 4\\nvalue = 24.875'),\n",
       " Text(0.8061556107818773, 0.40476190476190477, 'squared_error = 0.0\\nsamples = 1\\nvalue = 21.7'),\n",
       " Text(0.8122729879564137, 0.40476190476190477, 'X[3] <= -0.052\\nsquared_error = 5.802\\nsamples = 3\\nvalue = 25.933'),\n",
       " Text(0.8092142993691455, 0.35714285714285715, 'X[1] <= 0.51\\nsquared_error = 2.102\\nsamples = 2\\nvalue = 24.45'),\n",
       " Text(0.8061556107818773, 0.30952380952380953, 'squared_error = 0.0\\nsamples = 1\\nvalue = 23.0'),\n",
       " Text(0.8122729879564137, 0.30952380952380953, 'squared_error = 0.0\\nsamples = 1\\nvalue = 25.9'),\n",
       " Text(0.8153316765436819, 0.35714285714285715, 'squared_error = 0.0\\nsamples = 1\\nvalue = 28.9'),\n",
       " Text(0.7778627413496464, 0.5476190476190477, 'squared_error = -0.0\\nsamples = 1\\nvalue = 17.7'),\n",
       " Text(0.8516536035174919, 0.5952380952380952, 'X[4] <= -1.056\\nsquared_error = 7.577\\nsamples = 25\\nvalue = 27.54'),\n",
       " Text(0.8245077423054865, 0.5476190476190477, 'X[1] <= 0.362\\nsquared_error = 6.093\\nsamples = 7\\nvalue = 29.314'),\n",
       " Text(0.8183903651309501, 0.5, 'X[1] <= 0.323\\nsquared_error = 12.603\\nsamples = 2\\nvalue = 27.15'),\n",
       " Text(0.8153316765436819, 0.4523809523809524, 'squared_error = 0.0\\nsamples = 1\\nvalue = 30.7'),\n",
       " Text(0.8214490537182183, 0.4523809523809524, 'squared_error = 0.0\\nsamples = 1\\nvalue = 23.6'),\n",
       " Text(0.8306251194800229, 0.5, 'X[0] <= -0.528\\nsquared_error = 0.866\\nsamples = 5\\nvalue = 30.18'),\n",
       " Text(0.8275664308927547, 0.4523809523809524, 'squared_error = 0.0\\nsamples = 1\\nvalue = 28.8'),\n",
       " Text(0.8336838080672911, 0.4523809523809524, 'X[4] <= -1.088\\nsquared_error = 0.487\\nsamples = 4\\nvalue = 30.525'),\n",
       " Text(0.8306251194800229, 0.40476190476190477, 'squared_error = 0.0\\nsamples = 1\\nvalue = 29.4'),\n",
       " Text(0.8367424966545594, 0.40476190476190477, 'X[0] <= -0.432\\nsquared_error = 0.087\\nsamples = 3\\nvalue = 30.9'),\n",
       " Text(0.8336838080672911, 0.35714285714285715, 'squared_error = 0.0\\nsamples = 1\\nvalue = 31.3'),\n",
       " Text(0.8398011852418276, 0.35714285714285715, 'X[4] <= -1.074\\nsquared_error = 0.01\\nsamples = 2\\nvalue = 30.7'),\n",
       " Text(0.8367424966545594, 0.30952380952380953, 'squared_error = 0.0\\nsamples = 1\\nvalue = 30.8'),\n",
       " Text(0.8428598738290958, 0.30952380952380953, 'squared_error = -0.0\\nsamples = 1\\nvalue = 30.6'),\n",
       " Text(0.8787994647294972, 0.5476190476190477, 'X[2] <= -0.542\\nsquared_error = 6.454\\nsamples = 18\\nvalue = 26.85'),\n",
       " Text(0.875740776142229, 0.5, 'X[0] <= -0.331\\nsquared_error = 4.983\\nsamples = 17\\nvalue = 27.171'),\n",
       " Text(0.8658000382336073, 0.4523809523809524, 'X[4] <= 1.37\\nsquared_error = 5.8\\nsamples = 10\\nvalue = 28.04'),\n",
       " Text(0.8627413496463391, 0.40476190476190477, 'X[4] <= 1.16\\nsquared_error = 3.9\\nsamples = 9\\nvalue = 28.544'),\n",
       " Text(0.8550946281781686, 0.35714285714285715, 'X[0] <= -0.493\\nsquared_error = 2.854\\nsamples = 7\\nvalue = 27.857'),\n",
       " Text(0.8489772510036322, 0.30952380952380953, 'X[0] <= -0.528\\nsquared_error = 2.235\\nsamples = 4\\nvalue = 27.2'),\n",
       " Text(0.845918562416364, 0.2619047619047619, 'squared_error = 0.0\\nsamples = 1\\nvalue = 26.2'),\n",
       " Text(0.8520359395909004, 0.2619047619047619, 'X[0] <= -0.506\\nsquared_error = 2.536\\nsamples = 3\\nvalue = 27.533'),\n",
       " Text(0.8489772510036322, 0.21428571428571427, 'squared_error = 0.0\\nsamples = 1\\nvalue = 28.4'),\n",
       " Text(0.8550946281781686, 0.21428571428571427, 'squared_error = 3.24\\nsamples = 2\\nvalue = 27.1'),\n",
       " Text(0.861212005352705, 0.30952380952380953, 'X[0] <= -0.48\\nsquared_error = 2.336\\nsamples = 3\\nvalue = 28.733'),\n",
       " Text(0.8581533167654368, 0.2619047619047619, 'squared_error = 3.062\\nsamples = 2\\nvalue = 28.35'),\n",
       " Text(0.8642706939399732, 0.2619047619047619, 'squared_error = 0.0\\nsamples = 1\\nvalue = 29.5'),\n",
       " Text(0.8703880711145097, 0.35714285714285715, 'X[0] <= -0.682\\nsquared_error = 0.122\\nsamples = 2\\nvalue = 30.95'),\n",
       " Text(0.8673293825272415, 0.30952380952380953, 'squared_error = 0.0\\nsamples = 1\\nvalue = 31.3'),\n",
       " Text(0.8734467597017779, 0.30952380952380953, 'squared_error = -0.0\\nsamples = 1\\nvalue = 30.6'),\n",
       " Text(0.8688587268208755, 0.40476190476190477, 'squared_error = 0.0\\nsamples = 1\\nvalue = 23.5'),\n",
       " Text(0.8856815140508507, 0.4523809523809524, 'X[0] <= -0.225\\nsquared_error = 1.193\\nsamples = 7\\nvalue = 25.929'),\n",
       " Text(0.8795641368763143, 0.40476190476190477, 'X[3] <= -1.391\\nsquared_error = 0.01\\nsamples = 2\\nvalue = 24.7'),\n",
       " Text(0.8765054482890461, 0.35714285714285715, 'squared_error = 0.0\\nsamples = 1\\nvalue = 24.8'),\n",
       " Text(0.8826228254635825, 0.35714285714285715, 'squared_error = 0.0\\nsamples = 1\\nvalue = 24.6'),\n",
       " Text(0.8917988912253871, 0.40476190476190477, 'X[4] <= 1.105\\nsquared_error = 0.822\\nsamples = 5\\nvalue = 26.42'),\n",
       " Text(0.8887402026381189, 0.35714285714285715, 'X[3] <= -0.436\\nsquared_error = 0.103\\nsamples = 4\\nvalue = 26.85'),\n",
       " Text(0.8856815140508507, 0.30952380952380953, 'squared_error = 0.002\\nsamples = 2\\nvalue = 26.55'),\n",
       " Text(0.8917988912253871, 0.30952380952380953, 'X[1] <= 0.427\\nsquared_error = 0.022\\nsamples = 2\\nvalue = 27.15'),\n",
       " Text(0.8887402026381189, 0.2619047619047619, 'squared_error = 0.0\\nsamples = 1\\nvalue = 27.0'),\n",
       " Text(0.8948575798126553, 0.2619047619047619, 'squared_error = 0.0\\nsamples = 1\\nvalue = 27.3'),\n",
       " Text(0.8948575798126553, 0.35714285714285715, 'squared_error = 0.0\\nsamples = 1\\nvalue = 24.7'),\n",
       " Text(0.8818581533167654, 0.5, 'squared_error = -0.0\\nsamples = 1\\nvalue = 21.4'),\n",
       " Text(0.8761231122156375, 0.7857142857142857, 'X[3] <= -1.386\\nsquared_error = 18.702\\nsamples = 9\\nvalue = 18.1'),\n",
       " Text(0.8669470464538329, 0.7380952380952381, 'X[3] <= -1.594\\nsquared_error = 5.631\\nsamples = 6\\nvalue = 15.617'),\n",
       " Text(0.8577709806920283, 0.6904761904761905, 'X[1] <= 0.054\\nsquared_error = 1.527\\nsamples = 3\\nvalue = 17.8'),\n",
       " Text(0.8547122921047601, 0.6428571428571429, 'squared_error = 0.0\\nsamples = 1\\nvalue = 16.1'),\n",
       " Text(0.8608296692792965, 0.6428571428571429, 'X[0] <= 1.155\\nsquared_error = 0.122\\nsamples = 2\\nvalue = 18.65'),\n",
       " Text(0.8577709806920283, 0.5952380952380952, 'squared_error = 0.0\\nsamples = 1\\nvalue = 18.3'),\n",
       " Text(0.8638883578665647, 0.5952380952380952, 'squared_error = 0.0\\nsamples = 1\\nvalue = 19.0'),\n",
       " Text(0.8761231122156375, 0.6904761904761905, 'X[0] <= 1.242\\nsquared_error = 0.202\\nsamples = 3\\nvalue = 13.433'),\n",
       " Text(0.8730644236283693, 0.6428571428571429, 'X[3] <= -1.564\\nsquared_error = 0.003\\nsamples = 2\\nvalue = 13.75'),\n",
       " Text(0.8700057350411011, 0.5952380952380952, 'squared_error = 0.0\\nsamples = 1\\nvalue = 13.8'),\n",
       " Text(0.8761231122156375, 0.5952380952380952, 'squared_error = 0.0\\nsamples = 1\\nvalue = 13.7'),\n",
       " Text(0.8791818008029058, 0.6428571428571429, 'squared_error = 0.0\\nsamples = 1\\nvalue = 12.8'),\n",
       " Text(0.8852991779774422, 0.7380952380952381, 'X[1] <= 0.285\\nsquared_error = 7.842\\nsamples = 3\\nvalue = 23.067'),\n",
       " Text(0.882240489390174, 0.6904761904761905, 'squared_error = 0.0\\nsamples = 1\\nvalue = 27.0'),\n",
       " Text(0.8883578665647104, 0.6904761904761905, 'X[3] <= -0.451\\nsquared_error = 0.16\\nsamples = 2\\nvalue = 21.1'),\n",
       " Text(0.8852991779774422, 0.6428571428571429, 'squared_error = 0.0\\nsamples = 1\\nvalue = 20.7'),\n",
       " Text(0.8914165551519786, 0.6428571428571429, 'squared_error = -0.0\\nsamples = 1\\nvalue = 21.5'),\n",
       " Text(0.9128273752628561, 0.8333333333333334, 'X[2] <= -1.052\\nsquared_error = 43.677\\nsamples = 12\\nvalue = 37.925'),\n",
       " Text(0.9005926209137832, 0.7857142857142857, 'X[0] <= -0.77\\nsquared_error = 10.24\\nsamples = 6\\nvalue = 43.3'),\n",
       " Text(0.897533932326515, 0.7380952380952381, 'squared_error = 0.0\\nsamples = 1\\nvalue = 48.0'),\n",
       " Text(0.9036513095010514, 0.7380952380952381, 'X[1] <= 1.622\\nsquared_error = 6.986\\nsamples = 5\\nvalue = 42.36'),\n",
       " Text(0.9005926209137832, 0.6904761904761905, 'X[0] <= -0.761\\nsquared_error = 3.115\\nsamples = 4\\nvalue = 41.3'),\n",
       " Text(0.897533932326515, 0.6428571428571429, 'squared_error = 0.0\\nsamples = 1\\nvalue = 38.5'),\n",
       " Text(0.9036513095010514, 0.6428571428571429, 'X[0] <= 0.364\\nsquared_error = 0.669\\nsamples = 3\\nvalue = 42.233'),\n",
       " Text(0.9005926209137832, 0.5952380952380952, 'squared_error = 0.202\\nsamples = 2\\nvalue = 42.75'),\n",
       " Text(0.9067099980883196, 0.5952380952380952, 'squared_error = 0.0\\nsamples = 1\\nvalue = 41.2'),\n",
       " Text(0.9067099980883196, 0.6904761904761905, 'squared_error = 0.0\\nsamples = 1\\nvalue = 46.6'),\n",
       " Text(0.9250621296119289, 0.7857142857142857, 'X[1] <= 0.666\\nsquared_error = 19.332\\nsamples = 6\\nvalue = 32.55'),\n",
       " Text(0.9220034410246607, 0.7380952380952381, 'X[0] <= -0.203\\nsquared_error = 3.542\\nsamples = 5\\nvalue = 34.36'),\n",
       " Text(0.9189447524373925, 0.6904761904761905, 'X[0] <= -0.401\\nsquared_error = 1.107\\nsamples = 4\\nvalue = 35.175'),\n",
       " Text(0.9158860638501243, 0.6428571428571429, 'X[0] <= -0.432\\nsquared_error = 1.136\\nsamples = 3\\nvalue = 35.467'),\n",
       " Text(0.9128273752628561, 0.5952380952380952, 'X[3] <= 1.524\\nsquared_error = 0.562\\nsamples = 2\\nvalue = 34.85'),\n",
       " Text(0.9097686866755879, 0.5476190476190477, 'squared_error = 0.0\\nsamples = 1\\nvalue = 35.6'),\n",
       " Text(0.9158860638501243, 0.5476190476190477, 'squared_error = -0.0\\nsamples = 1\\nvalue = 34.1'),\n",
       " Text(0.9189447524373925, 0.5952380952380952, 'squared_error = 0.0\\nsamples = 1\\nvalue = 36.7'),\n",
       " Text(0.9220034410246607, 0.6428571428571429, 'squared_error = 0.0\\nsamples = 1\\nvalue = 34.3'),\n",
       " Text(0.9250621296119289, 0.6904761904761905, 'squared_error = 0.0\\nsamples = 1\\nvalue = 31.1'),\n",
       " Text(0.9281208181991971, 0.7380952380952381, 'squared_error = 0.0\\nsamples = 1\\nvalue = 23.5'),\n",
       " Text(0.9873351175683426, 0.8809523809523809, 'X[0] <= 1.269\\nsquared_error = 11.788\\nsamples = 30\\nvalue = 16.86'),\n",
       " Text(0.9842764289810744, 0.8333333333333334, 'X[1] <= 4.178\\nsquared_error = 10.002\\nsamples = 29\\nvalue = 16.59'),\n",
       " Text(0.9746702351366852, 0.7857142857142857, 'X[0] <= 1.067\\nsquared_error = 8.822\\nsamples = 27\\nvalue = 16.952'),\n",
       " Text(0.9646339132097114, 0.7380952380952381, 'X[1] <= 2.781\\nsquared_error = 8.335\\nsamples = 24\\nvalue = 16.621'),\n",
       " Text(0.9537373351175683, 0.6904761904761905, 'X[1] <= 2.722\\nsquared_error = 8.453\\nsamples = 22\\nvalue = 16.841'),\n",
       " Text(0.9411202446950869, 0.6428571428571429, 'X[0] <= 0.926\\nsquared_error = 7.846\\nsamples = 19\\nvalue = 16.505'),\n",
       " Text(0.9380615561078188, 0.5952380952380952, 'X[0] <= -0.085\\nsquared_error = 7.641\\nsamples = 18\\nvalue = 16.689'),\n",
       " Text(0.9220034410246607, 0.5476190476190477, 'X[0] <= -0.247\\nsquared_error = 8.649\\nsamples = 12\\nvalue = 15.958'),\n",
       " Text(0.9112980309692219, 0.5, 'X[0] <= -0.366\\nsquared_error = 5.926\\nsamples = 6\\nvalue = 17.05'),\n",
       " Text(0.9082393423819537, 0.4523809523809524, 'squared_error = 0.0\\nsamples = 1\\nvalue = 18.6'),\n",
       " Text(0.9143567195564901, 0.4523809523809524, 'X[0] <= -0.353\\nsquared_error = 6.534\\nsamples = 5\\nvalue = 16.74'),\n",
       " Text(0.9112980309692219, 0.40476190476190477, 'X[1] <= 2.424\\nsquared_error = 6.416\\nsamples = 3\\nvalue = 16.033'),\n",
       " Text(0.9082393423819537, 0.35714285714285715, 'squared_error = 0.0\\nsamples = 1\\nvalue = 15.9'),\n",
       " Text(0.9143567195564901, 0.35714285714285715, 'squared_error = 9.61\\nsamples = 2\\nvalue = 16.1'),\n",
       " Text(0.9174154081437583, 0.40476190476190477, 'squared_error = 4.84\\nsamples = 2\\nvalue = 17.8'),\n",
       " Text(0.9327088510800994, 0.5, 'X[0] <= -0.137\\nsquared_error = 8.989\\nsamples = 6\\nvalue = 14.867'),\n",
       " Text(0.926591473905563, 0.4523809523809524, 'X[0] <= -0.146\\nsquared_error = 0.423\\nsamples = 2\\nvalue = 12.25'),\n",
       " Text(0.9235327853182947, 0.40476190476190477, 'squared_error = 0.0\\nsamples = 1\\nvalue = 11.6'),\n",
       " Text(0.9296501624928312, 0.40476190476190477, 'squared_error = 0.0\\nsamples = 1\\nvalue = 12.9'),\n",
       " Text(0.9388262282546358, 0.4523809523809524, 'X[1] <= 2.369\\nsquared_error = 8.137\\nsamples = 4\\nvalue = 16.175'),\n",
       " Text(0.9357675396673676, 0.40476190476190477, 'squared_error = 0.0\\nsamples = 1\\nvalue = 20.5'),\n",
       " Text(0.941884916841904, 0.40476190476190477, 'X[0] <= -0.098\\nsquared_error = 2.536\\nsamples = 3\\nvalue = 14.733'),\n",
       " Text(0.9388262282546358, 0.35714285714285715, 'X[3] <= -2.185\\nsquared_error = 0.902\\nsamples = 2\\nvalue = 13.75'),\n",
       " Text(0.9357675396673676, 0.30952380952380953, 'squared_error = 0.0\\nsamples = 1\\nvalue = 12.8'),\n",
       " Text(0.941884916841904, 0.30952380952380953, 'squared_error = 0.0\\nsamples = 1\\nvalue = 14.7'),\n",
       " Text(0.9449436054291722, 0.35714285714285715, 'squared_error = -0.0\\nsamples = 1\\nvalue = 16.7'),\n",
       " Text(0.9541196711909768, 0.5476190476190477, 'X[4] <= -2.188\\nsquared_error = 2.422\\nsamples = 6\\nvalue = 18.15'),\n",
       " Text(0.9480022940164404, 0.5, 'X[0] <= 0.816\\nsquared_error = 0.903\\nsamples = 2\\nvalue = 16.45'),\n",
       " Text(0.9449436054291722, 0.4523809523809524, 'squared_error = 0.0\\nsamples = 1\\nvalue = 15.5'),\n",
       " Text(0.9510609826037086, 0.4523809523809524, 'squared_error = 0.0\\nsamples = 1\\nvalue = 17.4'),\n",
       " Text(0.9602370483655133, 0.5, 'X[0] <= -0.076\\nsquared_error = 1.015\\nsamples = 4\\nvalue = 19.0'),\n",
       " Text(0.9571783597782451, 0.4523809523809524, 'squared_error = 0.0\\nsamples = 1\\nvalue = 18.2'),\n",
       " Text(0.9632957369527815, 0.4523809523809524, 'X[3] <= -2.16\\nsquared_error = 1.069\\nsamples = 3\\nvalue = 19.267'),\n",
       " Text(0.9602370483655133, 0.40476190476190477, 'squared_error = 0.0\\nsamples = 1\\nvalue = 18.8'),\n",
       " Text(0.9663544255400497, 0.40476190476190477, 'squared_error = 1.44\\nsamples = 2\\nvalue = 19.5'),\n",
       " Text(0.9441789332823551, 0.5952380952380952, 'squared_error = 0.0\\nsamples = 1\\nvalue = 13.2'),\n",
       " Text(0.9663544255400497, 0.6428571428571429, 'X[0] <= 0.706\\nsquared_error = 7.069\\nsamples = 3\\nvalue = 18.967'),\n",
       " Text(0.9632957369527815, 0.5952380952380952, 'X[0] <= 0.179\\nsquared_error = 3.24\\nsamples = 2\\nvalue = 17.4'),\n",
       " Text(0.9602370483655133, 0.5476190476190477, 'squared_error = 0.0\\nsamples = 1\\nvalue = 19.2'),\n",
       " Text(0.9663544255400497, 0.5476190476190477, 'squared_error = 0.0\\nsamples = 1\\nvalue = 15.6'),\n",
       " Text(0.9694131141273179, 0.5952380952380952, 'squared_error = 0.0\\nsamples = 1\\nvalue = 22.1'),\n",
       " Text(0.9755304913018543, 0.6904761904761905, 'X[4] <= -3.124\\nsquared_error = 0.64\\nsamples = 2\\nvalue = 14.2'),\n",
       " Text(0.9724718027145861, 0.6428571428571429, 'squared_error = 0.0\\nsamples = 1\\nvalue = 15.0'),\n",
       " Text(0.9785891798891225, 0.6428571428571429, 'squared_error = 0.0\\nsamples = 1\\nvalue = 13.4'),\n",
       " Text(0.984706557063659, 0.7380952380952381, 'X[3] <= -1.527\\nsquared_error = 4.827\\nsamples = 3\\nvalue = 19.6'),\n",
       " Text(0.9816478684763907, 0.6904761904761905, 'squared_error = 0.0\\nsamples = 1\\nvalue = 22.6'),\n",
       " Text(0.9877652456509272, 0.6904761904761905, 'X[0] <= 1.22\\nsquared_error = 0.49\\nsamples = 2\\nvalue = 18.1'),\n",
       " Text(0.984706557063659, 0.6428571428571429, 'squared_error = 0.0\\nsamples = 1\\nvalue = 17.4'),\n",
       " Text(0.9908239342381954, 0.6428571428571429, 'squared_error = -0.0\\nsamples = 1\\nvalue = 18.8'),\n",
       " Text(0.9938826228254636, 0.7857142857142857, 'X[0] <= 0.566\\nsquared_error = 0.25\\nsamples = 2\\nvalue = 11.7'),\n",
       " Text(0.9908239342381954, 0.7380952380952381, 'squared_error = 0.0\\nsamples = 1\\nvalue = 11.2'),\n",
       " Text(0.9969413114127318, 0.7380952380952381, 'squared_error = 0.0\\nsamples = 1\\nvalue = 12.2'),\n",
       " Text(0.9903938061556108, 0.8333333333333334, 'squared_error = 0.0\\nsamples = 1\\nvalue = 24.7')]"
      ]
     },
     "execution_count": 99,
     "metadata": {},
     "output_type": "execute_result"
    },
    {
     "data": {
      "image/png": "[encoded data removed]",
      "text/plain": [
       "<Figure size 432x288 with 1 Axes>"
      ]
     },
     "metadata": {
      "needs_background": "light"
     },
     "output_type": "display_data"
    }
   ],
   "source": [
    "plot_tree(dt)"
   ]
  },
  {
   "cell_type": "code",
   "execution_count": 123,
   "id": "d5832438",
   "metadata": {},
   "outputs": [
    {
     "name": "stderr",
     "output_type": "stream",
     "text": [
      "C:\\Users\\HOME\\AppData\\Local\\Programs\\Python\\Python310\\lib\\site-packages\\sklearn\\model_selection\\_validation.py:372: FitFailedWarning: \n",
      "12474 fits failed out of a total of 43092.\n",
      "The score on these train-test partitions for these parameters will be set to nan.\n",
      "If these failures are not expected, you can try to debug them by setting error_score='raise'.\n",
      "\n",
      "Below are more details about the failures:\n",
      "--------------------------------------------------------------------------------\n",
      "2268 fits failed with the following error:\n",
      "Traceback (most recent call last):\n",
      "  File \"C:\\Users\\HOME\\AppData\\Local\\Programs\\Python\\Python310\\lib\\site-packages\\sklearn\\model_selection\\_validation.py\", line 680, in _fit_and_score\n",
      "    estimator.fit(X_train, y_train, **fit_params)\n",
      "  File \"C:\\Users\\HOME\\AppData\\Local\\Programs\\Python\\Python310\\lib\\site-packages\\sklearn\\tree\\_classes.py\", line 1315, in fit\n",
      "    super().fit(\n",
      "  File \"C:\\Users\\HOME\\AppData\\Local\\Programs\\Python\\Python310\\lib\\site-packages\\sklearn\\tree\\_classes.py\", line 250, in fit\n",
      "    raise ValueError(\n",
      "ValueError: min_samples_split must be an integer greater than 1 or a float in (0.0, 1.0]; got the integer 1\n",
      "\n",
      "--------------------------------------------------------------------------------\n",
      "10206 fits failed with the following error:\n",
      "Traceback (most recent call last):\n",
      "  File \"C:\\Users\\HOME\\AppData\\Local\\Programs\\Python\\Python310\\lib\\site-packages\\sklearn\\model_selection\\_validation.py\", line 680, in _fit_and_score\n",
      "    estimator.fit(X_train, y_train, **fit_params)\n",
      "  File \"C:\\Users\\HOME\\AppData\\Local\\Programs\\Python\\Python310\\lib\\site-packages\\sklearn\\tree\\_classes.py\", line 1315, in fit\n",
      "    super().fit(\n",
      "  File \"C:\\Users\\HOME\\AppData\\Local\\Programs\\Python\\Python310\\lib\\site-packages\\sklearn\\tree\\_classes.py\", line 314, in fit\n",
      "    raise ValueError(\n",
      "ValueError: max_leaf_nodes 1 must be either None or larger than 1\n",
      "\n",
      "  warnings.warn(some_fits_failed_message, FitFailedWarning)\n",
      "C:\\Users\\HOME\\AppData\\Local\\Programs\\Python\\Python310\\lib\\site-packages\\sklearn\\model_selection\\_search.py:969: UserWarning: One or more of the test scores are non-finite: [       nan        nan        nan ... 0.58215574 0.58215574 0.58215574]\n",
      "  warnings.warn(\n"
     ]
    },
    {
     "data": {
      "text/plain": [
       "{'max_depth': 2,\n",
       " 'max_leaf_nodes': 4,\n",
       " 'min_samples_leaf': 2,\n",
       " 'min_samples_split': 17}"
      ]
     },
     "execution_count": 123,
     "metadata": {},
     "output_type": "execute_result"
    }
   ],
   "source": [
    "#hyperparameter tuning for decision tree\n",
    "param_grid_dt={'max_depth':np.arange(1,10),'min_samples_split':np.arange(1,20),'min_samples_leaf':np.arange(1,10),\n",
    "               'max_leaf_nodes':np.arange(1,5),'max_leaf_nodes':np.arange(1,5)}\n",
    "dt=DecisionTreeRegressor()\n",
    "r=GridSearchCV(dt,param_grid_dt,cv=7,n_jobs=-1)\n",
    "r.fit(x_train,y_train)\n",
    "r.best_params_"
   ]
  },
  {
   "cell_type": "code",
   "execution_count": 172,
   "id": "b6b32ee8",
   "metadata": {},
   "outputs": [
    {
     "name": "stdout",
     "output_type": "stream",
     "text": [
      "training accuracy is  0.7127446854510815\n",
      "testing accuracy is  0.5988950852175462\n"
     ]
    }
   ],
   "source": [
    "#final decision tree --> Overfitting (high testing error)\n",
    "x_train,x_test,y_train,y_test=train_test_split(x,y,random_state=43,test_size=0.15)\n",
    "dt=DecisionTreeRegressor(min_samples_split=4,min_samples_leaf=2,max_leaf_nodes=8,max_depth=4)\n",
    "dt.fit(x_train,y_train)\n",
    "y_pred_train=dt.predict(x_train)\n",
    "y_pred_test=dt.predict(x_test)\n",
    "print('training accuracy is ',r2_score(y_train,y_pred_train))\n",
    "print('testing accuracy is ',r2_score(y_test,y_pred_test))"
   ]
  },
  {
   "cell_type": "code",
   "execution_count": 178,
   "id": "858fb252",
   "metadata": {},
   "outputs": [
    {
     "data": {
      "text/plain": [
       "(63, 5)"
      ]
     },
     "execution_count": 178,
     "metadata": {},
     "output_type": "execute_result"
    }
   ],
   "source": [
    "x_test.shape"
   ]
  },
  {
   "cell_type": "code",
   "execution_count": 153,
   "id": "7c5e632e",
   "metadata": {},
   "outputs": [
    {
     "data": {
      "text/plain": [
       "[Text(0.6029411764705882, 0.9, 'X[1] <= -0.081\\nsquared_error = 188.279\\nsamples = 372\\nvalue = 37.855'),\n",
       " Text(0.3235294117647059, 0.7, 'X[0] <= -0.528\\nsquared_error = 118.838\\nsamples = 244\\nvalue = 44.792'),\n",
       " Text(0.11764705882352941, 0.5, 'X[3] <= 0.421\\nsquared_error = 107.834\\nsamples = 78\\nvalue = 52.773'),\n",
       " Text(0.058823529411764705, 0.3, 'squared_error = 32.473\\nsamples = 32\\nvalue = 48.697'),\n",
       " Text(0.17647058823529413, 0.3, 'X[4] <= -0.185\\nsquared_error = 140.66\\nsamples = 46\\nvalue = 55.609'),\n",
       " Text(0.11764705882352941, 0.1, 'squared_error = 1369.0\\nsamples = 2\\nvalue = 80.5'),\n",
       " Text(0.23529411764705882, 0.1, 'squared_error = 55.384\\nsamples = 44\\nvalue = 54.477'),\n",
       " Text(0.5294117647058824, 0.5, 'X[1] <= -0.597\\nsquared_error = 80.012\\nsamples = 166\\nvalue = 41.042'),\n",
       " Text(0.4117647058823529, 0.3, 'X[4] <= 0.454\\nsquared_error = 92.957\\nsamples = 58\\nvalue = 46.157'),\n",
       " Text(0.35294117647058826, 0.1, 'squared_error = 47.642\\nsamples = 17\\nvalue = 39.259'),\n",
       " Text(0.47058823529411764, 0.1, 'squared_error = 83.836\\nsamples = 41\\nvalue = 49.017'),\n",
       " Text(0.6470588235294118, 0.3, 'X[3] <= -0.402\\nsquared_error = 51.461\\nsamples = 108\\nvalue = 38.294'),\n",
       " Text(0.5882352941176471, 0.1, 'squared_error = 62.86\\nsamples = 11\\nvalue = 28.882'),\n",
       " Text(0.7058823529411765, 0.1, 'squared_error = 38.982\\nsamples = 97\\nvalue = 39.362'),\n",
       " Text(0.8823529411764706, 0.7, 'X[1] <= 2.319\\nsquared_error = 54.036\\nsamples = 128\\nvalue = 24.63'),\n",
       " Text(0.8235294117647058, 0.5, 'X[3] <= 1.178\\nsquared_error = 42.827\\nsamples = 98\\nvalue = 27.009'),\n",
       " Text(0.7647058823529411, 0.3, 'squared_error = 23.762\\nsamples = 86\\nvalue = 25.486'),\n",
       " Text(0.8823529411764706, 0.3, 'squared_error = 43.677\\nsamples = 12\\nvalue = 37.925'),\n",
       " Text(0.9411764705882353, 0.5, 'squared_error = 11.788\\nsamples = 30\\nvalue = 16.86')]"
      ]
     },
     "execution_count": 153,
     "metadata": {},
     "output_type": "execute_result"
    },
    {
     "data": {
      "image/png": "[encoded data removed]",
      "text/plain": [
       "<Figure size 432x288 with 1 Axes>"
      ]
     },
     "metadata": {
      "needs_background": "light"
     },
     "output_type": "display_data"
    }
   ],
   "source": [
    "plot_tree(dt)"
   ]
  },
  {
   "cell_type": "code",
   "execution_count": 96,
   "id": "eb035888",
   "metadata": {},
   "outputs": [],
   "source": [
    "#k fold cross validation\n",
    "from sklearn.model_selection import cross_val_score,KFold"
   ]
  },
  {
   "cell_type": "code",
   "execution_count": 117,
   "id": "123a856c",
   "metadata": {},
   "outputs": [],
   "source": [
    "# for finding best folds\n",
    "score=[]\n",
    "for i in range(2,20):\n",
    "    k=KFold(i)\n",
    "    dt=DecisionTreeRegressor(min_samples_split=13,min_samples_leaf=7,max_leaf_nodes=4,max_depth=2)\n",
    "    dt.fit(x_train,y_train)\n",
    "    score.append(np.mean(cross_val_score(dt,x_train,y_train,cv=k,n_jobs=-1)))"
   ]
  },
  {
   "cell_type": "code",
   "execution_count": 118,
   "id": "13ba198c",
   "metadata": {},
   "outputs": [
    {
     "data": {
      "text/plain": [
       "[0.5500121023695392,\n",
       " 0.6002515227249424,\n",
       " 0.592807271060946,\n",
       " 0.5915646142633413,\n",
       " 0.5978086357659357,\n",
       " 0.585518357755266,\n",
       " 0.5913721645873632,\n",
       " 0.6055197572564863,\n",
       " 0.5995408318212576,\n",
       " 0.5898881735350998,\n",
       " 0.5942081836259219,\n",
       " 0.5911355541822843,\n",
       " 0.5732024668176028,\n",
       " 0.5829372474130409,\n",
       " 0.5875785613776298,\n",
       " 0.573141825360906,\n",
       " 0.6008756040613468,\n",
       " 0.5736397181737821]"
      ]
     },
     "execution_count": 118,
     "metadata": {},
     "output_type": "execute_result"
    }
   ],
   "source": [
    "score"
   ]
  },
  {
   "cell_type": "code",
   "execution_count": 122,
   "id": "7544ff78",
   "metadata": {},
   "outputs": [
    {
     "name": "stdout",
     "output_type": "stream",
     "text": [
      "0.6055197572564863\n",
      "7\n"
     ]
    }
   ],
   "source": [
    "print(max(score))\n",
    "print(np.argmax(score))"
   ]
  },
  {
   "cell_type": "markdown",
   "id": "50322861",
   "metadata": {},
   "source": [
    "# Random Forest Regressor"
   ]
  },
  {
   "cell_type": "code",
   "execution_count": 179,
   "id": "d4b748f6",
   "metadata": {},
   "outputs": [],
   "source": [
    "from sklearn.ensemble import RandomForestRegressor"
   ]
  },
  {
   "cell_type": "code",
   "execution_count": 185,
   "id": "48d38415",
   "metadata": {},
   "outputs": [
    {
     "name": "stdout",
     "output_type": "stream",
     "text": [
      "training accuracy is  0.9508778727706464\n",
      "testing accuracy is  0.6724319645634202\n"
     ]
    },
    {
     "data": {
      "text/plain": [
       "0.6686616548721376"
      ]
     },
     "execution_count": 185,
     "metadata": {},
     "output_type": "execute_result"
    }
   ],
   "source": [
    "x_train,x_test,y_train,y_test=train_test_split(x,y,random_state=43,test_size=0.15)\n",
    "rf=RandomForestRegressor(oob_score=True)\n",
    "rf.fit(x_train,y_train)\n",
    "y_pred_train=rf.predict(x_train)\n",
    "y_pred_test=rf.predict(x_test)\n",
    "print('training accuracy is ',r2_score(y_train,y_pred_train))\n",
    "print('testing accuracy is ',r2_score(y_test,y_pred_test))\n",
    "rf.oob_score_"
   ]
  },
  {
   "cell_type": "code",
   "execution_count": 205,
   "id": "9ec6b14e",
   "metadata": {},
   "outputs": [
    {
     "name": "stderr",
     "output_type": "stream",
     "text": [
      "C:\\Users\\HOME\\AppData\\Local\\Programs\\Python\\Python310\\lib\\site-packages\\sklearn\\model_selection\\_validation.py:372: FitFailedWarning: \n",
      "40 fits failed out of a total of 100.\n",
      "The score on these train-test partitions for these parameters will be set to nan.\n",
      "If these failures are not expected, you can try to debug them by setting error_score='raise'.\n",
      "\n",
      "Below are more details about the failures:\n",
      "--------------------------------------------------------------------------------\n",
      "40 fits failed with the following error:\n",
      "Traceback (most recent call last):\n",
      "  File \"C:\\Users\\HOME\\AppData\\Local\\Programs\\Python\\Python310\\lib\\site-packages\\sklearn\\model_selection\\_validation.py\", line 680, in _fit_and_score\n",
      "    estimator.fit(X_train, y_train, **fit_params)\n",
      "  File \"C:\\Users\\HOME\\AppData\\Local\\Programs\\Python\\Python310\\lib\\site-packages\\sklearn\\ensemble\\_forest.py\", line 450, in fit\n",
      "    trees = Parallel(\n",
      "  File \"C:\\Users\\HOME\\AppData\\Local\\Programs\\Python\\Python310\\lib\\site-packages\\joblib\\parallel.py\", line 1041, in __call__\n",
      "    if self.dispatch_one_batch(iterator):\n",
      "  File \"C:\\Users\\HOME\\AppData\\Local\\Programs\\Python\\Python310\\lib\\site-packages\\joblib\\parallel.py\", line 859, in dispatch_one_batch\n",
      "    self._dispatch(tasks)\n",
      "  File \"C:\\Users\\HOME\\AppData\\Local\\Programs\\Python\\Python310\\lib\\site-packages\\joblib\\parallel.py\", line 777, in _dispatch\n",
      "    job = self._backend.apply_async(batch, callback=cb)\n",
      "  File \"C:\\Users\\HOME\\AppData\\Local\\Programs\\Python\\Python310\\lib\\site-packages\\joblib\\_parallel_backends.py\", line 208, in apply_async\n",
      "    result = ImmediateResult(func)\n",
      "  File \"C:\\Users\\HOME\\AppData\\Local\\Programs\\Python\\Python310\\lib\\site-packages\\joblib\\_parallel_backends.py\", line 572, in __init__\n",
      "    self.results = batch()\n",
      "  File \"C:\\Users\\HOME\\AppData\\Local\\Programs\\Python\\Python310\\lib\\site-packages\\joblib\\parallel.py\", line 262, in __call__\n",
      "    return [func(*args, **kwargs)\n",
      "  File \"C:\\Users\\HOME\\AppData\\Local\\Programs\\Python\\Python310\\lib\\site-packages\\joblib\\parallel.py\", line 262, in <listcomp>\n",
      "    return [func(*args, **kwargs)\n",
      "  File \"C:\\Users\\HOME\\AppData\\Local\\Programs\\Python\\Python310\\lib\\site-packages\\sklearn\\utils\\fixes.py\", line 216, in __call__\n",
      "    return self.function(*args, **kwargs)\n",
      "  File \"C:\\Users\\HOME\\AppData\\Local\\Programs\\Python\\Python310\\lib\\site-packages\\sklearn\\ensemble\\_forest.py\", line 185, in _parallel_build_trees\n",
      "    tree.fit(X, y, sample_weight=curr_sample_weight, check_input=False)\n",
      "  File \"C:\\Users\\HOME\\AppData\\Local\\Programs\\Python\\Python310\\lib\\site-packages\\sklearn\\tree\\_classes.py\", line 1315, in fit\n",
      "    super().fit(\n",
      "  File \"C:\\Users\\HOME\\AppData\\Local\\Programs\\Python\\Python310\\lib\\site-packages\\sklearn\\tree\\_classes.py\", line 314, in fit\n",
      "    raise ValueError(\n",
      "ValueError: max_leaf_nodes 1 must be either None or larger than 1\n",
      "\n",
      "  warnings.warn(some_fits_failed_message, FitFailedWarning)\n",
      "C:\\Users\\HOME\\AppData\\Local\\Programs\\Python\\Python310\\lib\\site-packages\\sklearn\\model_selection\\_search.py:969: UserWarning: One or more of the test scores are non-finite: [-0.03572051  0.55687361 -0.03331717         nan         nan  0.44314326\n",
      " -0.03195266         nan  0.4478685          nan]\n",
      "  warnings.warn(\n"
     ]
    },
    {
     "data": {
      "text/plain": [
       "{'n_estimators': 147,\n",
       " 'min_samples_split': 12,\n",
       " 'min_samples_leaf': 1,\n",
       " 'max_samples': 19,\n",
       " 'max_leaf_nodes': 2,\n",
       " 'max_depth': 7}"
      ]
     },
     "execution_count": 205,
     "metadata": {},
     "output_type": "execute_result"
    }
   ],
   "source": [
    "#hyperparameter tuning for random forest\n",
    "param_grid_rf={'n_estimators':np.arange(50,150),'min_samples_split':np.arange(1,20),'min_samples_leaf':np.arange(1,10),\n",
    "               'max_leaf_nodes':np.arange(1,5),'max_samples':np.arange(5,20),'max_depth':np.arange(2,10)}\n",
    "rf=RandomForestRegressor()\n",
    "r=RandomizedSearchCV(rf,param_grid_rf,cv=10,n_jobs=-1)\n",
    "r.fit(x_train,y_train)\n",
    "r.best_params_"
   ]
  },
  {
   "cell_type": "code",
   "execution_count": 282,
   "id": "9160862f",
   "metadata": {},
   "outputs": [
    {
     "name": "stdout",
     "output_type": "stream",
     "text": [
      "training accuracy is  0.8624183166714189\n",
      "testing accuracy is  0.7020532445229725\n"
     ]
    },
    {
     "data": {
      "text/plain": [
       "0.6919265386284723"
      ]
     },
     "execution_count": 282,
     "metadata": {},
     "output_type": "execute_result"
    }
   ],
   "source": [
    "#final Random forest regressor\n",
    "x_train,x_test,y_train,y_test=train_test_split(x,y,random_state=43,test_size=0.15)\n",
    "rf=RandomForestRegressor(oob_score=True,n_estimators=200,min_samples_split=3,min_samples_leaf=3,max_depth=10)\n",
    "rf.fit(x_train,y_train)\n",
    "y_pred_train=rf.predict(x_train)\n",
    "y_pred_test=rf.predict(x_test)\n",
    "print('training accuracy is ',r2_score(y_train,y_pred_train))\n",
    "print('testing accuracy is ',r2_score(y_test,y_pred_test))\n",
    "rf.oob_score_"
   ]
  },
  {
   "cell_type": "markdown",
   "id": "82fa44e8",
   "metadata": {},
   "source": [
    "# adaboost regressor"
   ]
  },
  {
   "cell_type": "code",
   "execution_count": 215,
   "id": "09a952a4",
   "metadata": {},
   "outputs": [],
   "source": [
    "from sklearn.ensemble import AdaBoostRegressor"
   ]
  },
  {
   "cell_type": "code",
   "execution_count": 216,
   "id": "662715e0",
   "metadata": {},
   "outputs": [
    {
     "name": "stdout",
     "output_type": "stream",
     "text": [
      "training accuracy is  0.8037772253774856\n",
      "testing accuracy is  0.6420955355922435\n"
     ]
    }
   ],
   "source": [
    "x_train,x_test,y_train,y_test=train_test_split(x,y,random_state=43,test_size=0.15)\n",
    "ad=AdaBoostRegressor()\n",
    "ad.fit(x_train,y_train)\n",
    "y_pred_train=ad.predict(x_train)\n",
    "y_pred_test=ad.predict(x_test)\n",
    "print('training accuracy is ',r2_score(y_train,y_pred_train))\n",
    "print('testing accuracy is ',r2_score(y_test,y_pred_test))"
   ]
  },
  {
   "cell_type": "code",
   "execution_count": null,
   "id": "39046e04",
   "metadata": {},
   "outputs": [],
   "source": [
    "#hyperparameter tuning for adaboost"
   ]
  },
  {
   "cell_type": "code",
   "execution_count": 220,
   "id": "a8c21c52",
   "metadata": {},
   "outputs": [
    {
     "name": "stderr",
     "output_type": "stream",
     "text": [
      "C:\\Users\\HOME\\AppData\\Local\\Programs\\Python\\Python310\\lib\\site-packages\\sklearn\\model_selection\\_validation.py:372: FitFailedWarning: \n",
      "30 fits failed out of a total of 100.\n",
      "The score on these train-test partitions for these parameters will be set to nan.\n",
      "If these failures are not expected, you can try to debug them by setting error_score='raise'.\n",
      "\n",
      "Below are more details about the failures:\n",
      "--------------------------------------------------------------------------------\n",
      "30 fits failed with the following error:\n",
      "Traceback (most recent call last):\n",
      "  File \"C:\\Users\\HOME\\AppData\\Local\\Programs\\Python\\Python310\\lib\\site-packages\\sklearn\\model_selection\\_validation.py\", line 680, in _fit_and_score\n",
      "    estimator.fit(X_train, y_train, **fit_params)\n",
      "  File \"C:\\Users\\HOME\\AppData\\Local\\Programs\\Python\\Python310\\lib\\site-packages\\sklearn\\ensemble\\_weight_boosting.py\", line 1065, in fit\n",
      "    return super().fit(X, y, sample_weight)\n",
      "  File \"C:\\Users\\HOME\\AppData\\Local\\Programs\\Python\\Python310\\lib\\site-packages\\sklearn\\ensemble\\_weight_boosting.py\", line 114, in fit\n",
      "    raise ValueError(\"learning_rate must be greater than zero\")\n",
      "ValueError: learning_rate must be greater than zero\n",
      "\n",
      "  warnings.warn(some_fits_failed_message, FitFailedWarning)\n",
      "C:\\Users\\HOME\\AppData\\Local\\Programs\\Python\\Python310\\lib\\site-packages\\sklearn\\model_selection\\_search.py:969: UserWarning: One or more of the test scores are non-finite: [0.62550301 0.62697339        nan 0.62873812        nan 0.64596295\n",
      " 0.63661027 0.63729998        nan 0.63349113]\n",
      "  warnings.warn(\n"
     ]
    },
    {
     "data": {
      "text/plain": [
       "{'n_estimators': 25, 'learning_rate': 0.9}"
      ]
     },
     "execution_count": 220,
     "metadata": {},
     "output_type": "execute_result"
    }
   ],
   "source": [
    "param_grid_ad={ 'n_estimators':range(20,100),'learning_rate':np.arange(0,2,0.1)}\n",
    "r=RandomizedSearchCV(ad,param_grid_ad,cv=10)\n",
    "r.fit(x_train,y_train)\n",
    "r.best_params_"
   ]
  },
  {
   "cell_type": "code",
   "execution_count": 244,
   "id": "5e897aa5",
   "metadata": {},
   "outputs": [
    {
     "name": "stdout",
     "output_type": "stream",
     "text": [
      "training accuracy is  0.7993944890250951\n",
      "testing accuracy is  0.6875367789326182\n"
     ]
    }
   ],
   "source": [
    "x_train,x_test,y_train,y_test=train_test_split(x,y,random_state=43,test_size=0.15)\n",
    "ad=AdaBoostRegressor(n_estimators=50,learning_rate=0.08)\n",
    "ad.fit(x_train,y_train)\n",
    "y_pred_train=ad.predict(x_train)\n",
    "y_pred_test=ad.predict(x_test)\n",
    "print('training accuracy is ',r2_score(y_train,y_pred_train))\n",
    "print('testing accuracy is ',r2_score(y_test,y_pred_test))"
   ]
  },
  {
   "cell_type": "markdown",
   "id": "1a95b929",
   "metadata": {},
   "source": [
    "# Gradient Boost regressor"
   ]
  },
  {
   "cell_type": "code",
   "execution_count": 11,
   "id": "41a5ca94",
   "metadata": {},
   "outputs": [],
   "source": [
    "from sklearn.ensemble import GradientBoostingRegressor"
   ]
  },
  {
   "cell_type": "code",
   "execution_count": 12,
   "id": "0f30b389",
   "metadata": {},
   "outputs": [
    {
     "name": "stdout",
     "output_type": "stream",
     "text": [
      "training accuracy is  0.9252665683391106\n",
      "testing accuracy is  0.737821408122838\n"
     ]
    }
   ],
   "source": [
    "x_train,x_test,y_train,y_test=train_test_split(x,y,random_state=43,test_size=0.15)\n",
    "gboost=GradientBoostingRegressor()\n",
    "gboost.fit(x_train,y_train)\n",
    "y_pred_train=gboost.predict(x_train)\n",
    "y_pred_test=gboost.predict(x_test)\n",
    "print('training accuracy is ',r2_score(y_train,y_pred_train))\n",
    "print('testing accuracy is ',r2_score(y_test,y_pred_test))"
   ]
  },
  {
   "cell_type": "code",
   "execution_count": 360,
   "id": "39f90311",
   "metadata": {},
   "outputs": [
    {
     "name": "stderr",
     "output_type": "stream",
     "text": [
      "C:\\Users\\HOME\\AppData\\Local\\Programs\\Python\\Python310\\lib\\site-packages\\sklearn\\model_selection\\_validation.py:372: FitFailedWarning: \n",
      "30 fits failed out of a total of 100.\n",
      "The score on these train-test partitions for these parameters will be set to nan.\n",
      "If these failures are not expected, you can try to debug them by setting error_score='raise'.\n",
      "\n",
      "Below are more details about the failures:\n",
      "--------------------------------------------------------------------------------\n",
      "30 fits failed with the following error:\n",
      "Traceback (most recent call last):\n",
      "  File \"C:\\Users\\HOME\\AppData\\Local\\Programs\\Python\\Python310\\lib\\site-packages\\sklearn\\model_selection\\_validation.py\", line 680, in _fit_and_score\n",
      "    estimator.fit(X_train, y_train, **fit_params)\n",
      "  File \"C:\\Users\\HOME\\AppData\\Local\\Programs\\Python\\Python310\\lib\\site-packages\\sklearn\\ensemble\\_gb.py\", line 586, in fit\n",
      "    n_stages = self._fit_stages(\n",
      "  File \"C:\\Users\\HOME\\AppData\\Local\\Programs\\Python\\Python310\\lib\\site-packages\\sklearn\\ensemble\\_gb.py\", line 663, in _fit_stages\n",
      "    raw_predictions = self._fit_stage(\n",
      "  File \"C:\\Users\\HOME\\AppData\\Local\\Programs\\Python\\Python310\\lib\\site-packages\\sklearn\\ensemble\\_gb.py\", line 246, in _fit_stage\n",
      "    tree.fit(X, residual, sample_weight=sample_weight, check_input=False)\n",
      "  File \"C:\\Users\\HOME\\AppData\\Local\\Programs\\Python\\Python310\\lib\\site-packages\\sklearn\\tree\\_classes.py\", line 1315, in fit\n",
      "    super().fit(\n",
      "  File \"C:\\Users\\HOME\\AppData\\Local\\Programs\\Python\\Python310\\lib\\site-packages\\sklearn\\tree\\_classes.py\", line 250, in fit\n",
      "    raise ValueError(\n",
      "ValueError: min_samples_split must be an integer greater than 1 or a float in (0.0, 1.0]; got the integer 1\n",
      "\n",
      "  warnings.warn(some_fits_failed_message, FitFailedWarning)\n",
      "C:\\Users\\HOME\\AppData\\Local\\Programs\\Python\\Python310\\lib\\site-packages\\sklearn\\model_selection\\_search.py:969: UserWarning: One or more of the test scores are non-finite: [0.00950884 0.67997722 0.65854102 0.4770378  0.41633162        nan\n",
      " 0.65857663        nan        nan 0.33052882]\n",
      "  warnings.warn(\n"
     ]
    },
    {
     "data": {
      "text/plain": [
       "{'n_estimators': 37,\n",
       " 'min_samples_split': 4,\n",
       " 'min_samples_leaf': 4,\n",
       " 'max_depth': 4,\n",
       " 'learning_rate': 0.1}"
      ]
     },
     "execution_count": 360,
     "metadata": {},
     "output_type": "execute_result"
    }
   ],
   "source": [
    "#hyperparameter tuning for gradient boosting regressor\n",
    "param_grid_gd={ 'n_estimators':range(20,100),'learning_rate':np.arange(0,2,0.1),'min_samples_split':range(1,5),\n",
    "    'min_samples_leaf':range(1,5),'max_depth':range(1,5)}\n",
    "r=RandomizedSearchCV(gboost,param_grid_gd,cv=10)\n",
    "r.fit(x_train,y_train)\n",
    "r.best_params_"
   ]
  },
  {
   "cell_type": "code",
   "execution_count": 13,
   "id": "506bcccf",
   "metadata": {},
   "outputs": [
    {
     "name": "stdout",
     "output_type": "stream",
     "text": [
      "training accuracy is  0.8575394099292866\n",
      "testing accuracy is  0.7343274289799953\n"
     ]
    }
   ],
   "source": [
    "x_train,x_test,y_train,y_test=train_test_split(x,y,random_state=43,test_size=0.15)\n",
    "gboost=GradientBoostingRegressor(n_estimators=50, min_samples_split=3,min_samples_leaf=3,max_depth=3,learning_rate=0.1)\n",
    "gboost.fit(x_train,y_train)\n",
    "y_pred_train=gboost.predict(x_train)\n",
    "y_pred_test=gboost.predict(x_test)\n",
    "print('training accuracy is ',r2_score(y_train,y_pred_train))\n",
    "print('testing accuracy is ',r2_score(y_test,y_pred_test))"
   ]
  },
  {
   "cell_type": "markdown",
   "id": "89680f46",
   "metadata": {},
   "source": [
    "# SVM regressor"
   ]
  },
  {
   "cell_type": "code",
   "execution_count": 284,
   "id": "df36742b",
   "metadata": {},
   "outputs": [],
   "source": [
    "from sklearn.svm import SVR"
   ]
  },
  {
   "cell_type": "code",
   "execution_count": 287,
   "id": "465a97b9",
   "metadata": {},
   "outputs": [
    {
     "name": "stdout",
     "output_type": "stream",
     "text": [
      "training accuracy is  0.6208957951229075\n",
      "testing accuracy is  0.5899347771110928\n"
     ]
    }
   ],
   "source": [
    "x_train,x_test,y_train,y_test=train_test_split(x,y,random_state=43,test_size=0.1)\n",
    "sup_VR=SVR()\n",
    "sup_VR.fit(x_train,y_train)\n",
    "sup_VR.fit(x_train,y_train)\n",
    "y_pred_train=sup_VR.predict(x_train)\n",
    "y_pred_test=sup_VR.predict(x_test)\n",
    "print('training accuracy is ',r2_score(y_train,y_pred_train))\n",
    "print('testing accuracy is ',r2_score(y_test,y_pred_test))"
   ]
  },
  {
   "cell_type": "code",
   "execution_count": 303,
   "id": "bffb08cf",
   "metadata": {},
   "outputs": [
    {
     "data": {
      "text/plain": [
       "{'kernel': 'rbf', 'degree': 6}"
      ]
     },
     "execution_count": 303,
     "metadata": {},
     "output_type": "execute_result"
    }
   ],
   "source": [
    "#hyperparameter tuning for svr\n",
    "param_grid_ad={ 'kernel' : ['linear', 'poly', 'rbf', 'sigmoid'],'degree' : range(1,10)}\n",
    "r=RandomizedSearchCV(sup_VR,param_grid_ad,cv=10)\n",
    "r.fit(x_train,y_train)\n",
    "r.best_params_"
   ]
  },
  {
   "cell_type": "code",
   "execution_count": 304,
   "id": "4c7aa9ef",
   "metadata": {},
   "outputs": [
    {
     "name": "stdout",
     "output_type": "stream",
     "text": [
      "training accuracy is  0.6208957951229075\n",
      "testing accuracy is  0.5899347771110928\n"
     ]
    }
   ],
   "source": [
    "x_train,x_test,y_train,y_test=train_test_split(x,y,random_state=43,test_size=0.1)\n",
    "sup_VR=SVR(kernel='rbf',degree=6)\n",
    "sup_VR.fit(x_train,y_train)\n",
    "sup_VR.fit(x_train,y_train)\n",
    "y_pred_train=sup_VR.predict(x_train)\n",
    "y_pred_test=sup_VR.predict(x_test)\n",
    "print('training accuracy is ',r2_score(y_train,y_pred_train))\n",
    "print('testing accuracy is ',r2_score(y_test,y_pred_test))"
   ]
  },
  {
   "cell_type": "markdown",
   "id": "084997c7",
   "metadata": {},
   "source": [
    "# KNN regressor"
   ]
  },
  {
   "cell_type": "code",
   "execution_count": 331,
   "id": "c25cdd26",
   "metadata": {},
   "outputs": [],
   "source": [
    "from sklearn.neighbors import KNeighborsRegressor"
   ]
  },
  {
   "cell_type": "code",
   "execution_count": 334,
   "id": "588efe71",
   "metadata": {},
   "outputs": [
    {
     "name": "stdout",
     "output_type": "stream",
     "text": [
      "training accuracy is  0.76759952988977\n",
      "testing accuracy is  0.6873239799650861\n"
     ]
    }
   ],
   "source": [
    "x_train,x_test,y_train,y_test=train_test_split(x,y,random_state=43,test_size=0.15)\n",
    "knr=KNeighborsRegressor()\n",
    "knr.fit(x_train,y_train)\n",
    "knr.fit(x_train,y_train)\n",
    "y_pred_train=knr.predict(x_train)\n",
    "y_pred_test=knr.predict(x_test)\n",
    "print('training accuracy is ',r2_score(y_train,y_pred_train))\n",
    "print('testing accuracy is ',r2_score(y_test,y_pred_test))"
   ]
  },
  {
   "cell_type": "code",
   "execution_count": 345,
   "id": "7b9db887",
   "metadata": {},
   "outputs": [
    {
     "data": {
      "text/plain": [
       "{'p': 1, 'n_neighbors': 7}"
      ]
     },
     "execution_count": 345,
     "metadata": {},
     "output_type": "execute_result"
    }
   ],
   "source": [
    "#hyperparameter for KNN regressor\n",
    "param_grid_kn={'n_neighbors':range(2,20),'p': [1,2]}\n",
    "r=RandomizedSearchCV(knr,param_grid_kn,cv=10)\n",
    "r.fit(x_train,y_train)\n",
    "r.best_params_"
   ]
  },
  {
   "cell_type": "code",
   "execution_count": 377,
   "id": "d679896c",
   "metadata": {},
   "outputs": [
    {
     "name": "stdout",
     "output_type": "stream",
     "text": [
      "training accuracy is  0.8034850406396054\n",
      "testing accuracy is  0.7028090225526904\n"
     ]
    }
   ],
   "source": [
    "x_train,x_test,y_train,y_test=train_test_split(x,y,random_state=43,test_size=0.15)\n",
    "knr=KNeighborsRegressor(n_neighbors=4,p=1)\n",
    "knr.fit(x_train,y_train)\n",
    "y_pred_train=knr.predict(x_train)\n",
    "y_pred_test=knr.predict(x_test)\n",
    "print('training accuracy is ',r2_score(y_train,y_pred_train))\n",
    "print('testing accuracy is ',r2_score(y_test,y_pred_test))"
   ]
  },
  {
   "cell_type": "markdown",
   "id": "51644779",
   "metadata": {},
   "source": [
    "# Pipeine"
   ]
  },
  {
   "cell_type": "code",
   "execution_count": 14,
   "id": "b9a4c71a",
   "metadata": {},
   "outputs": [
    {
     "data": {
      "text/html": [
       "<div>\n",
       "<style scoped>\n",
       "    .dataframe tbody tr th:only-of-type {\n",
       "        vertical-align: middle;\n",
       "    }\n",
       "\n",
       "    .dataframe tbody tr th {\n",
       "        vertical-align: top;\n",
       "    }\n",
       "\n",
       "    .dataframe thead th {\n",
       "        text-align: right;\n",
       "    }\n",
       "</style>\n",
       "<table border=\"1\" class=\"dataframe\">\n",
       "  <thead>\n",
       "    <tr style=\"text-align: right;\">\n",
       "      <th></th>\n",
       "      <th>X2 house age</th>\n",
       "      <th>X3 distance to the nearest MRT station</th>\n",
       "      <th>X4 number of convenience stores</th>\n",
       "      <th>X5 latitude</th>\n",
       "      <th>X6 longitude</th>\n",
       "      <th>Y house price of unit area</th>\n",
       "    </tr>\n",
       "  </thead>\n",
       "  <tbody>\n",
       "    <tr>\n",
       "      <th>0</th>\n",
       "      <td>32.0</td>\n",
       "      <td>84.87882</td>\n",
       "      <td>10</td>\n",
       "      <td>24.98298</td>\n",
       "      <td>121.54024</td>\n",
       "      <td>37.9</td>\n",
       "    </tr>\n",
       "    <tr>\n",
       "      <th>1</th>\n",
       "      <td>19.5</td>\n",
       "      <td>306.59470</td>\n",
       "      <td>9</td>\n",
       "      <td>24.98034</td>\n",
       "      <td>121.53951</td>\n",
       "      <td>42.2</td>\n",
       "    </tr>\n",
       "    <tr>\n",
       "      <th>2</th>\n",
       "      <td>13.3</td>\n",
       "      <td>561.98450</td>\n",
       "      <td>5</td>\n",
       "      <td>24.98746</td>\n",
       "      <td>121.54391</td>\n",
       "      <td>47.3</td>\n",
       "    </tr>\n",
       "    <tr>\n",
       "      <th>3</th>\n",
       "      <td>13.3</td>\n",
       "      <td>561.98450</td>\n",
       "      <td>5</td>\n",
       "      <td>24.98746</td>\n",
       "      <td>121.54391</td>\n",
       "      <td>54.8</td>\n",
       "    </tr>\n",
       "    <tr>\n",
       "      <th>4</th>\n",
       "      <td>5.0</td>\n",
       "      <td>390.56840</td>\n",
       "      <td>5</td>\n",
       "      <td>24.97937</td>\n",
       "      <td>121.54245</td>\n",
       "      <td>43.1</td>\n",
       "    </tr>\n",
       "    <tr>\n",
       "      <th>...</th>\n",
       "      <td>...</td>\n",
       "      <td>...</td>\n",
       "      <td>...</td>\n",
       "      <td>...</td>\n",
       "      <td>...</td>\n",
       "      <td>...</td>\n",
       "    </tr>\n",
       "    <tr>\n",
       "      <th>409</th>\n",
       "      <td>13.7</td>\n",
       "      <td>4082.01500</td>\n",
       "      <td>0</td>\n",
       "      <td>24.94155</td>\n",
       "      <td>121.50381</td>\n",
       "      <td>15.4</td>\n",
       "    </tr>\n",
       "    <tr>\n",
       "      <th>410</th>\n",
       "      <td>5.6</td>\n",
       "      <td>90.45606</td>\n",
       "      <td>9</td>\n",
       "      <td>24.97433</td>\n",
       "      <td>121.54310</td>\n",
       "      <td>50.0</td>\n",
       "    </tr>\n",
       "    <tr>\n",
       "      <th>411</th>\n",
       "      <td>18.8</td>\n",
       "      <td>390.96960</td>\n",
       "      <td>7</td>\n",
       "      <td>24.97923</td>\n",
       "      <td>121.53986</td>\n",
       "      <td>40.6</td>\n",
       "    </tr>\n",
       "    <tr>\n",
       "      <th>412</th>\n",
       "      <td>8.1</td>\n",
       "      <td>104.81010</td>\n",
       "      <td>5</td>\n",
       "      <td>24.96674</td>\n",
       "      <td>121.54067</td>\n",
       "      <td>52.5</td>\n",
       "    </tr>\n",
       "    <tr>\n",
       "      <th>413</th>\n",
       "      <td>6.5</td>\n",
       "      <td>90.45606</td>\n",
       "      <td>9</td>\n",
       "      <td>24.97433</td>\n",
       "      <td>121.54310</td>\n",
       "      <td>63.9</td>\n",
       "    </tr>\n",
       "  </tbody>\n",
       "</table>\n",
       "<p>414 rows × 6 columns</p>\n",
       "</div>"
      ],
      "text/plain": [
       "     X2 house age  X3 distance to the nearest MRT station  \\\n",
       "0            32.0                                84.87882   \n",
       "1            19.5                               306.59470   \n",
       "2            13.3                               561.98450   \n",
       "3            13.3                               561.98450   \n",
       "4             5.0                               390.56840   \n",
       "..            ...                                     ...   \n",
       "409          13.7                              4082.01500   \n",
       "410           5.6                                90.45606   \n",
       "411          18.8                               390.96960   \n",
       "412           8.1                               104.81010   \n",
       "413           6.5                                90.45606   \n",
       "\n",
       "     X4 number of convenience stores  X5 latitude  X6 longitude  \\\n",
       "0                                 10     24.98298     121.54024   \n",
       "1                                  9     24.98034     121.53951   \n",
       "2                                  5     24.98746     121.54391   \n",
       "3                                  5     24.98746     121.54391   \n",
       "4                                  5     24.97937     121.54245   \n",
       "..                               ...          ...           ...   \n",
       "409                                0     24.94155     121.50381   \n",
       "410                                9     24.97433     121.54310   \n",
       "411                                7     24.97923     121.53986   \n",
       "412                                5     24.96674     121.54067   \n",
       "413                                9     24.97433     121.54310   \n",
       "\n",
       "     Y house price of unit area  \n",
       "0                          37.9  \n",
       "1                          42.2  \n",
       "2                          47.3  \n",
       "3                          54.8  \n",
       "4                          43.1  \n",
       "..                          ...  \n",
       "409                        15.4  \n",
       "410                        50.0  \n",
       "411                        40.6  \n",
       "412                        52.5  \n",
       "413                        63.9  \n",
       "\n",
       "[414 rows x 6 columns]"
      ]
     },
     "execution_count": 14,
     "metadata": {},
     "output_type": "execute_result"
    }
   ],
   "source": [
    "df"
   ]
  },
  {
   "cell_type": "code",
   "execution_count": 15,
   "id": "23165252",
   "metadata": {},
   "outputs": [
    {
     "data": {
      "text/html": [
       "<div>\n",
       "<style scoped>\n",
       "    .dataframe tbody tr th:only-of-type {\n",
       "        vertical-align: middle;\n",
       "    }\n",
       "\n",
       "    .dataframe tbody tr th {\n",
       "        vertical-align: top;\n",
       "    }\n",
       "\n",
       "    .dataframe thead th {\n",
       "        text-align: right;\n",
       "    }\n",
       "</style>\n",
       "<table border=\"1\" class=\"dataframe\">\n",
       "  <thead>\n",
       "    <tr style=\"text-align: right;\">\n",
       "      <th></th>\n",
       "      <th>X2 house age</th>\n",
       "      <th>X3 distance to the nearest MRT station</th>\n",
       "      <th>X4 number of convenience stores</th>\n",
       "      <th>X5 latitude</th>\n",
       "      <th>X6 longitude</th>\n",
       "    </tr>\n",
       "  </thead>\n",
       "  <tbody>\n",
       "    <tr>\n",
       "      <th>0</th>\n",
       "      <td>32.0</td>\n",
       "      <td>84.87882</td>\n",
       "      <td>10</td>\n",
       "      <td>24.98298</td>\n",
       "      <td>121.54024</td>\n",
       "    </tr>\n",
       "    <tr>\n",
       "      <th>1</th>\n",
       "      <td>19.5</td>\n",
       "      <td>306.59470</td>\n",
       "      <td>9</td>\n",
       "      <td>24.98034</td>\n",
       "      <td>121.53951</td>\n",
       "    </tr>\n",
       "    <tr>\n",
       "      <th>2</th>\n",
       "      <td>13.3</td>\n",
       "      <td>561.98450</td>\n",
       "      <td>5</td>\n",
       "      <td>24.98746</td>\n",
       "      <td>121.54391</td>\n",
       "    </tr>\n",
       "    <tr>\n",
       "      <th>3</th>\n",
       "      <td>13.3</td>\n",
       "      <td>561.98450</td>\n",
       "      <td>5</td>\n",
       "      <td>24.98746</td>\n",
       "      <td>121.54391</td>\n",
       "    </tr>\n",
       "    <tr>\n",
       "      <th>4</th>\n",
       "      <td>5.0</td>\n",
       "      <td>390.56840</td>\n",
       "      <td>5</td>\n",
       "      <td>24.97937</td>\n",
       "      <td>121.54245</td>\n",
       "    </tr>\n",
       "    <tr>\n",
       "      <th>...</th>\n",
       "      <td>...</td>\n",
       "      <td>...</td>\n",
       "      <td>...</td>\n",
       "      <td>...</td>\n",
       "      <td>...</td>\n",
       "    </tr>\n",
       "    <tr>\n",
       "      <th>409</th>\n",
       "      <td>13.7</td>\n",
       "      <td>4082.01500</td>\n",
       "      <td>0</td>\n",
       "      <td>24.94155</td>\n",
       "      <td>121.50381</td>\n",
       "    </tr>\n",
       "    <tr>\n",
       "      <th>410</th>\n",
       "      <td>5.6</td>\n",
       "      <td>90.45606</td>\n",
       "      <td>9</td>\n",
       "      <td>24.97433</td>\n",
       "      <td>121.54310</td>\n",
       "    </tr>\n",
       "    <tr>\n",
       "      <th>411</th>\n",
       "      <td>18.8</td>\n",
       "      <td>390.96960</td>\n",
       "      <td>7</td>\n",
       "      <td>24.97923</td>\n",
       "      <td>121.53986</td>\n",
       "    </tr>\n",
       "    <tr>\n",
       "      <th>412</th>\n",
       "      <td>8.1</td>\n",
       "      <td>104.81010</td>\n",
       "      <td>5</td>\n",
       "      <td>24.96674</td>\n",
       "      <td>121.54067</td>\n",
       "    </tr>\n",
       "    <tr>\n",
       "      <th>413</th>\n",
       "      <td>6.5</td>\n",
       "      <td>90.45606</td>\n",
       "      <td>9</td>\n",
       "      <td>24.97433</td>\n",
       "      <td>121.54310</td>\n",
       "    </tr>\n",
       "  </tbody>\n",
       "</table>\n",
       "<p>414 rows × 5 columns</p>\n",
       "</div>"
      ],
      "text/plain": [
       "     X2 house age  X3 distance to the nearest MRT station  \\\n",
       "0            32.0                                84.87882   \n",
       "1            19.5                               306.59470   \n",
       "2            13.3                               561.98450   \n",
       "3            13.3                               561.98450   \n",
       "4             5.0                               390.56840   \n",
       "..            ...                                     ...   \n",
       "409          13.7                              4082.01500   \n",
       "410           5.6                                90.45606   \n",
       "411          18.8                               390.96960   \n",
       "412           8.1                               104.81010   \n",
       "413           6.5                                90.45606   \n",
       "\n",
       "     X4 number of convenience stores  X5 latitude  X6 longitude  \n",
       "0                                 10     24.98298     121.54024  \n",
       "1                                  9     24.98034     121.53951  \n",
       "2                                  5     24.98746     121.54391  \n",
       "3                                  5     24.98746     121.54391  \n",
       "4                                  5     24.97937     121.54245  \n",
       "..                               ...          ...           ...  \n",
       "409                                0     24.94155     121.50381  \n",
       "410                                9     24.97433     121.54310  \n",
       "411                                7     24.97923     121.53986  \n",
       "412                                5     24.96674     121.54067  \n",
       "413                                9     24.97433     121.54310  \n",
       "\n",
       "[414 rows x 5 columns]"
      ]
     },
     "execution_count": 15,
     "metadata": {},
     "output_type": "execute_result"
    }
   ],
   "source": [
    "dfx=df.drop('Y house price of unit area',axis=1)\n",
    "dfx"
   ]
  },
  {
   "cell_type": "code",
   "execution_count": 16,
   "id": "8b07a971",
   "metadata": {},
   "outputs": [
    {
     "data": {
      "text/plain": [
       "0      37.9\n",
       "1      42.2\n",
       "2      47.3\n",
       "3      54.8\n",
       "4      43.1\n",
       "       ... \n",
       "409    15.4\n",
       "410    50.0\n",
       "411    40.6\n",
       "412    52.5\n",
       "413    63.9\n",
       "Name: Y house price of unit area, Length: 414, dtype: float64"
      ]
     },
     "execution_count": 16,
     "metadata": {},
     "output_type": "execute_result"
    }
   ],
   "source": [
    "dfy=df['Y house price of unit area']\n",
    "dfy"
   ]
  },
  {
   "cell_type": "code",
   "execution_count": 17,
   "id": "0ed2bcfd",
   "metadata": {},
   "outputs": [],
   "source": [
    "x_train,x_test,y_train,y_test=train_test_split(dfx,dfy,random_state=43,test_size=0.15)"
   ]
  },
  {
   "cell_type": "code",
   "execution_count": 18,
   "id": "5c9aa8fd",
   "metadata": {},
   "outputs": [],
   "source": [
    "from sklearn.pipeline import make_pipeline\n",
    "from sklearn.compose import ColumnTransformer\n",
    "from sklearn import set_config"
   ]
  },
  {
   "cell_type": "code",
   "execution_count": 19,
   "id": "94187751",
   "metadata": {},
   "outputs": [],
   "source": [
    "s=set_config(display ='diagram')"
   ]
  },
  {
   "cell_type": "code",
   "execution_count": 20,
   "id": "836a1295",
   "metadata": {},
   "outputs": [],
   "source": [
    "ss=StandardScaler()"
   ]
  },
  {
   "cell_type": "code",
   "execution_count": 21,
   "id": "9eca0e0f",
   "metadata": {},
   "outputs": [
    {
     "name": "stdout",
     "output_type": "stream",
     "text": [
      "training accuracy is  0.8575394099292866\n",
      "testing accuracy is  0.7331863386292832\n"
     ]
    }
   ],
   "source": [
    "#for reference \n",
    "gboost=GradientBoostingRegressor(n_estimators=50, min_samples_split=3,min_samples_leaf=3,max_depth=3,learning_rate=0.1)\n",
    "gboost.fit(x_train,y_train)\n",
    "y_pred_train=gboost.predict(x_train)\n",
    "y_pred_test=gboost.predict(x_test)\n",
    "print('training accuracy is ',r2_score(y_train,y_pred_train))\n",
    "print('testing accuracy is ',r2_score(y_test,y_pred_test))"
   ]
  },
  {
   "cell_type": "code",
   "execution_count": 22,
   "id": "c4758eae",
   "metadata": {},
   "outputs": [
    {
     "data": {
      "text/plain": [
       "array([[ 1.25562833, -0.79249504,  2.00740743,  1.12542986,  0.44876222],\n",
       "       [ 0.15708622, -0.61661163,  1.66750286,  0.91244418,  0.40113894],\n",
       "       [-0.38779067, -0.41401527,  0.30788458,  1.48686011,  0.68818339],\n",
       "       ...,\n",
       "       [ 0.09556786, -0.54967846,  0.98769372,  0.82289338,  0.42397202],\n",
       "       [-0.84478419, -0.77668389,  0.30788458, -0.18475479,  0.4768143 ],\n",
       "       [-0.98539758, -0.78807071,  1.66750286,  0.42757905,  0.63534112]])"
      ]
     },
     "execution_count": 22,
     "metadata": {},
     "output_type": "execute_result"
    }
   ],
   "source": [
    "tr1=ColumnTransformer([('Stdscaler',ss,dfx.columns)],remainder='passthrough')\n",
    "tr1.fit_transform(x)"
   ]
  },
  {
   "cell_type": "code",
   "execution_count": 23,
   "id": "ee72d8f9",
   "metadata": {},
   "outputs": [
    {
     "data": {
      "text/html": [
       "<style>#sk-container-id-1 {color: black;background-color: white;}#sk-container-id-1 pre{padding: 0;}#sk-container-id-1 div.sk-toggleable {background-color: white;}#sk-container-id-1 label.sk-toggleable__label {cursor: pointer;display: block;width: 100%;margin-bottom: 0;padding: 0.3em;box-sizing: border-box;text-align: center;}#sk-container-id-1 label.sk-toggleable__label-arrow:before {content: \"▸\";float: left;margin-right: 0.25em;color: #696969;}#sk-container-id-1 label.sk-toggleable__label-arrow:hover:before {color: black;}#sk-container-id-1 div.sk-estimator:hover label.sk-toggleable__label-arrow:before {color: black;}#sk-container-id-1 div.sk-toggleable__content {max-height: 0;max-width: 0;overflow: hidden;text-align: left;background-color: #f0f8ff;}#sk-container-id-1 div.sk-toggleable__content pre {margin: 0.2em;color: black;border-radius: 0.25em;background-color: #f0f8ff;}#sk-container-id-1 input.sk-toggleable__control:checked~div.sk-toggleable__content {max-height: 200px;max-width: 100%;overflow: auto;}#sk-container-id-1 input.sk-toggleable__control:checked~label.sk-toggleable__label-arrow:before {content: \"▾\";}#sk-container-id-1 div.sk-estimator input.sk-toggleable__control:checked~label.sk-toggleable__label {background-color: #d4ebff;}#sk-container-id-1 div.sk-label input.sk-toggleable__control:checked~label.sk-toggleable__label {background-color: #d4ebff;}#sk-container-id-1 input.sk-hidden--visually {border: 0;clip: rect(1px 1px 1px 1px);clip: rect(1px, 1px, 1px, 1px);height: 1px;margin: -1px;overflow: hidden;padding: 0;position: absolute;width: 1px;}#sk-container-id-1 div.sk-estimator {font-family: monospace;background-color: #f0f8ff;border: 1px dotted black;border-radius: 0.25em;box-sizing: border-box;margin-bottom: 0.5em;}#sk-container-id-1 div.sk-estimator:hover {background-color: #d4ebff;}#sk-container-id-1 div.sk-parallel-item::after {content: \"\";width: 100%;border-bottom: 1px solid gray;flex-grow: 1;}#sk-container-id-1 div.sk-label:hover label.sk-toggleable__label {background-color: #d4ebff;}#sk-container-id-1 div.sk-serial::before {content: \"\";position: absolute;border-left: 1px solid gray;box-sizing: border-box;top: 0;bottom: 0;left: 50%;z-index: 0;}#sk-container-id-1 div.sk-serial {display: flex;flex-direction: column;align-items: center;background-color: white;padding-right: 0.2em;padding-left: 0.2em;position: relative;}#sk-container-id-1 div.sk-item {position: relative;z-index: 1;}#sk-container-id-1 div.sk-parallel {display: flex;align-items: stretch;justify-content: center;background-color: white;position: relative;}#sk-container-id-1 div.sk-item::before, #sk-container-id-1 div.sk-parallel-item::before {content: \"\";position: absolute;border-left: 1px solid gray;box-sizing: border-box;top: 0;bottom: 0;left: 50%;z-index: -1;}#sk-container-id-1 div.sk-parallel-item {display: flex;flex-direction: column;z-index: 1;position: relative;background-color: white;}#sk-container-id-1 div.sk-parallel-item:first-child::after {align-self: flex-end;width: 50%;}#sk-container-id-1 div.sk-parallel-item:last-child::after {align-self: flex-start;width: 50%;}#sk-container-id-1 div.sk-parallel-item:only-child::after {width: 0;}#sk-container-id-1 div.sk-dashed-wrapped {border: 1px dashed gray;margin: 0 0.4em 0.5em 0.4em;box-sizing: border-box;padding-bottom: 0.4em;background-color: white;}#sk-container-id-1 div.sk-label label {font-family: monospace;font-weight: bold;display: inline-block;line-height: 1.2em;}#sk-container-id-1 div.sk-label-container {text-align: center;}#sk-container-id-1 div.sk-container {/* jupyter's `normalize.less` sets `[hidden] { display: none; }` but bootstrap.min.css set `[hidden] { display: none !important; }` so we also need the `!important` here to be able to override the default hidden behavior on the sphinx rendered scikit-learn.org. See: https://github.com/scikit-learn/scikit-learn/issues/21755 */display: inline-block !important;position: relative;}#sk-container-id-1 div.sk-text-repr-fallback {display: none;}</style><div id=\"sk-container-id-1\" class=\"sk-top-container\"><div class=\"sk-text-repr-fallback\"><pre>Pipeline(steps=[(&#x27;columntransformer&#x27;,\n",
       "                 ColumnTransformer(remainder=&#x27;passthrough&#x27;,\n",
       "                                   transformers=[(&#x27;Stdscaler&#x27;, StandardScaler(),\n",
       "                                                  Index([&#x27;X2 house age&#x27;, &#x27;X3 distance to the nearest MRT station&#x27;,\n",
       "       &#x27;X4 number of convenience stores&#x27;, &#x27;X5 latitude&#x27;, &#x27;X6 longitude&#x27;],\n",
       "      dtype=&#x27;object&#x27;))])),\n",
       "                (&#x27;gradientboostingregressor&#x27;,\n",
       "                 GradientBoostingRegressor(min_samples_leaf=3,\n",
       "                                           min_samples_split=3,\n",
       "                                           n_estimators=50))])</pre><b>In a Jupyter environment, please rerun this cell to show the HTML representation or trust the notebook. <br />On GitHub, the HTML representation is unable to render, please try loading this page with nbviewer.org.</b></div><div class=\"sk-container\" hidden><div class=\"sk-item sk-dashed-wrapped\"><div class=\"sk-label-container\"><div class=\"sk-label sk-toggleable\"><input class=\"sk-toggleable__control sk-hidden--visually\" id=\"sk-estimator-id-1\" type=\"checkbox\" ><label for=\"sk-estimator-id-1\" class=\"sk-toggleable__label sk-toggleable__label-arrow\">Pipeline</label><div class=\"sk-toggleable__content\"><pre>Pipeline(steps=[(&#x27;columntransformer&#x27;,\n",
       "                 ColumnTransformer(remainder=&#x27;passthrough&#x27;,\n",
       "                                   transformers=[(&#x27;Stdscaler&#x27;, StandardScaler(),\n",
       "                                                  Index([&#x27;X2 house age&#x27;, &#x27;X3 distance to the nearest MRT station&#x27;,\n",
       "       &#x27;X4 number of convenience stores&#x27;, &#x27;X5 latitude&#x27;, &#x27;X6 longitude&#x27;],\n",
       "      dtype=&#x27;object&#x27;))])),\n",
       "                (&#x27;gradientboostingregressor&#x27;,\n",
       "                 GradientBoostingRegressor(min_samples_leaf=3,\n",
       "                                           min_samples_split=3,\n",
       "                                           n_estimators=50))])</pre></div></div></div><div class=\"sk-serial\"><div class=\"sk-item sk-dashed-wrapped\"><div class=\"sk-label-container\"><div class=\"sk-label sk-toggleable\"><input class=\"sk-toggleable__control sk-hidden--visually\" id=\"sk-estimator-id-2\" type=\"checkbox\" ><label for=\"sk-estimator-id-2\" class=\"sk-toggleable__label sk-toggleable__label-arrow\">columntransformer: ColumnTransformer</label><div class=\"sk-toggleable__content\"><pre>ColumnTransformer(remainder=&#x27;passthrough&#x27;,\n",
       "                  transformers=[(&#x27;Stdscaler&#x27;, StandardScaler(),\n",
       "                                 Index([&#x27;X2 house age&#x27;, &#x27;X3 distance to the nearest MRT station&#x27;,\n",
       "       &#x27;X4 number of convenience stores&#x27;, &#x27;X5 latitude&#x27;, &#x27;X6 longitude&#x27;],\n",
       "      dtype=&#x27;object&#x27;))])</pre></div></div></div><div class=\"sk-parallel\"><div class=\"sk-parallel-item\"><div class=\"sk-item\"><div class=\"sk-label-container\"><div class=\"sk-label sk-toggleable\"><input class=\"sk-toggleable__control sk-hidden--visually\" id=\"sk-estimator-id-3\" type=\"checkbox\" ><label for=\"sk-estimator-id-3\" class=\"sk-toggleable__label sk-toggleable__label-arrow\">Stdscaler</label><div class=\"sk-toggleable__content\"><pre>Index([&#x27;X2 house age&#x27;, &#x27;X3 distance to the nearest MRT station&#x27;,\n",
       "       &#x27;X4 number of convenience stores&#x27;, &#x27;X5 latitude&#x27;, &#x27;X6 longitude&#x27;],\n",
       "      dtype=&#x27;object&#x27;)</pre></div></div></div><div class=\"sk-serial\"><div class=\"sk-item\"><div class=\"sk-estimator sk-toggleable\"><input class=\"sk-toggleable__control sk-hidden--visually\" id=\"sk-estimator-id-4\" type=\"checkbox\" ><label for=\"sk-estimator-id-4\" class=\"sk-toggleable__label sk-toggleable__label-arrow\">StandardScaler</label><div class=\"sk-toggleable__content\"><pre>StandardScaler()</pre></div></div></div></div></div></div><div class=\"sk-parallel-item\"><div class=\"sk-item\"><div class=\"sk-label-container\"><div class=\"sk-label sk-toggleable\"><input class=\"sk-toggleable__control sk-hidden--visually\" id=\"sk-estimator-id-5\" type=\"checkbox\" ><label for=\"sk-estimator-id-5\" class=\"sk-toggleable__label sk-toggleable__label-arrow\">remainder</label><div class=\"sk-toggleable__content\"><pre>[]</pre></div></div></div><div class=\"sk-serial\"><div class=\"sk-item\"><div class=\"sk-estimator sk-toggleable\"><input class=\"sk-toggleable__control sk-hidden--visually\" id=\"sk-estimator-id-6\" type=\"checkbox\" ><label for=\"sk-estimator-id-6\" class=\"sk-toggleable__label sk-toggleable__label-arrow\">passthrough</label><div class=\"sk-toggleable__content\"><pre>passthrough</pre></div></div></div></div></div></div></div></div><div class=\"sk-item\"><div class=\"sk-estimator sk-toggleable\"><input class=\"sk-toggleable__control sk-hidden--visually\" id=\"sk-estimator-id-7\" type=\"checkbox\" ><label for=\"sk-estimator-id-7\" class=\"sk-toggleable__label sk-toggleable__label-arrow\">GradientBoostingRegressor</label><div class=\"sk-toggleable__content\"><pre>GradientBoostingRegressor(min_samples_leaf=3, min_samples_split=3,\n",
       "                          n_estimators=50)</pre></div></div></div></div></div></div></div>"
      ],
      "text/plain": [
       "Pipeline(steps=[('columntransformer',\n",
       "                 ColumnTransformer(remainder='passthrough',\n",
       "                                   transformers=[('Stdscaler', StandardScaler(),\n",
       "                                                  Index(['X2 house age', 'X3 distance to the nearest MRT station',\n",
       "       'X4 number of convenience stores', 'X5 latitude', 'X6 longitude'],\n",
       "      dtype='object'))])),\n",
       "                ('gradientboostingregressor',\n",
       "                 GradientBoostingRegressor(min_samples_leaf=3,\n",
       "                                           min_samples_split=3,\n",
       "                                           n_estimators=50))])"
      ]
     },
     "execution_count": 23,
     "metadata": {},
     "output_type": "execute_result"
    }
   ],
   "source": [
    "pipe=make_pipeline(tr1,gboost)\n",
    "pipe"
   ]
  },
  {
   "cell_type": "code",
   "execution_count": 24,
   "id": "3c76c171",
   "metadata": {},
   "outputs": [
    {
     "name": "stdout",
     "output_type": "stream",
     "text": [
      "training accuracy is  0.8575394099292866\n",
      "testing accuracy is  0.7343274289799953\n"
     ]
    }
   ],
   "source": [
    "pipe.fit(x_train,y_train)\n",
    "y_pred_train=pipe.predict(x_train)\n",
    "y_pred_test=pipe.predict(x_test)\n",
    "print('training accuracy is ',r2_score(y_train,y_pred_train))\n",
    "print('testing accuracy is ',r2_score(y_test,y_pred_test))"
   ]
  },
  {
   "cell_type": "markdown",
   "id": "3dc3945a",
   "metadata": {},
   "source": [
    "# New Data prediction on pipe"
   ]
  },
  {
   "cell_type": "code",
   "execution_count": 25,
   "id": "b2e93038",
   "metadata": {},
   "outputs": [
    {
     "data": {
      "text/html": [
       "<div>\n",
       "<style scoped>\n",
       "    .dataframe tbody tr th:only-of-type {\n",
       "        vertical-align: middle;\n",
       "    }\n",
       "\n",
       "    .dataframe tbody tr th {\n",
       "        vertical-align: top;\n",
       "    }\n",
       "\n",
       "    .dataframe thead th {\n",
       "        text-align: right;\n",
       "    }\n",
       "</style>\n",
       "<table border=\"1\" class=\"dataframe\">\n",
       "  <thead>\n",
       "    <tr style=\"text-align: right;\">\n",
       "      <th></th>\n",
       "      <th>X2 house age</th>\n",
       "      <th>X3 distance to the nearest MRT station</th>\n",
       "      <th>X4 number of convenience stores</th>\n",
       "      <th>X5 latitude</th>\n",
       "      <th>X6 longitude</th>\n",
       "    </tr>\n",
       "  </thead>\n",
       "  <tbody>\n",
       "    <tr>\n",
       "      <th>0</th>\n",
       "      <td>32.0</td>\n",
       "      <td>84.87882</td>\n",
       "      <td>10</td>\n",
       "      <td>24.98298</td>\n",
       "      <td>121.54024</td>\n",
       "    </tr>\n",
       "  </tbody>\n",
       "</table>\n",
       "</div>"
      ],
      "text/plain": [
       "   X2 house age  X3 distance to the nearest MRT station  \\\n",
       "0          32.0                                84.87882   \n",
       "\n",
       "   X4 number of convenience stores  X5 latitude  X6 longitude  \n",
       "0                               10     24.98298     121.54024  "
      ]
     },
     "execution_count": 25,
     "metadata": {},
     "output_type": "execute_result"
    }
   ],
   "source": [
    "input1=pd.DataFrame(data=[[32.0,84.87882,10,24.98298,121.54024]],columns=dfx.columns)\n",
    "input1"
   ]
  },
  {
   "cell_type": "code",
   "execution_count": 26,
   "id": "5cd04f48",
   "metadata": {},
   "outputs": [
    {
     "data": {
      "text/plain": [
       "array([42.66191765])"
      ]
     },
     "execution_count": 26,
     "metadata": {},
     "output_type": "execute_result"
    }
   ],
   "source": [
    "pipe.predict(input1)"
   ]
  },
  {
   "cell_type": "code",
   "execution_count": 27,
   "id": "a4e9c30f",
   "metadata": {},
   "outputs": [
    {
     "data": {
      "text/html": [
       "<div>\n",
       "<style scoped>\n",
       "    .dataframe tbody tr th:only-of-type {\n",
       "        vertical-align: middle;\n",
       "    }\n",
       "\n",
       "    .dataframe tbody tr th {\n",
       "        vertical-align: top;\n",
       "    }\n",
       "\n",
       "    .dataframe thead th {\n",
       "        text-align: right;\n",
       "    }\n",
       "</style>\n",
       "<table border=\"1\" class=\"dataframe\">\n",
       "  <thead>\n",
       "    <tr style=\"text-align: right;\">\n",
       "      <th></th>\n",
       "      <th>X2 house age</th>\n",
       "      <th>X3 distance to the nearest MRT station</th>\n",
       "      <th>X4 number of convenience stores</th>\n",
       "      <th>X5 latitude</th>\n",
       "      <th>X6 longitude</th>\n",
       "    </tr>\n",
       "  </thead>\n",
       "  <tbody>\n",
       "    <tr>\n",
       "      <th>0</th>\n",
       "      <td>19.5</td>\n",
       "      <td>306.5947</td>\n",
       "      <td>9</td>\n",
       "      <td>24.98034</td>\n",
       "      <td>121.53951</td>\n",
       "    </tr>\n",
       "  </tbody>\n",
       "</table>\n",
       "</div>"
      ],
      "text/plain": [
       "   X2 house age  X3 distance to the nearest MRT station  \\\n",
       "0          19.5                                306.5947   \n",
       "\n",
       "   X4 number of convenience stores  X5 latitude  X6 longitude  \n",
       "0                                9     24.98034     121.53951  "
      ]
     },
     "execution_count": 27,
     "metadata": {},
     "output_type": "execute_result"
    }
   ],
   "source": [
    "input2=pd.DataFrame(data=[[19.5,306.59470,9,24.98034,121.53951]],columns=dfx.columns)\n",
    "input2"
   ]
  },
  {
   "cell_type": "code",
   "execution_count": 28,
   "id": "31afed45",
   "metadata": {},
   "outputs": [
    {
     "data": {
      "text/plain": [
       "array([47.6658377])"
      ]
     },
     "execution_count": 28,
     "metadata": {},
     "output_type": "execute_result"
    }
   ],
   "source": [
    "pipe.predict(input2)"
   ]
  },
  {
   "cell_type": "markdown",
   "id": "294bdeb1",
   "metadata": {},
   "source": [
    "# Final Pickle fie for app building"
   ]
  },
  {
   "cell_type": "code",
   "execution_count": 29,
   "id": "9bd32f95",
   "metadata": {},
   "outputs": [],
   "source": [
    "import pickle"
   ]
  },
  {
   "cell_type": "code",
   "execution_count": 30,
   "id": "f7426b54",
   "metadata": {},
   "outputs": [],
   "source": [
    "#dump the pipe in pickle with write file\n",
    "pickle.dump(pipe,open('House_Price_Prediction.pkl','wb'))"
   ]
  },
  {
   "cell_type": "code",
   "execution_count": 31,
   "id": "32271fbf",
   "metadata": {},
   "outputs": [
    {
     "data": {
      "text/plain": [
       "array([42.66191765])"
      ]
     },
     "execution_count": 31,
     "metadata": {},
     "output_type": "execute_result"
    }
   ],
   "source": [
    "#testing pickle file\n",
    "p=pickle.load(open('House_Price_Prediction.pkl','rb'))\n",
    "p.predict(input1)"
   ]
  },
  {
   "cell_type": "code",
   "execution_count": 32,
   "id": "470918b0",
   "metadata": {},
   "outputs": [
    {
     "name": "stdout",
     "output_type": "stream",
     "text": [
      "The scikit-learn version is 1.1.3.\n"
     ]
    }
   ],
   "source": [
    "import sklearn\n",
    "print('The scikit-learn version is {}.'.format(sklearn.__version__))"
   ]
  },
  {
   "cell_type": "code",
   "execution_count": null,
   "id": "2d4e32ff",
   "metadata": {},
   "outputs": [],
   "source": []
  },
  {
   "cell_type": "code",
   "execution_count": null,
   "id": "e0afa01e",
   "metadata": {},
   "outputs": [],
   "source": []
  },
  {
   "cell_type": "code",
   "execution_count": null,
   "id": "80e67541",
   "metadata": {},
   "outputs": [],
   "source": []
  },
  {
   "cell_type": "code",
   "execution_count": null,
   "id": "23d61106",
   "metadata": {},
   "outputs": [],
   "source": []
  },
  {
   "cell_type": "code",
   "execution_count": null,
   "id": "cdbf983b",
   "metadata": {},
   "outputs": [],
   "source": []
  },
  {
   "cell_type": "code",
   "execution_count": null,
   "id": "e8533718",
   "metadata": {},
   "outputs": [],
   "source": []
  },
  {
   "cell_type": "code",
   "execution_count": null,
   "id": "e75b4b06",
   "metadata": {},
   "outputs": [],
   "source": []
  },
  {
   "cell_type": "code",
   "execution_count": null,
   "id": "aef5e240",
   "metadata": {},
   "outputs": [],
   "source": []
  },
  {
   "cell_type": "code",
   "execution_count": null,
   "id": "ac894600",
   "metadata": {},
   "outputs": [],
   "source": []
  },
  {
   "cell_type": "code",
   "execution_count": null,
   "id": "b3d99581",
   "metadata": {},
   "outputs": [],
   "source": []
  },
  {
   "cell_type": "code",
   "execution_count": null,
   "id": "c96bf8aa",
   "metadata": {},
   "outputs": [],
   "source": []
  },
  {
   "cell_type": "code",
   "execution_count": null,
   "id": "d84e2cbf",
   "metadata": {},
   "outputs": [],
   "source": []
  },
  {
   "cell_type": "code",
   "execution_count": null,
   "id": "64a1215e",
   "metadata": {},
   "outputs": [],
   "source": []
  },
  {
   "cell_type": "code",
   "execution_count": null,
   "id": "b6f99e6e",
   "metadata": {},
   "outputs": [],
   "source": []
  },
  {
   "cell_type": "code",
   "execution_count": null,
   "id": "49759bc4",
   "metadata": {},
   "outputs": [],
   "source": []
  },
  {
   "cell_type": "code",
   "execution_count": null,
   "id": "73e38a23",
   "metadata": {},
   "outputs": [],
   "source": []
  },
  {
   "cell_type": "code",
   "execution_count": null,
   "id": "e41da8a0",
   "metadata": {},
   "outputs": [],
   "source": []
  },
  {
   "cell_type": "code",
   "execution_count": null,
   "id": "4ac70d87",
   "metadata": {},
   "outputs": [],
   "source": []
  },
  {
   "cell_type": "code",
   "execution_count": null,
   "id": "7dad13cf",
   "metadata": {},
   "outputs": [],
   "source": []
  },
  {
   "cell_type": "code",
   "execution_count": null,
   "id": "149af6e9",
   "metadata": {},
   "outputs": [],
   "source": []
  },
  {
   "cell_type": "code",
   "execution_count": null,
   "id": "006f4e8d",
   "metadata": {},
   "outputs": [],
   "source": []
  },
  {
   "cell_type": "code",
   "execution_count": null,
   "id": "6b5b68a2",
   "metadata": {},
   "outputs": [],
   "source": []
  },
  {
   "cell_type": "code",
   "execution_count": null,
   "id": "a1b7c677",
   "metadata": {},
   "outputs": [],
   "source": []
  },
  {
   "cell_type": "code",
   "execution_count": null,
   "id": "3507f7c6",
   "metadata": {},
   "outputs": [],
   "source": []
  },
  {
   "cell_type": "code",
   "execution_count": null,
   "id": "4163d985",
   "metadata": {},
   "outputs": [],
   "source": []
  },
  {
   "cell_type": "code",
   "execution_count": null,
   "id": "5b2cae1b",
   "metadata": {},
   "outputs": [],
   "source": []
  },
  {
   "cell_type": "code",
   "execution_count": null,
   "id": "1a0dfad0",
   "metadata": {},
   "outputs": [],
   "source": []
  },
  {
   "cell_type": "code",
   "execution_count": null,
   "id": "fca50e64",
   "metadata": {},
   "outputs": [],
   "source": []
  },
  {
   "cell_type": "code",
   "execution_count": null,
   "id": "db16a46b",
   "metadata": {},
   "outputs": [],
   "source": []
  },
  {
   "cell_type": "code",
   "execution_count": null,
   "id": "4ea3d0bb",
   "metadata": {},
   "outputs": [],
   "source": []
  },
  {
   "cell_type": "code",
   "execution_count": null,
   "id": "179f3bcd",
   "metadata": {},
   "outputs": [],
   "source": []
  },
  {
   "cell_type": "code",
   "execution_count": null,
   "id": "0feef27e",
   "metadata": {},
   "outputs": [],
   "source": []
  },
  {
   "cell_type": "code",
   "execution_count": null,
   "id": "fa1b2b27",
   "metadata": {},
   "outputs": [],
   "source": []
  },
  {
   "cell_type": "code",
   "execution_count": null,
   "id": "69083ce2",
   "metadata": {},
   "outputs": [],
   "source": []
  },
  {
   "cell_type": "code",
   "execution_count": null,
   "id": "b00905c0",
   "metadata": {},
   "outputs": [],
   "source": []
  },
  {
   "cell_type": "code",
   "execution_count": null,
   "id": "e4710d05",
   "metadata": {},
   "outputs": [],
   "source": []
  },
  {
   "cell_type": "code",
   "execution_count": null,
   "id": "7e410ee0",
   "metadata": {},
   "outputs": [],
   "source": []
  },
  {
   "cell_type": "code",
   "execution_count": null,
   "id": "4c1d3605",
   "metadata": {},
   "outputs": [],
   "source": []
  },
  {
   "cell_type": "code",
   "execution_count": null,
   "id": "d2978930",
   "metadata": {},
   "outputs": [],
   "source": []
  },
  {
   "cell_type": "code",
   "execution_count": null,
   "id": "8d96a06d",
   "metadata": {},
   "outputs": [],
   "source": []
  },
  {
   "cell_type": "code",
   "execution_count": null,
   "id": "0fcd9790",
   "metadata": {},
   "outputs": [],
   "source": []
  },
  {
   "cell_type": "code",
   "execution_count": null,
   "id": "2ff8b8bb",
   "metadata": {},
   "outputs": [],
   "source": []
  }
 ],
 "metadata": {
  "kernelspec": {
   "display_name": "Python 3 (ipykernel)",
   "language": "python",
   "name": "python3"
  },
  "language_info": {
   "codemirror_mode": {
    "name": "ipython",
    "version": 3
   },
   "file_extension": ".py",
   "mimetype": "text/x-python",
   "name": "python",
   "nbconvert_exporter": "python",
   "pygments_lexer": "ipython3",
   "version": "3.10.2"
  }
 },
 "nbformat": 4,
 "nbformat_minor": 5
}
